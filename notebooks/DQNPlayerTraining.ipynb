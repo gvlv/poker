{
 "cells": [
  {
   "cell_type": "code",
   "execution_count": null,
   "metadata": {
    "collapsed": true
   },
   "outputs": [],
   "source": [
    "import numpy as np\n",
    "import pandas as pd\n",
    "import matplotlib.pyplot as plt\n",
    "%matplotlib inline\n",
    "\n",
    "from pypokerengine.players import BasePokerPlayer\n",
    "from pypokerengine.utils.card_utils import Card, Deck\n",
    "from pypokerengine.api.game import setup_config, start_poker\n",
    "\n",
    "import pickle\n",
    "import tensorflow as tf\n",
    "import random\n",
    "\n",
    "import sys\n",
    "sys.path.insert(0, '../scripts/')\n",
    "\n",
    "import scripts.PlayerModels as pm\n",
    "from scripts.MyEmulator import MyEmulator\n",
    "from scripts.DQNPlayer import DQNPlayer\n",
    "from scripts.util import *"
   ]
  },
  {
   "cell_type": "markdown",
   "metadata": {},
   "source": [
    "### Graph"
   ]
  },
  {
   "cell_type": "code",
   "execution_count": 2,
   "metadata": {
    "collapsed": true
   },
   "outputs": [],
   "source": [
    "def update_target_graph(tf_vars, tau):\n",
    "    total_vars = len(tf_vars)\n",
    "    ops = []\n",
    "    for i, var in enumerate(tf_vars[0:total_vars // 2]):\n",
    "        ops.append(tf_vars[i + total_vars // 2].assign((var.value() * tau) +\n",
    "                                                       (tf_vars[i + total_vars // 2].value() * (1 - tau))))\n",
    "    return ops\n",
    "\n",
    "def update_target(ops, sess):\n",
    "    for op in ops:\n",
    "        sess.run(op)"
   ]
  },
  {
   "cell_type": "markdown",
   "metadata": {},
   "source": [
    "## Training"
   ]
  },
  {
   "cell_type": "code",
   "execution_count": 3,
   "metadata": {
    "collapsed": true
   },
   "outputs": [],
   "source": [
    "batch_size = 128\n",
    "update_freq = 50 # how often to update model\n",
    "y = 0.99 # discount\n",
    "start_E = 1 # starting chance of random action\n",
    "end_E = 0.2 # final chance of random action\n",
    "annealings_steps = 100_000 # how many steps to reduce start_E to end_E\n",
    "num_episodes = 500_000\n",
    "pre_train_steps = 5_000 # how many steps of random action before training begin\n",
    "load_model = False\n",
    "path = 'D:/Work/pokerai/engine/pypokerengine/cache/models/DQN/'\n",
    "h_size = 128 # the size of final conv layer before spliting it into advantage and value streams\n",
    "tau = 0.01 # rate to update target network toward primary network\n",
    "is_dueling = True # whether or not to use dueling architecture"
   ]
  },
  {
   "cell_type": "code",
   "execution_count": 4,
   "metadata": {
    "collapsed": true
   },
   "outputs": [],
   "source": [
    "emul = MyEmulator()\n",
    "emul.set_game_rule(9, 50, 15, 0)\n",
    "my_uuid = '9'\n",
    "players_info = {\n",
    "    \"1\": { \"name\": \"f1\", \"stack\": 1500 },\n",
    "    \"2\": { \"name\": \"f2\", \"stack\": 1500 },\n",
    "    \"3\": { \"name\": \"f3\", \"stack\": 1500 },\n",
    "    \"4\": { \"name\": \"f4\", \"stack\": 1500 },\n",
    "    \"5\": { \"name\": \"f5\", \"stack\": 1500 },\n",
    "    \"6\": { \"name\": \"f6\", \"stack\": 1500 },\n",
    "    \"7\": { \"name\": \"f7\", \"stack\": 1500 },\n",
    "    \"8\": { \"name\": \"f8\", \"stack\": 1500 },\n",
    "    \"9\": { \"name\": \"f9\", \"stack\": 1500 }\n",
    "}\n",
    "\n",
    "def init_emul(my_uuid_):\n",
    "    global my_uuid\n",
    "    my_uuid = my_uuid_\n",
    "    \n",
    "    emul.register_player(\"1\", pm.CallPlayer())\n",
    "    emul.register_player(\"2\", pm.CallPlayer())\n",
    "    emul.register_player(\"3\", pm.FoldPlayer())\n",
    "    emul.register_player(\"4\", pm.FoldPlayer())\n",
    "    emul.register_player(\"5\", pm.HeuristicPlayer())\n",
    "    emul.register_player(\"6\", pm.HeuristicPlayer())\n",
    "    emul.register_player(\"7\", pm.RandomPlayer())\n",
    "    emul.register_player(\"8\", pm.RandomPlayer())\n",
    "    emul.register_player(\"9\", pm.CallPlayer())\n",
    "\n",
    "\n",
    "    players_info = {\n",
    "        \"1\": { \"name\": \"CallPlayer1\", \"stack\": 1500 },\n",
    "        \"2\": { \"name\": \"CallPlayer2\", \"stack\": 1500 },\n",
    "        \"3\": { \"name\": \"FoldPlayer1\", \"stack\": 1500 },\n",
    "        \"4\": { \"name\": \"FoldPlayer2\", \"stack\": 1500 },\n",
    "        \"5\": { \"name\": \"HeuristicPlayer1\", \"stack\": 1500 },\n",
    "        \"6\": { \"name\": \"HeuristicPlayer2\", \"stack\": 1500 },\n",
    "        \"7\": { \"name\": \"RandomPlayer1\", \"stack\": 1500 },\n",
    "        \"8\": { \"name\": \"RandomPlayer2\", \"stack\": 1500 },\n",
    "        \"9\": { \"name\": \"DQN\", \"stack\": 1500 }\n",
    "    }"
   ]
  },
  {
   "cell_type": "code",
   "execution_count": 5,
   "metadata": {
    "collapsed": false
   },
   "outputs": [
    {
     "name": "stdout",
     "output_type": "stream",
     "text": [
      "\nWARNING: The TensorFlow contrib module will not be included in TensorFlow 2.0.\nFor more information, please see:\n  * https://github.com/tensorflow/community/blob/master/rfcs/20180907-contrib-sunset.md\n  * https://github.com/tensorflow/addons\nIf you depend on functionality not listed there, please file an issue.\n\nWARNING:tensorflow:From D:\\Work\\pokerai\\engine\\pypokerengine\\scripts\\DQNPlayer.py:62: conv2d (from tensorflow.python.layers.convolutional) is deprecated and will be removed in a future version.\nInstructions for updating:\nUse keras.layers.conv2d instead.\n"
     ]
    },
    {
     "name": "stdout",
     "output_type": "stream",
     "text": [
      "WARNING:tensorflow:From D:\\Work\\pokerai\\engine\\pypokerengine\\venv\\lib\\site-packages\\tensorflow\\python\\framework\\op_def_library.py:263: colocate_with (from tensorflow.python.framework.ops) is deprecated and will be removed in a future version.\nInstructions for updating:\nColocations handled automatically by placer.\n"
     ]
    },
    {
     "name": "stdout",
     "output_type": "stream",
     "text": [
      "WARNING:tensorflow:From D:\\Work\\pokerai\\engine\\pypokerengine\\venv\\lib\\site-packages\\tensorflow\\contrib\\layers\\python\\layers\\layers.py:1624: flatten (from tensorflow.python.layers.core) is deprecated and will be removed in a future version.\nInstructions for updating:\nUse keras.layers.flatten instead.\n"
     ]
    },
    {
     "name": "stdout",
     "output_type": "stream",
     "text": [
      "WARNING:tensorflow:From D:\\Work\\pokerai\\engine\\pypokerengine\\scripts\\DQNPlayer.py:67: dropout (from tensorflow.python.layers.core) is deprecated and will be removed in a future version.\nInstructions for updating:\nUse keras.layers.dropout instead.\n"
     ]
    },
    {
     "name": "stdout",
     "output_type": "stream",
     "text": [
      "WARNING:tensorflow:From D:\\Work\\pokerai\\engine\\pypokerengine\\scripts\\DQNPlayer.py:69: dense (from tensorflow.python.layers.core) is deprecated and will be removed in a future version.\nInstructions for updating:\nUse keras.layers.dense instead.\n"
     ]
    },
    {
     "name": "stdout",
     "output_type": "stream",
     "text": [
      "WARNING:tensorflow:From D:\\Work\\pokerai\\engine\\pypokerengine\\venv\\lib\\site-packages\\tensorflow\\python\\ops\\math_ops.py:3066: to_int32 (from tensorflow.python.ops.math_ops) is deprecated and will be removed in a future version.\nInstructions for updating:\nUse tf.cast instead.\n"
     ]
    }
   ],
   "source": [
    "tf.reset_default_graph()\n",
    "main_wp = DQNPlayer(h_size, is_double=True)\n",
    "target_wp = DQNPlayer(h_size, is_main=False, is_double=True)"
   ]
  },
  {
   "cell_type": "code",
   "execution_count": 6,
   "metadata": {
    "collapsed": false
   },
   "outputs": [
    {
     "name": "stdout",
     "output_type": "stream",
     "text": [
      "Saved model\n0 4 -13.235291982689992 1 1.5\n"
     ]
    },
    {
     "name": "stdout",
     "output_type": "stream",
     "text": [
      "10 146 11.481380398077249 1 1.5\n"
     ]
    },
    {
     "name": "stdout",
     "output_type": "stream",
     "text": [
      "20 266 -7.632672544341482 1 2.0\n"
     ]
    },
    {
     "name": "stdout",
     "output_type": "stream",
     "text": [
      "30 424 25.285488299812048 1 2.0\n"
     ]
    },
    {
     "name": "stdout",
     "output_type": "stream",
     "text": [
      "40 577 31.86017932239385 1 2.0\n"
     ]
    },
    {
     "name": "stdout",
     "output_type": "stream",
     "text": [
      "50 740 33.36034264880614 1 2.0\n"
     ]
    },
    {
     "name": "stdout",
     "output_type": "stream",
     "text": [
      "60 912 29.36696890740812 1 2.0\n"
     ]
    },
    {
     "name": "stdout",
     "output_type": "stream",
     "text": [
      "70 1002 -7.742110048924362 1 2.0\n"
     ]
    },
    {
     "name": "stdout",
     "output_type": "stream",
     "text": [
      "80 1118 8.66319187495687 1 2.0\n"
     ]
    },
    {
     "name": "stdout",
     "output_type": "stream",
     "text": [
      "90 1299 56.5727371857089 1 2.0\n"
     ]
    },
    {
     "name": "stdout",
     "output_type": "stream",
     "text": [
      "100 1390 11.227229375681556 1 2.0\n"
     ]
    },
    {
     "name": "stdout",
     "output_type": "stream",
     "text": [
      "110 1517 36.389066970581666 1 2.0\n"
     ]
    },
    {
     "name": "stdout",
     "output_type": "stream",
     "text": [
      "120 1717 73.8157887767986 1 3.0\n"
     ]
    },
    {
     "name": "stdout",
     "output_type": "stream",
     "text": [
      "130 1965 58.62507744482991 1 2.0\n"
     ]
    },
    {
     "name": "stdout",
     "output_type": "stream",
     "text": [
      "140 2032 -9.503650101169033 1 2.0\n"
     ]
    },
    {
     "name": "stdout",
     "output_type": "stream",
     "text": [
      "150 2144 9.145879741221318 1 2.0\n"
     ]
    },
    {
     "name": "stdout",
     "output_type": "stream",
     "text": [
      "160 2259 9.223666521636122 1 2.0\n"
     ]
    },
    {
     "name": "stdout",
     "output_type": "stream",
     "text": [
      "170 2378 8.923200579180683 1 2.0\n"
     ]
    },
    {
     "name": "stdout",
     "output_type": "stream",
     "text": [
      "180 2588 47.23370958937998 1 2.0\n"
     ]
    },
    {
     "name": "stdout",
     "output_type": "stream",
     "text": [
      "190 2722 26.371782893803335 1 2.0\n"
     ]
    },
    {
     "name": "stdout",
     "output_type": "stream",
     "text": [
      "200 2911 42.71986903593936 1 2.0\n"
     ]
    },
    {
     "name": "stdout",
     "output_type": "stream",
     "text": [
      "210 3062 29.922684677740715 1 2.0\n"
     ]
    },
    {
     "name": "stdout",
     "output_type": "stream",
     "text": [
      "220 3308 41.24790704357035 1 2.0\n"
     ]
    },
    {
     "name": "stdout",
     "output_type": "stream",
     "text": [
      "230 3358 -9.142300244447052 1 2.0\n"
     ]
    },
    {
     "name": "stdout",
     "output_type": "stream",
     "text": [
      "240 3473 10.178890052908534 1 2.0\n"
     ]
    },
    {
     "name": "stdout",
     "output_type": "stream",
     "text": [
      "250 3587 10.325953006182774 1 2.0\n"
     ]
    },
    {
     "name": "stdout",
     "output_type": "stream",
     "text": [
      "260 3637 -9.243516781340556 1 2.0\n"
     ]
    },
    {
     "name": "stdout",
     "output_type": "stream",
     "text": [
      "270 3768 23.024037131675684 1 2.0\n"
     ]
    },
    {
     "name": "stdout",
     "output_type": "stream",
     "text": [
      "280 3910 -7.31682574513876 1 2.0\n"
     ]
    },
    {
     "name": "stdout",
     "output_type": "stream",
     "text": [
      "290 3976 -9.706468818954999 1 2.0\n"
     ]
    },
    {
     "name": "stdout",
     "output_type": "stream",
     "text": [
      "300 4154 25.072165457842367 1 2.0\n"
     ]
    },
    {
     "name": "stdout",
     "output_type": "stream",
     "text": [
      "310 4292 5.9946245764610815 1 2.0\n"
     ]
    },
    {
     "name": "stdout",
     "output_type": "stream",
     "text": [
      "320 4526 55.04093480619251 1 2.0\n"
     ]
    },
    {
     "name": "stdout",
     "output_type": "stream",
     "text": [
      "330 4691 30.739806370013195 1 2.0\n"
     ]
    },
    {
     "name": "stdout",
     "output_type": "stream",
     "text": [
      "340 4857 18.420678438333177 1 2.0\n"
     ]
    },
    {
     "name": "stdout",
     "output_type": "stream",
     "text": [
      "350 5027 30.317105200290037 0.9997839999999998 2.0\n"
     ]
    },
    {
     "name": "stdout",
     "output_type": "stream",
     "text": [
      "360 5134 4.926775511582418 0.9989279999999989 2.0\n"
     ]
    },
    {
     "name": "stdout",
     "output_type": "stream",
     "text": [
      "370 5288 27.083741384807844 0.9976959999999977 2.0\n"
     ]
    },
    {
     "name": "stdout",
     "output_type": "stream",
     "text": [
      "380 5397 3.2084906906202115 0.9968239999999968 2.0\n"
     ]
    },
    {
     "name": "stdout",
     "output_type": "stream",
     "text": [
      "390 5558 10.875317940715746 0.9955359999999955 2.0\n"
     ]
    },
    {
     "name": "stdout",
     "output_type": "stream",
     "text": [
      "400 5607 -9.053343617866147 0.9951439999999951 2.0\n"
     ]
    },
    {
     "name": "stdout",
     "output_type": "stream",
     "text": [
      "410 5738 9.159885061833876 0.9940959999999941 2.0\n"
     ]
    },
    {
     "name": "stdout",
     "output_type": "stream",
     "text": [
      "420 5847 10.24551313746787 0.9932239999999932 2.0\n"
     ]
    },
    {
     "name": "stdout",
     "output_type": "stream",
     "text": [
      "430 6028 49.13638977814527 0.9917759999999918 2.0\n"
     ]
    },
    {
     "name": "stdout",
     "output_type": "stream",
     "text": [
      "440 6098 9.68086310104685 0.9912159999999912 2.0\n"
     ]
    },
    {
     "name": "stdout",
     "output_type": "stream",
     "text": [
      "450 6238 -11.66219853731896 0.9900959999999901 2.0\n"
     ]
    },
    {
     "name": "stdout",
     "output_type": "stream",
     "text": [
      "460 6363 16.599620487232798 0.9890959999999891 2.0\n"
     ]
    },
    {
     "name": "stdout",
     "output_type": "stream",
     "text": [
      "470 6514 9.321078001719048 0.9878879999999879 2.0\n"
     ]
    },
    {
     "name": "stdout",
     "output_type": "stream",
     "text": [
      "480 6689 31.96809658965334 0.9864879999999865 2.0\n"
     ]
    },
    {
     "name": "stdout",
     "output_type": "stream",
     "text": [
      "490 6751 -10.47001392154446 0.985991999999986 2.0\n"
     ]
    },
    {
     "name": "stdout",
     "output_type": "stream",
     "text": [
      "500 6917 42.707612161795055 0.9846639999999847 2.0\n"
     ]
    },
    {
     "name": "stdout",
     "output_type": "stream",
     "text": [
      "510 7079 11.68266244729477 0.9833679999999834 2.0\n"
     ]
    },
    {
     "name": "stdout",
     "output_type": "stream",
     "text": [
      "520 7173 -8.869902933675286 0.9826159999999826 2.0\n"
     ]
    },
    {
     "name": "stdout",
     "output_type": "stream",
     "text": [
      "530 7367 46.70229531627924 0.9810639999999811 2.0\n"
     ]
    },
    {
     "name": "stdout",
     "output_type": "stream",
     "text": [
      "540 7493 37.54813667480723 0.98005599999998 2.0\n"
     ]
    },
    {
     "name": "stdout",
     "output_type": "stream",
     "text": [
      "550 7602 10.151380554417031 0.9791839999999792 2.0\n"
     ]
    },
    {
     "name": "stdout",
     "output_type": "stream",
     "text": [
      "560 7691 -9.416706209877512 0.9784719999999785 2.0\n"
     ]
    },
    {
     "name": "stdout",
     "output_type": "stream",
     "text": [
      "570 7825 27.438222359589183 0.9773999999999774 2.0\n"
     ]
    },
    {
     "name": "stdout",
     "output_type": "stream",
     "text": [
      "580 7958 10.237614488647326 0.9763359999999763 2.0\n"
     ]
    },
    {
     "name": "stdout",
     "output_type": "stream",
     "text": [
      "590 8198 42.389826055786635 0.9744159999999744 2.0\n"
     ]
    },
    {
     "name": "stdout",
     "output_type": "stream",
     "text": [
      "600 8307 7.647275004629677 0.9735439999999735 2.0\n"
     ]
    },
    {
     "name": "stdout",
     "output_type": "stream",
     "text": [
      "610 8475 51.46361138423058 0.9721999999999722 2.0\n"
     ]
    },
    {
     "name": "stdout",
     "output_type": "stream",
     "text": [
      "620 8639 23.274391939727412 0.9708879999999709 2.0\n"
     ]
    },
    {
     "name": "stdout",
     "output_type": "stream",
     "text": [
      "630 8709 -8.450491357644314 0.9703279999999703 2.0\n"
     ]
    },
    {
     "name": "stdout",
     "output_type": "stream",
     "text": [
      "640 8800 -2.5682380244202934 0.9695999999999696 2.0\n"
     ]
    },
    {
     "name": "stdout",
     "output_type": "stream",
     "text": [
      "650 8920 22.459576216111287 0.9686399999999686 2.0\n"
     ]
    },
    {
     "name": "stdout",
     "output_type": "stream",
     "text": [
      "660 9056 11.513533749782201 0.9675519999999675 2.0\n"
     ]
    },
    {
     "name": "stdout",
     "output_type": "stream",
     "text": [
      "670 9172 6.221426399657265 0.9666239999999666 2.0\n"
     ]
    },
    {
     "name": "stdout",
     "output_type": "stream",
     "text": [
      "680 9404 10.97865986806795 0.9647679999999648 2.0\n"
     ]
    },
    {
     "name": "stdout",
     "output_type": "stream",
     "text": [
      "690 9610 46.90812933960079 0.9631199999999631 2.0\n"
     ]
    },
    {
     "name": "stdout",
     "output_type": "stream",
     "text": [
      "700 9718 5.866372590088184 0.9622559999999623 2.0\n"
     ]
    },
    {
     "name": "stdout",
     "output_type": "stream",
     "text": [
      "710 9862 35.799375449142865 0.9611039999999611 2.0\n"
     ]
    },
    {
     "name": "stdout",
     "output_type": "stream",
     "text": [
      "720 9935 -8.308549595370112 0.9605199999999605 2.0\n"
     ]
    },
    {
     "name": "stdout",
     "output_type": "stream",
     "text": [
      "730 10170 64.17441414840566 0.9586399999999586 2.0\n"
     ]
    },
    {
     "name": "stdout",
     "output_type": "stream",
     "text": [
      "740 10354 40.03204056876406 0.9571679999999572 2.0\n"
     ]
    },
    {
     "name": "stdout",
     "output_type": "stream",
     "text": [
      "750 10572 67.64121216054284 0.9554239999999554 2.0\n"
     ]
    },
    {
     "name": "stdout",
     "output_type": "stream",
     "text": [
      "760 10689 5.372630632935374 0.9544879999999545 2.0\n"
     ]
    },
    {
     "name": "stdout",
     "output_type": "stream",
     "text": [
      "770 10834 14.794746893953729 0.9533279999999533 2.0\n"
     ]
    },
    {
     "name": "stdout",
     "output_type": "stream",
     "text": [
      "780 10965 6.284251292178834 0.9522799999999523 2.0\n"
     ]
    },
    {
     "name": "stdout",
     "output_type": "stream",
     "text": [
      "790 11053 11.1117310309892 0.9515759999999516 2.0\n"
     ]
    },
    {
     "name": "stdout",
     "output_type": "stream",
     "text": [
      "800 11219 24.147220691516928 0.9502479999999502 2.0\n"
     ]
    },
    {
     "name": "stdout",
     "output_type": "stream",
     "text": [
      "810 11333 -7.6429723065930375 0.9493359999999493 2.0\n"
     ]
    },
    {
     "name": "stdout",
     "output_type": "stream",
     "text": [
      "820 11434 8.101179689910728 0.9485279999999485 2.0\n"
     ]
    },
    {
     "name": "stdout",
     "output_type": "stream",
     "text": [
      "830 11576 17.235231285253782 0.9473919999999474 2.0\n"
     ]
    },
    {
     "name": "stdout",
     "output_type": "stream",
     "text": [
      "840 11790 16.56093893045807 0.9456799999999457 2.0\n"
     ]
    },
    {
     "name": "stdout",
     "output_type": "stream",
     "text": [
      "850 11926 7.431023822392021 0.9445919999999446 2.0\n"
     ]
    },
    {
     "name": "stdout",
     "output_type": "stream",
     "text": [
      "860 12068 26.0350931819825 0.9434559999999435 2.0\n"
     ]
    },
    {
     "name": "stdout",
     "output_type": "stream",
     "text": [
      "870 12219 30.55484616063448 0.9422479999999422 2.0\n"
     ]
    },
    {
     "name": "stdout",
     "output_type": "stream",
     "text": [
      "880 12288 -7.959764051352812 0.9416959999999417 2.0\n"
     ]
    },
    {
     "name": "stdout",
     "output_type": "stream",
     "text": [
      "890 12444 32.583494787281516 0.9404479999999404 2.0\n"
     ]
    },
    {
     "name": "stdout",
     "output_type": "stream",
     "text": [
      "900 12621 10.796094281064805 0.939031999999939 2.0\n"
     ]
    },
    {
     "name": "stdout",
     "output_type": "stream",
     "text": [
      "910 12700 7.308900167793579 0.9383999999999384 2.0\n"
     ]
    },
    {
     "name": "stdout",
     "output_type": "stream",
     "text": [
      "920 12840 24.556142073602132 0.9372799999999373 2.0\n"
     ]
    },
    {
     "name": "stdout",
     "output_type": "stream",
     "text": [
      "930 13069 66.13635845340298 0.9354479999999354 2.0\n"
     ]
    },
    {
     "name": "stdout",
     "output_type": "stream",
     "text": [
      "940 13177 -9.204331543053732 0.9345839999999346 2.0\n"
     ]
    },
    {
     "name": "stdout",
     "output_type": "stream",
     "text": [
      "950 13326 32.85009641712204 0.9333919999999334 2.0\n"
     ]
    },
    {
     "name": "stdout",
     "output_type": "stream",
     "text": [
      "960 13400 7.491414229460382 0.9327999999999328 2.0\n"
     ]
    },
    {
     "name": "stdout",
     "output_type": "stream",
     "text": [
      "970 13549 25.43931356124416 0.9316079999999316 2.0\n"
     ]
    },
    {
     "name": "stdout",
     "output_type": "stream",
     "text": [
      "980 13709 33.37762492549497 0.9303279999999303 2.0\n"
     ]
    },
    {
     "name": "stdout",
     "output_type": "stream",
     "text": [
      "990 13816 5.284541672525306 0.9294719999999295 2.0\n"
     ]
    },
    {
     "name": "stdout",
     "output_type": "stream",
     "text": [
      "Saved model\n1000 13969 28.82128840298543 0.9282479999999282 2.0\n"
     ]
    },
    {
     "name": "stdout",
     "output_type": "stream",
     "text": [
      "1010 14131 23.495844823141866 0.926951999999927 2.0\n"
     ]
    },
    {
     "name": "stdout",
     "output_type": "stream",
     "text": [
      "1020 14178 -11.519340896677798 0.9265759999999266 2.0\n"
     ]
    },
    {
     "name": "stdout",
     "output_type": "stream",
     "text": [
      "1030 14432 36.731384829407574 0.9245439999999245 2.0\n"
     ]
    },
    {
     "name": "stdout",
     "output_type": "stream",
     "text": [
      "1040 14557 4.226482540818772 0.9235439999999235 2.0\n"
     ]
    },
    {
     "name": "stdout",
     "output_type": "stream",
     "text": [
      "1050 14680 4.729096880443189 0.9225599999999226 2.0\n"
     ]
    },
    {
     "name": "stdout",
     "output_type": "stream",
     "text": [
      "1060 14810 33.424746819577415 0.9215199999999215 2.0\n"
     ]
    },
    {
     "name": "stdout",
     "output_type": "stream",
     "text": [
      "1070 14942 26.99802925149988 0.9204639999999205 2.0\n"
     ]
    },
    {
     "name": "stdout",
     "output_type": "stream",
     "text": [
      "1080 15009 -8.238113064326722 0.9199279999999199 2.0\n"
     ]
    },
    {
     "name": "stdout",
     "output_type": "stream",
     "text": [
      "1090 15047 -8.265736502964678 0.9196239999999196 2.0\n"
     ]
    },
    {
     "name": "stdout",
     "output_type": "stream",
     "text": [
      "1100 15268 39.5000232617909 0.9178559999999178 2.0\n"
     ]
    },
    {
     "name": "stdout",
     "output_type": "stream",
     "text": [
      "1110 15406 33.9287064727437 0.9167519999999167 2.0\n"
     ]
    },
    {
     "name": "stdout",
     "output_type": "stream",
     "text": [
      "1120 15694 79.24300925821879 0.9144479999999144 2.0\n"
     ]
    },
    {
     "name": "stdout",
     "output_type": "stream",
     "text": [
      "1130 15837 2.7973883653498377 0.9133039999999133 2.0\n"
     ]
    },
    {
     "name": "stdout",
     "output_type": "stream",
     "text": [
      "1140 16121 88.52021520345531 0.911031999999911 2.0\n"
     ]
    },
    {
     "name": "stdout",
     "output_type": "stream",
     "text": [
      "1150 16287 22.346998313297227 0.9097039999999097 2.0\n"
     ]
    },
    {
     "name": "stdout",
     "output_type": "stream",
     "text": [
      "1160 16511 36.968761132644126 0.9079119999999079 2.0\n"
     ]
    },
    {
     "name": "stdout",
     "output_type": "stream",
     "text": [
      "1170 16635 8.906752060492387 0.9069199999999069 2.0\n"
     ]
    },
    {
     "name": "stdout",
     "output_type": "stream",
     "text": [
      "1180 16820 47.115817355512846 0.9054399999999054 2.0\n"
     ]
    },
    {
     "name": "stdout",
     "output_type": "stream",
     "text": [
      "1190 17001 31.326680559826606 0.903991999999904 2.0\n"
     ]
    },
    {
     "name": "stdout",
     "output_type": "stream",
     "text": [
      "1200 17098 13.5898516970727 0.9032159999999032 2.0\n"
     ]
    },
    {
     "name": "stdout",
     "output_type": "stream",
     "text": [
      "1210 17334 4.836353763355918 0.9013279999999013 2.0\n"
     ]
    },
    {
     "name": "stdout",
     "output_type": "stream",
     "text": [
      "1220 17589 66.40691753113991 0.8992879999998993 2.0\n"
     ]
    },
    {
     "name": "stdout",
     "output_type": "stream",
     "text": [
      "1230 17778 43.72583403874931 0.8977759999998978 2.0\n"
     ]
    },
    {
     "name": "stdout",
     "output_type": "stream",
     "text": [
      "1240 17863 0.33044336364326454 0.8970959999998971 2.0\n"
     ]
    },
    {
     "name": "stdout",
     "output_type": "stream",
     "text": [
      "1250 18108 55.53092828542477 0.8951359999998951 2.0\n"
     ]
    },
    {
     "name": "stdout",
     "output_type": "stream",
     "text": [
      "1260 18240 2.7238458087537416 0.8940799999998941 2.0\n"
     ]
    },
    {
     "name": "stdout",
     "output_type": "stream",
     "text": [
      "1270 18334 10.201698259364992 0.8933279999998933 2.0\n"
     ]
    },
    {
     "name": "stdout",
     "output_type": "stream",
     "text": [
      "1280 18475 34.36359081842386 0.8921999999998922 2.0\n"
     ]
    },
    {
     "name": "stdout",
     "output_type": "stream",
     "text": [
      "1290 18622 27.564732169856903 0.891023999999891 2.0\n"
     ]
    },
    {
     "name": "stdout",
     "output_type": "stream",
     "text": [
      "1300 18776 8.934886823859644 0.8897919999998898 2.0\n"
     ]
    },
    {
     "name": "stdout",
     "output_type": "stream",
     "text": [
      "1310 18891 21.800857291725986 0.8888719999998889 2.0\n"
     ]
    },
    {
     "name": "stdout",
     "output_type": "stream",
     "text": [
      "1320 18962 -8.966435421339611 0.8883039999998883 2.0\n"
     ]
    },
    {
     "name": "stdout",
     "output_type": "stream",
     "text": [
      "1330 19168 22.18118528715815 0.8866559999998866 2.0\n"
     ]
    },
    {
     "name": "stdout",
     "output_type": "stream",
     "text": [
      "1340 19251 12.95951291302003 0.885991999999886 2.0\n"
     ]
    },
    {
     "name": "stdout",
     "output_type": "stream",
     "text": [
      "1350 19394 7.878177620219216 0.8848479999998848 2.0\n"
     ]
    },
    {
     "name": "stdout",
     "output_type": "stream",
     "text": [
      "1360 19505 14.292298243815306 0.883959999999884 2.0\n"
     ]
    },
    {
     "name": "stdout",
     "output_type": "stream",
     "text": [
      "1370 19646 9.543005567294767 0.8828319999998828 2.0\n"
     ]
    },
    {
     "name": "stdout",
     "output_type": "stream",
     "text": [
      "1380 19880 56.296763362100776 0.880959999999881 2.0\n"
     ]
    },
    {
     "name": "stdout",
     "output_type": "stream",
     "text": [
      "1390 20002 10.162489152608584 0.87998399999988 2.0\n"
     ]
    },
    {
     "name": "stdout",
     "output_type": "stream",
     "text": [
      "1400 20079 -9.649527022649853 0.8793679999998794 2.0\n"
     ]
    },
    {
     "name": "stdout",
     "output_type": "stream",
     "text": [
      "1410 20165 10.872603487926911 0.8786799999998787 2.0\n"
     ]
    },
    {
     "name": "stdout",
     "output_type": "stream",
     "text": [
      "1420 20362 32.448730015836205 0.8771039999998771 2.0\n"
     ]
    },
    {
     "name": "stdout",
     "output_type": "stream",
     "text": [
      "1430 20487 -9.603946415522314 0.8761039999998761 2.0\n"
     ]
    },
    {
     "name": "stdout",
     "output_type": "stream",
     "text": [
      "1440 20557 -10.848786245853962 0.8755439999998755 2.0\n"
     ]
    },
    {
     "name": "stdout",
     "output_type": "stream",
     "text": [
      "1450 20707 28.576120617444058 0.8743439999998743 2.0\n"
     ]
    },
    {
     "name": "stdout",
     "output_type": "stream",
     "text": [
      "1460 20848 24.7687837369546 0.8732159999998732 2.0\n"
     ]
    },
    {
     "name": "stdout",
     "output_type": "stream",
     "text": [
      "1470 21044 37.34207400077271 0.8716479999998716 2.0\n"
     ]
    },
    {
     "name": "stdout",
     "output_type": "stream",
     "text": [
      "1480 21239 48.03003036095641 0.8700879999998701 2.0\n"
     ]
    },
    {
     "name": "stdout",
     "output_type": "stream",
     "text": [
      "1490 21342 13.181519634309328 0.8692639999998693 2.0\n"
     ]
    },
    {
     "name": "stdout",
     "output_type": "stream",
     "text": [
      "1500 21453 12.67901477060692 0.8683759999998684 2.0\n"
     ]
    },
    {
     "name": "stdout",
     "output_type": "stream",
     "text": [
      "1510 21615 34.99642319462514 0.8670799999998671 2.0\n"
     ]
    },
    {
     "name": "stdout",
     "output_type": "stream",
     "text": [
      "1520 21732 6.936482757373019 0.8661439999998661 2.0\n"
     ]
    },
    {
     "name": "stdout",
     "output_type": "stream",
     "text": [
      "1530 21821 -2.056910589995355 0.8654319999998654 2.0\n"
     ]
    },
    {
     "name": "stdout",
     "output_type": "stream",
     "text": [
      "1540 21980 21.10817394727081 0.8641599999998641 2.0\n"
     ]
    },
    {
     "name": "stdout",
     "output_type": "stream",
     "text": [
      "1550 22148 46.333846617638415 0.8628159999998628 2.0\n"
     ]
    },
    {
     "name": "stdout",
     "output_type": "stream",
     "text": [
      "1560 22199 -9.72574093494579 0.8624079999998624 2.0\n"
     ]
    },
    {
     "name": "stdout",
     "output_type": "stream",
     "text": [
      "1570 22387 29.19678378203495 0.8609039999998609 2.0\n"
     ]
    },
    {
     "name": "stdout",
     "output_type": "stream",
     "text": [
      "1580 22416 -5.54625555442471 0.8606719999998607 2.0\n"
     ]
    },
    {
     "name": "stdout",
     "output_type": "stream",
     "text": [
      "1590 22538 13.339524253864559 0.8596959999998597 2.0\n"
     ]
    },
    {
     "name": "stdout",
     "output_type": "stream",
     "text": [
      "1600 22684 36.84166459823894 0.8585279999998585 2.0\n"
     ]
    },
    {
     "name": "stdout",
     "output_type": "stream",
     "text": [
      "1610 22809 30.985646930542096 0.8575279999998575 2.0\n"
     ]
    },
    {
     "name": "stdout",
     "output_type": "stream",
     "text": [
      "1620 22997 44.18239674438323 0.856023999999856 2.0\n"
     ]
    },
    {
     "name": "stdout",
     "output_type": "stream",
     "text": [
      "1630 23129 13.809737478661736 0.854967999999855 2.0\n"
     ]
    },
    {
     "name": "stdout",
     "output_type": "stream",
     "text": [
      "1640 23366 69.3333974562372 0.8530719999998531 2.0\n"
     ]
    },
    {
     "name": "stdout",
     "output_type": "stream",
     "text": [
      "1650 23469 7.913102581714748 0.8522479999998522 2.0\n"
     ]
    },
    {
     "name": "stdout",
     "output_type": "stream",
     "text": [
      "1660 23616 28.939329489744665 0.8510719999998511 2.0\n"
     ]
    },
    {
     "name": "stdout",
     "output_type": "stream",
     "text": [
      "1670 23730 13.901452140656797 0.8501599999998501 2.0\n"
     ]
    },
    {
     "name": "stdout",
     "output_type": "stream",
     "text": [
      "1680 23868 -11.024725854182389 0.849055999999849 2.0\n"
     ]
    },
    {
     "name": "stdout",
     "output_type": "stream",
     "text": [
      "1690 24038 3.4876360971828233 0.8476959999998477 2.0\n"
     ]
    },
    {
     "name": "stdout",
     "output_type": "stream",
     "text": [
      "1700 24230 30.40848558905177 0.8461599999998461 2.0\n"
     ]
    },
    {
     "name": "stdout",
     "output_type": "stream",
     "text": [
      "1710 24491 57.26135095595997 0.8440719999998441 2.0\n"
     ]
    },
    {
     "name": "stdout",
     "output_type": "stream",
     "text": [
      "1720 24599 6.185721693557605 0.8432079999998432 2.0\n"
     ]
    },
    {
     "name": "stdout",
     "output_type": "stream",
     "text": [
      "1730 24674 -10.93465443717584 0.8426079999998426 2.0\n"
     ]
    },
    {
     "name": "stdout",
     "output_type": "stream",
     "text": [
      "1740 24811 35.153144364873164 0.8415119999998415 2.0\n"
     ]
    },
    {
     "name": "stdout",
     "output_type": "stream",
     "text": [
      "1750 24950 31.99475803660689 0.8403999999998404 2.0\n"
     ]
    },
    {
     "name": "stdout",
     "output_type": "stream",
     "text": [
      "1760 25086 11.614831673252862 0.8393119999998393 2.0\n"
     ]
    },
    {
     "name": "stdout",
     "output_type": "stream",
     "text": [
      "1770 25235 9.941824356721705 0.8381199999998381 2.0\n"
     ]
    },
    {
     "name": "stdout",
     "output_type": "stream",
     "text": [
      "1780 25401 -0.7402040251929791 0.8367919999998368 2.0\n"
     ]
    },
    {
     "name": "stdout",
     "output_type": "stream",
     "text": [
      "1790 25484 -9.865875717120293 0.8361279999998361 2.0\n"
     ]
    },
    {
     "name": "stdout",
     "output_type": "stream",
     "text": [
      "1800 25570 -7.565682619177698 0.8354399999998354 2.0\n"
     ]
    },
    {
     "name": "stdout",
     "output_type": "stream",
     "text": [
      "1810 25703 13.253741649749003 0.8343759999998344 2.0\n"
     ]
    },
    {
     "name": "stdout",
     "output_type": "stream",
     "text": [
      "1820 25846 26.63986189406552 0.8332319999998332 2.0\n"
     ]
    },
    {
     "name": "stdout",
     "output_type": "stream",
     "text": [
      "1830 26150 86.17329892850614 0.8307999999998308 2.0\n"
     ]
    },
    {
     "name": "stdout",
     "output_type": "stream",
     "text": [
      "1840 26269 10.026375177970227 0.8298479999998298 2.0\n"
     ]
    },
    {
     "name": "stdout",
     "output_type": "stream",
     "text": [
      "1850 26379 10.885209994047408 0.828967999999829 2.0\n"
     ]
    },
    {
     "name": "stdout",
     "output_type": "stream",
     "text": [
      "1860 26529 27.201985241400383 0.8277679999998278 2.0\n"
     ]
    },
    {
     "name": "stdout",
     "output_type": "stream",
     "text": [
      "1870 26625 -2.482207083041885 0.826999999999827 2.0\n"
     ]
    },
    {
     "name": "stdout",
     "output_type": "stream",
     "text": [
      "1880 26719 8.06844392215386 0.8262479999998262 2.0\n"
     ]
    },
    {
     "name": "stdout",
     "output_type": "stream",
     "text": [
      "1890 26850 10.599601440552771 0.8251999999998252 2.0\n"
     ]
    },
    {
     "name": "stdout",
     "output_type": "stream",
     "text": [
      "1900 26988 -9.63057141328316 0.8240959999998241 2.0\n"
     ]
    },
    {
     "name": "stdout",
     "output_type": "stream",
     "text": [
      "1910 27213 64.47924961273628 0.8222959999998223 2.0\n"
     ]
    },
    {
     "name": "stdout",
     "output_type": "stream",
     "text": [
      "1920 27405 33.386653635280744 0.8207599999998207 2.0\n"
     ]
    },
    {
     "name": "stdout",
     "output_type": "stream",
     "text": [
      "1930 27520 11.463987884880051 0.8198399999998198 2.0\n"
     ]
    },
    {
     "name": "stdout",
     "output_type": "stream",
     "text": [
      "1940 27619 8.67239497080471 0.819047999999819 2.0\n"
     ]
    },
    {
     "name": "stdout",
     "output_type": "stream",
     "text": [
      "1950 27759 7.356882154556848 0.8179279999998179 2.0\n"
     ]
    },
    {
     "name": "stdout",
     "output_type": "stream",
     "text": [
      "1960 27939 31.722050561725183 0.8164879999998165 2.0\n"
     ]
    },
    {
     "name": "stdout",
     "output_type": "stream",
     "text": [
      "1970 28031 -4.233155737737353 0.8157519999998157 2.0\n"
     ]
    },
    {
     "name": "stdout",
     "output_type": "stream",
     "text": [
      "1980 28265 47.48198204822468 0.8138799999998139 2.0\n"
     ]
    },
    {
     "name": "stdout",
     "output_type": "stream",
     "text": [
      "1990 28374 2.5801106936102856 0.813007999999813 2.0\n"
     ]
    },
    {
     "name": "stdout",
     "output_type": "stream",
     "text": [
      "Saved model\n2000 28546 26.903726349263383 0.8116319999998116 2.0\n"
     ]
    },
    {
     "name": "stdout",
     "output_type": "stream",
     "text": [
      "2010 28708 9.763638062381736 0.8103359999998103 2.0\n"
     ]
    },
    {
     "name": "stdout",
     "output_type": "stream",
     "text": [
      "2020 28830 10.125955123213215 0.8093599999998093 2.0\n"
     ]
    },
    {
     "name": "stdout",
     "output_type": "stream",
     "text": [
      "2030 28995 5.547913764198345 0.808039999999808 2.0\n"
     ]
    },
    {
     "name": "stdout",
     "output_type": "stream",
     "text": [
      "2040 29221 47.14877037439736 0.8062319999998062 2.0\n"
     ]
    },
    {
     "name": "stdout",
     "output_type": "stream",
     "text": [
      "2050 29363 37.98746327904474 0.8050959999998051 2.0\n"
     ]
    },
    {
     "name": "stdout",
     "output_type": "stream",
     "text": [
      "2060 29464 12.910104431136299 0.8042879999998043 2.0\n"
     ]
    },
    {
     "name": "stdout",
     "output_type": "stream",
     "text": [
      "2070 29650 44.24729133123917 0.8027999999998028 2.0\n"
     ]
    },
    {
     "name": "stdout",
     "output_type": "stream",
     "text": [
      "2080 29840 38.9243913306244 0.8012799999998013 2.0\n"
     ]
    },
    {
     "name": "stdout",
     "output_type": "stream",
     "text": [
      "2090 30010 11.509946348980815 0.7999199999997999 2.0\n"
     ]
    },
    {
     "name": "stdout",
     "output_type": "stream",
     "text": [
      "2100 30195 48.1721077545414 0.7984399999997984 2.0\n"
     ]
    },
    {
     "name": "stdout",
     "output_type": "stream",
     "text": [
      "2110 30420 35.87898736774199 0.7966399999997966 2.0\n"
     ]
    },
    {
     "name": "stdout",
     "output_type": "stream",
     "text": [
      "2120 30471 -8.619088596998493 0.7962319999997962 2.0\n"
     ]
    },
    {
     "name": "stdout",
     "output_type": "stream",
     "text": [
      "2130 30600 7.87998994958145 0.7951999999997952 2.0\n"
     ]
    },
    {
     "name": "stdout",
     "output_type": "stream",
     "text": [
      "2140 30682 8.999793990877459 0.7945439999997945 2.0\n"
     ]
    },
    {
     "name": "stdout",
     "output_type": "stream",
     "text": [
      "2150 30817 5.753471670876417 0.7934639999997934 2.0\n"
     ]
    },
    {
     "name": "stdout",
     "output_type": "stream",
     "text": [
      "2160 30911 11.35270145763278 0.7927119999997927 2.0\n"
     ]
    },
    {
     "name": "stdout",
     "output_type": "stream",
     "text": [
      "2170 31084 32.76698745683416 0.7913279999997913 2.0\n"
     ]
    },
    {
     "name": "stdout",
     "output_type": "stream",
     "text": [
      "2180 31289 47.04522862498177 0.7896879999997897 2.0\n"
     ]
    },
    {
     "name": "stdout",
     "output_type": "stream",
     "text": [
      "2190 31459 29.578803522808794 0.7883279999997883 2.0\n"
     ]
    },
    {
     "name": "stdout",
     "output_type": "stream",
     "text": [
      "2200 31535 -6.811589662473878 0.7877199999997877 2.0\n"
     ]
    },
    {
     "name": "stdout",
     "output_type": "stream",
     "text": [
      "2210 31599 -11.631157255457458 0.7872079999997872 2.0\n"
     ]
    },
    {
     "name": "stdout",
     "output_type": "stream",
     "text": [
      "2220 31678 -9.398711067198416 0.7865759999997866 2.0\n"
     ]
    },
    {
     "name": "stdout",
     "output_type": "stream",
     "text": [
      "2230 31754 -10.59777559825266 0.785967999999786 2.0\n"
     ]
    },
    {
     "name": "stdout",
     "output_type": "stream",
     "text": [
      "2240 31968 51.28500736484234 0.7842559999997842 2.0\n"
     ]
    },
    {
     "name": "stdout",
     "output_type": "stream",
     "text": [
      "2250 32094 11.850187684415426 0.7832479999997832 2.0\n"
     ]
    },
    {
     "name": "stdout",
     "output_type": "stream",
     "text": [
      "2260 32237 23.568597544176647 0.7821039999997821 2.0\n"
     ]
    },
    {
     "name": "stdout",
     "output_type": "stream",
     "text": [
      "2270 32460 32.70966506221237 0.7803199999997803 2.0\n"
     ]
    },
    {
     "name": "stdout",
     "output_type": "stream",
     "text": [
      "2280 32676 49.874481788028355 0.7785919999997786 2.0\n"
     ]
    },
    {
     "name": "stdout",
     "output_type": "stream",
     "text": [
      "2290 32872 48.01581798578899 0.777023999999777 2.0\n"
     ]
    },
    {
     "name": "stdout",
     "output_type": "stream",
     "text": [
      "2300 33029 25.148027077906683 0.7757679999997757 2.0\n"
     ]
    },
    {
     "name": "stdout",
     "output_type": "stream",
     "text": [
      "2310 33238 40.617914886529306 0.7740959999997741 2.0\n"
     ]
    },
    {
     "name": "stdout",
     "output_type": "stream",
     "text": [
      "2320 33404 53.1448011474493 0.7727679999997727 2.0\n"
     ]
    },
    {
     "name": "stdout",
     "output_type": "stream",
     "text": [
      "2330 33552 24.765586168684127 0.7715839999997716 2.0\n"
     ]
    },
    {
     "name": "stdout",
     "output_type": "stream",
     "text": [
      "2340 33728 28.217389663624083 0.7701759999997702 2.0\n"
     ]
    },
    {
     "name": "stdout",
     "output_type": "stream",
     "text": [
      "2350 33827 7.725429728350136 0.7693839999997694 2.0\n"
     ]
    },
    {
     "name": "stdout",
     "output_type": "stream",
     "text": [
      "2360 34004 25.76611817861699 0.767967999999768 2.0\n"
     ]
    },
    {
     "name": "stdout",
     "output_type": "stream",
     "text": [
      "2370 34168 9.25996203542425 0.7666559999997666 2.0\n"
     ]
    },
    {
     "name": "stdout",
     "output_type": "stream",
     "text": [
      "2380 34349 8.107226850380881 0.7652079999997652 2.0\n"
     ]
    },
    {
     "name": "stdout",
     "output_type": "stream",
     "text": [
      "2390 34470 6.320324260505012 0.7642399999997642 2.0\n"
     ]
    },
    {
     "name": "stdout",
     "output_type": "stream",
     "text": [
      "2400 34596 11.55549120715433 0.7632319999997632 2.0\n"
     ]
    },
    {
     "name": "stdout",
     "output_type": "stream",
     "text": [
      "2410 34749 4.077595691536023 0.762007999999762 2.0\n"
     ]
    },
    {
     "name": "stdout",
     "output_type": "stream",
     "text": [
      "2420 34903 27.008721268698782 0.7607759999997608 2.0\n"
     ]
    },
    {
     "name": "stdout",
     "output_type": "stream",
     "text": [
      "2430 35130 67.28656011487931 0.7589599999997589 2.0\n"
     ]
    },
    {
     "name": "stdout",
     "output_type": "stream",
     "text": [
      "2440 35265 3.1756267425655706 0.7578799999997579 2.0\n"
     ]
    },
    {
     "name": "stdout",
     "output_type": "stream",
     "text": [
      "2450 35388 -6.500287013668208 0.7568959999997569 2.0\n"
     ]
    },
    {
     "name": "stdout",
     "output_type": "stream",
     "text": [
      "2460 35573 24.732138573240594 0.7554159999997554 2.0\n"
     ]
    },
    {
     "name": "stdout",
     "output_type": "stream",
     "text": [
      "2470 35702 8.849273854270066 0.7543839999997544 2.0\n"
     ]
    },
    {
     "name": "stdout",
     "output_type": "stream",
     "text": [
      "2480 35844 7.578761018611685 0.7532479999997532 2.0\n"
     ]
    },
    {
     "name": "stdout",
     "output_type": "stream",
     "text": [
      "2490 35996 29.5114143465898 0.752031999999752 2.0\n"
     ]
    },
    {
     "name": "stdout",
     "output_type": "stream",
     "text": [
      "2500 36104 13.172668013976079 0.7511679999997511 2.0\n"
     ]
    },
    {
     "name": "stdout",
     "output_type": "stream",
     "text": [
      "2510 36247 10.055738103573153 0.75002399999975 2.0\n"
     ]
    },
    {
     "name": "stdout",
     "output_type": "stream",
     "text": [
      "2520 36377 6.153348355681947 0.748983999999749 2.0\n"
     ]
    },
    {
     "name": "stdout",
     "output_type": "stream",
     "text": [
      "2530 36519 23.674925152222922 0.7478479999997478 2.0\n"
     ]
    },
    {
     "name": "stdout",
     "output_type": "stream",
     "text": [
      "2540 36631 -9.614634798327272 0.7469519999997469 2.0\n"
     ]
    },
    {
     "name": "stdout",
     "output_type": "stream",
     "text": [
      "2550 36759 5.02300363729534 0.7459279999997459 2.0\n"
     ]
    },
    {
     "name": "stdout",
     "output_type": "stream",
     "text": [
      "2560 36930 5.264179495139297 0.7445599999997445 2.0\n"
     ]
    },
    {
     "name": "stdout",
     "output_type": "stream",
     "text": [
      "2570 37028 13.713612034629582 0.7437759999997438 2.0\n"
     ]
    },
    {
     "name": "stdout",
     "output_type": "stream",
     "text": [
      "2580 37198 27.883882855897745 0.7424159999997424 2.0\n"
     ]
    },
    {
     "name": "stdout",
     "output_type": "stream",
     "text": [
      "2590 37302 -11.883529024518069 0.7415839999997416 2.0\n"
     ]
    },
    {
     "name": "stdout",
     "output_type": "stream",
     "text": [
      "2600 37446 25.01421563914034 0.7404319999997404 2.0\n"
     ]
    },
    {
     "name": "stdout",
     "output_type": "stream",
     "text": [
      "2610 37515 -8.865314341344387 0.7398799999997399 2.0\n"
     ]
    },
    {
     "name": "stdout",
     "output_type": "stream",
     "text": [
      "2620 37707 28.854046388783622 0.7383439999997383 2.0\n"
     ]
    },
    {
     "name": "stdout",
     "output_type": "stream",
     "text": [
      "2630 37834 -13.775002890525812 0.7373279999997373 2.0\n"
     ]
    },
    {
     "name": "stdout",
     "output_type": "stream",
     "text": [
      "2640 37914 7.723658482565145 0.7366879999997367 2.0\n"
     ]
    },
    {
     "name": "stdout",
     "output_type": "stream",
     "text": [
      "2650 38062 27.537855148117394 0.7355039999997355 2.0\n"
     ]
    },
    {
     "name": "stdout",
     "output_type": "stream",
     "text": [
      "2660 38131 -4.179396707632225 0.7349519999997349 2.0\n"
     ]
    },
    {
     "name": "stdout",
     "output_type": "stream",
     "text": [
      "2670 38244 6.754557326629235 0.734047999999734 2.0\n"
     ]
    },
    {
     "name": "stdout",
     "output_type": "stream",
     "text": [
      "2680 38457 12.137490833021223 0.7323439999997323 2.0\n"
     ]
    },
    {
     "name": "stdout",
     "output_type": "stream",
     "text": [
      "2690 38560 -0.6256739214422222 0.7315199999997315 2.0\n"
     ]
    },
    {
     "name": "stdout",
     "output_type": "stream",
     "text": [
      "2700 38859 48.64982790879103 0.7291279999997291 2.0\n"
     ]
    },
    {
     "name": "stdout",
     "output_type": "stream",
     "text": [
      "2710 38966 11.184806725120321 0.7282719999997282 2.0\n"
     ]
    },
    {
     "name": "stdout",
     "output_type": "stream",
     "text": [
      "2720 39093 8.707548191446596 0.7272559999997272 2.0\n"
     ]
    },
    {
     "name": "stdout",
     "output_type": "stream",
     "text": [
      "2730 39208 8.398375530661637 0.7263359999997263 2.0\n"
     ]
    },
    {
     "name": "stdout",
     "output_type": "stream",
     "text": [
      "2740 39335 -11.900816420683322 0.7253199999997253 2.0\n"
     ]
    },
    {
     "name": "stdout",
     "output_type": "stream",
     "text": [
      "2750 39418 13.876255670452412 0.7246559999997246 2.0\n"
     ]
    },
    {
     "name": "stdout",
     "output_type": "stream",
     "text": [
      "2760 39544 13.04514110167998 0.7236479999997236 2.0\n"
     ]
    },
    {
     "name": "stdout",
     "output_type": "stream",
     "text": [
      "2770 39734 28.799409932821266 0.7221279999997221 2.0\n"
     ]
    },
    {
     "name": "stdout",
     "output_type": "stream",
     "text": [
      "2780 39814 -9.399799108599064 0.7214879999997215 2.0\n"
     ]
    },
    {
     "name": "stdout",
     "output_type": "stream",
     "text": [
      "2790 39946 26.457406052732807 0.7204319999997204 2.0\n"
     ]
    },
    {
     "name": "stdout",
     "output_type": "stream",
     "text": [
      "2800 40042 -9.539231003201463 0.7196639999997196 2.0\n"
     ]
    },
    {
     "name": "stdout",
     "output_type": "stream",
     "text": [
      "2810 40279 57.78945394979007 0.7177679999997177 2.0\n"
     ]
    },
    {
     "name": "stdout",
     "output_type": "stream",
     "text": [
      "2820 40416 -5.408666830661861 0.7166719999997166 2.0\n"
     ]
    },
    {
     "name": "stdout",
     "output_type": "stream",
     "text": [
      "2830 40679 70.80524139259765 0.7145679999997145 2.0\n"
     ]
    },
    {
     "name": "stdout",
     "output_type": "stream",
     "text": [
      "2840 40882 4.452123113748032 0.7129439999997129 2.0\n"
     ]
    },
    {
     "name": "stdout",
     "output_type": "stream",
     "text": [
      "2850 41043 14.945165352704631 0.7116559999997116 2.0\n"
     ]
    },
    {
     "name": "stdout",
     "output_type": "stream",
     "text": [
      "2860 41107 -10.444283460975006 0.7111439999997111 2.0\n"
     ]
    },
    {
     "name": "stdout",
     "output_type": "stream",
     "text": [
      "2870 41261 8.077443847991475 0.7099119999997099 2.0\n"
     ]
    },
    {
     "name": "stdout",
     "output_type": "stream",
     "text": [
      "2880 41379 11.289119134831713 0.7089679999997089 2.0\n"
     ]
    },
    {
     "name": "stdout",
     "output_type": "stream",
     "text": [
      "2890 41518 9.958654782857518 0.7078559999997078 2.0\n"
     ]
    },
    {
     "name": "stdout",
     "output_type": "stream",
     "text": [
      "2900 41701 12.883849865768 0.7063919999997064 2.0\n"
     ]
    },
    {
     "name": "stdout",
     "output_type": "stream",
     "text": [
      "2910 41870 30.51084363229981 0.705039999999705 2.0\n"
     ]
    },
    {
     "name": "stdout",
     "output_type": "stream",
     "text": [
      "2920 42172 36.670473571985816 0.7026239999997026 2.0\n"
     ]
    },
    {
     "name": "stdout",
     "output_type": "stream",
     "text": [
      "2930 42256 -6.899527485082605 0.7019519999997019 2.0\n"
     ]
    },
    {
     "name": "stdout",
     "output_type": "stream",
     "text": [
      "2940 42511 65.30408635199638 0.6999119999996999 2.0\n"
     ]
    },
    {
     "name": "stdout",
     "output_type": "stream",
     "text": [
      "2950 42610 15.80289467167197 0.6991199999996991 3.0\n"
     ]
    },
    {
     "name": "stdout",
     "output_type": "stream",
     "text": [
      "2960 42736 2.1503760341944953 0.6981119999996981 2.0\n"
     ]
    },
    {
     "name": "stdout",
     "output_type": "stream",
     "text": [
      "2970 42846 -11.578885024682583 0.6972319999996972 2.0\n"
     ]
    },
    {
     "name": "stdout",
     "output_type": "stream",
     "text": [
      "2980 42992 6.658820418604404 0.696063999999696 2.0\n"
     ]
    },
    {
     "name": "stdout",
     "output_type": "stream",
     "text": [
      "2990 43233 24.10311098503958 0.6941359999996941 2.0\n"
     ]
    },
    {
     "name": "stdout",
     "output_type": "stream",
     "text": [
      "WARNING:tensorflow:From D:\\Work\\pokerai\\engine\\pypokerengine\\venv\\lib\\site-packages\\tensorflow\\python\\training\\saver.py:966: remove_checkpoint (from tensorflow.python.training.checkpoint_management) is deprecated and will be removed in a future version.\nInstructions for updating:\nUse standard file APIs to delete files with this prefix.\n"
     ]
    },
    {
     "name": "stdout",
     "output_type": "stream",
     "text": [
      "Saved model\n3000 43397 4.2855021294588935 0.6928239999996928 2.0\n"
     ]
    },
    {
     "name": "stdout",
     "output_type": "stream",
     "text": [
      "3010 43571 28.935363880975 0.6914319999996914 2.0\n"
     ]
    },
    {
     "name": "stdout",
     "output_type": "stream",
     "text": [
      "3020 43738 9.592359677601866 0.6900959999996901 2.0\n"
     ]
    },
    {
     "name": "stdout",
     "output_type": "stream",
     "text": [
      "3030 43873 23.827487669845773 0.689015999999689 1.0\n"
     ]
    },
    {
     "name": "stdout",
     "output_type": "stream",
     "text": [
      "3040 44039 29.253466606147747 0.6876879999996877 2.0\n"
     ]
    },
    {
     "name": "stdout",
     "output_type": "stream",
     "text": [
      "3050 44237 11.364730804714707 0.6861039999996861 2.0\n"
     ]
    },
    {
     "name": "stdout",
     "output_type": "stream",
     "text": [
      "3060 44424 21.8136425058975 0.6846079999996846 2.0\n"
     ]
    },
    {
     "name": "stdout",
     "output_type": "stream",
     "text": [
      "3070 44578 -13.252066308960005 0.6833759999996833 2.0\n"
     ]
    },
    {
     "name": "stdout",
     "output_type": "stream",
     "text": [
      "3080 44772 25.599526652593077 0.6818239999996818 2.0\n"
     ]
    },
    {
     "name": "stdout",
     "output_type": "stream",
     "text": [
      "3090 45016 28.541081355155562 0.6798719999996798 2.0\n"
     ]
    },
    {
     "name": "stdout",
     "output_type": "stream",
     "text": [
      "3100 45207 21.84819316895132 0.6783439999996783 2.0\n"
     ]
    },
    {
     "name": "stdout",
     "output_type": "stream",
     "text": [
      "3110 45331 12.49032164217785 0.6773519999996773 2.0\n"
     ]
    },
    {
     "name": "stdout",
     "output_type": "stream",
     "text": [
      "3120 45444 -9.993177118715195 0.6764479999996764 2.0\n"
     ]
    },
    {
     "name": "stdout",
     "output_type": "stream",
     "text": [
      "3130 45525 -11.993949819445572 0.6757999999996758 2.0\n"
     ]
    },
    {
     "name": "stdout",
     "output_type": "stream",
     "text": [
      "3140 45620 -8.941319003067896 0.675039999999675 2.0\n"
     ]
    },
    {
     "name": "stdout",
     "output_type": "stream",
     "text": [
      "3150 45751 36.50117688890486 0.673991999999674 2.0\n"
     ]
    },
    {
     "name": "stdout",
     "output_type": "stream",
     "text": [
      "3160 45896 6.486799069075441 0.6728319999996728 2.0\n"
     ]
    },
    {
     "name": "stdout",
     "output_type": "stream",
     "text": [
      "3170 46073 21.25763294511287 0.6714159999996714 2.0\n"
     ]
    },
    {
     "name": "stdout",
     "output_type": "stream",
     "text": [
      "3180 46176 9.971756158923183 0.6705919999996706 2.0\n"
     ]
    },
    {
     "name": "stdout",
     "output_type": "stream",
     "text": [
      "3190 46295 7.342780946367886 0.6696399999996696 2.0\n"
     ]
    },
    {
     "name": "stdout",
     "output_type": "stream",
     "text": [
      "3200 46448 4.236074841421313 0.6684159999996684 2.0\n"
     ]
    },
    {
     "name": "stdout",
     "output_type": "stream",
     "text": [
      "3210 46575 9.737981469288748 0.6673999999996674 2.0\n"
     ]
    },
    {
     "name": "stdout",
     "output_type": "stream",
     "text": [
      "3220 46686 12.635426230856691 0.6665119999996665 2.0\n"
     ]
    },
    {
     "name": "stdout",
     "output_type": "stream",
     "text": [
      "3230 46797 10.114741380616952 0.6656239999996656 2.0\n"
     ]
    },
    {
     "name": "stdout",
     "output_type": "stream",
     "text": [
      "3240 47057 46.920132387494185 0.6635439999996635 2.0\n"
     ]
    },
    {
     "name": "stdout",
     "output_type": "stream",
     "text": [
      "3250 47324 68.96778878788682 0.6614079999996614 2.0\n"
     ]
    },
    {
     "name": "stdout",
     "output_type": "stream",
     "text": [
      "3260 47474 11.280532166775757 0.6602079999996602 2.0\n"
     ]
    },
    {
     "name": "stdout",
     "output_type": "stream",
     "text": [
      "3270 47572 7.746250151925517 0.6594239999996594 2.0\n"
     ]
    },
    {
     "name": "stdout",
     "output_type": "stream",
     "text": [
      "3280 47663 -7.385677884908235 0.6586959999996587 2.0\n"
     ]
    },
    {
     "name": "stdout",
     "output_type": "stream",
     "text": [
      "3290 47829 25.21104029433969 0.6573679999996573 2.0\n"
     ]
    },
    {
     "name": "stdout",
     "output_type": "stream",
     "text": [
      "3300 48084 51.94264409323766 0.6553279999996553 2.0\n"
     ]
    },
    {
     "name": "stdout",
     "output_type": "stream",
     "text": [
      "3310 48281 43.435842151478504 0.6537519999996537 3.0\n"
     ]
    },
    {
     "name": "stdout",
     "output_type": "stream",
     "text": [
      "3320 48425 1.8266199360118371 0.6525999999996526 2.0\n"
     ]
    },
    {
     "name": "stdout",
     "output_type": "stream",
     "text": [
      "3330 48615 24.285301233492714 0.651079999999651 2.0\n"
     ]
    },
    {
     "name": "stdout",
     "output_type": "stream",
     "text": [
      "3340 48776 11.565852098152538 0.6497919999996498 2.0\n"
     ]
    },
    {
     "name": "stdout",
     "output_type": "stream",
     "text": [
      "3350 48875 -9.56316025925226 0.648999999999649 2.0\n"
     ]
    },
    {
     "name": "stdout",
     "output_type": "stream",
     "text": [
      "3360 49052 51.81143094885222 0.6475839999996476 2.0\n"
     ]
    },
    {
     "name": "stdout",
     "output_type": "stream",
     "text": [
      "3370 49094 -8.41282422161786 0.6472479999996472 2.0\n"
     ]
    },
    {
     "name": "stdout",
     "output_type": "stream",
     "text": [
      "3380 49214 -10.592799266654863 0.6462879999996463 2.0\n"
     ]
    },
    {
     "name": "stdout",
     "output_type": "stream",
     "text": [
      "3390 49489 49.92020030820213 0.6440879999996441 2.0\n"
     ]
    },
    {
     "name": "stdout",
     "output_type": "stream",
     "text": [
      "3400 49717 14.494260456880891 0.6422639999996422 2.0\n"
     ]
    },
    {
     "name": "stdout",
     "output_type": "stream",
     "text": [
      "3410 49994 39.48473964362993 0.64004799999964 2.0\n"
     ]
    },
    {
     "name": "stdout",
     "output_type": "stream",
     "text": [
      "3420 50129 6.090666087126444 0.6389679999996389 2.0\n"
     ]
    },
    {
     "name": "stdout",
     "output_type": "stream",
     "text": [
      "3430 50205 -10.235754576052061 0.6383599999996383 2.0\n"
     ]
    },
    {
     "name": "stdout",
     "output_type": "stream",
     "text": [
      "3440 50327 -11.307028995725602 0.6373839999996374 2.0\n"
     ]
    },
    {
     "name": "stdout",
     "output_type": "stream",
     "text": [
      "3450 50452 -12.597541826784328 0.6363839999996364 2.0\n"
     ]
    },
    {
     "name": "stdout",
     "output_type": "stream",
     "text": [
      "3460 50563 -4.731462691651499 0.6354959999996355 2.0\n"
     ]
    },
    {
     "name": "stdout",
     "output_type": "stream",
     "text": [
      "3470 50741 14.956976361495112 0.634071999999634 2.5\n"
     ]
    },
    {
     "name": "stdout",
     "output_type": "stream",
     "text": [
      "3480 50913 18.86782256549159 0.6326959999996327 2.0\n"
     ]
    },
    {
     "name": "stdout",
     "output_type": "stream",
     "text": [
      "3490 51113 -0.6710699681579925 0.6310959999996311 1.0\n"
     ]
    },
    {
     "name": "stdout",
     "output_type": "stream",
     "text": [
      "3500 51265 34.221185052886966 0.6298799999996298 2.0\n"
     ]
    },
    {
     "name": "stdout",
     "output_type": "stream",
     "text": [
      "3510 51364 -9.842785192863039 0.629087999999629 2.0\n"
     ]
    },
    {
     "name": "stdout",
     "output_type": "stream",
     "text": [
      "3520 51525 9.763321911555431 0.6277999999996278 2.0\n"
     ]
    },
    {
     "name": "stdout",
     "output_type": "stream",
     "text": [
      "3530 51713 7.961801163929676 0.6262959999996263 2.0\n"
     ]
    },
    {
     "name": "stdout",
     "output_type": "stream",
     "text": [
      "3540 51862 28.581470171213812 0.6251039999996251 2.0\n"
     ]
    },
    {
     "name": "stdout",
     "output_type": "stream",
     "text": [
      "3550 51996 -13.323354113887348 0.624031999999624 2.0\n"
     ]
    },
    {
     "name": "stdout",
     "output_type": "stream",
     "text": [
      "3560 52054 -7.722666964233102 0.6235679999996235 2.0\n"
     ]
    },
    {
     "name": "stdout",
     "output_type": "stream",
     "text": [
      "3570 52228 31.069268540976548 0.6221759999996221 2.0\n"
     ]
    },
    {
     "name": "stdout",
     "output_type": "stream",
     "text": [
      "3580 52328 13.147835252542862 0.6213759999996213 2.0\n"
     ]
    },
    {
     "name": "stdout",
     "output_type": "stream",
     "text": [
      "3590 52447 -13.1011693302009 0.6204239999996204 2.0\n"
     ]
    },
    {
     "name": "stdout",
     "output_type": "stream",
     "text": [
      "3600 52587 4.980113342813038 0.6193039999996193 2.0\n"
     ]
    },
    {
     "name": "stdout",
     "output_type": "stream",
     "text": [
      "3610 52837 29.603806832492516 0.6173039999996173 2.0\n"
     ]
    },
    {
     "name": "stdout",
     "output_type": "stream",
     "text": [
      "3620 52962 9.626718600229031 0.6163039999996163 2.0\n"
     ]
    },
    {
     "name": "stdout",
     "output_type": "stream",
     "text": [
      "3630 53132 30.660064972858134 0.6149439999996149 2.0\n"
     ]
    },
    {
     "name": "stdout",
     "output_type": "stream",
     "text": [
      "3640 53299 25.229651394059545 0.6136079999996136 2.0\n"
     ]
    },
    {
     "name": "stdout",
     "output_type": "stream",
     "text": [
      "3650 53438 3.055914263905797 0.6124959999996125 2.0\n"
     ]
    },
    {
     "name": "stdout",
     "output_type": "stream",
     "text": [
      "3660 53567 -10.566108177127543 0.6114639999996114 2.0\n"
     ]
    },
    {
     "name": "stdout",
     "output_type": "stream",
     "text": [
      "3670 53749 30.42870298270405 0.61000799999961 2.0\n"
     ]
    },
    {
     "name": "stdout",
     "output_type": "stream",
     "text": [
      "3680 53965 24.01176259669261 0.6082799999996082 1.0\n"
     ]
    },
    {
     "name": "stdout",
     "output_type": "stream",
     "text": [
      "3690 54259 96.40314109700265 0.6059279999996059 3.0\n"
     ]
    },
    {
     "name": "stdout",
     "output_type": "stream",
     "text": [
      "3700 54404 -8.718844099520172 0.6047679999996047 2.0\n"
     ]
    },
    {
     "name": "stdout",
     "output_type": "stream",
     "text": [
      "3710 54697 72.02941174099526 0.6024239999996024 2.0\n"
     ]
    },
    {
     "name": "stdout",
     "output_type": "stream",
     "text": [
      "3720 54971 91.73891701684985 0.6002319999996002 2.0\n"
     ]
    },
    {
     "name": "stdout",
     "output_type": "stream",
     "text": [
      "3730 55131 7.1199657155994105 0.5989519999995989 2.0\n"
     ]
    },
    {
     "name": "stdout",
     "output_type": "stream",
     "text": [
      "3740 55243 -9.420270237108287 0.598055999999598 2.0\n"
     ]
    },
    {
     "name": "stdout",
     "output_type": "stream",
     "text": [
      "3750 55329 15.227652244052456 0.5973679999995973 2.0\n"
     ]
    },
    {
     "name": "stdout",
     "output_type": "stream",
     "text": [
      "3760 55581 61.35634998386566 0.5953519999995953 2.0\n"
     ]
    },
    {
     "name": "stdout",
     "output_type": "stream",
     "text": [
      "3770 55753 -8.84251062624963 0.5939759999995939 2.0\n"
     ]
    },
    {
     "name": "stdout",
     "output_type": "stream",
     "text": [
      "3780 55933 -8.682425510136117 0.5925359999995925 2.0\n"
     ]
    },
    {
     "name": "stdout",
     "output_type": "stream",
     "text": [
      "3790 56168 49.658515643508125 0.5906559999995906 2.0\n"
     ]
    },
    {
     "name": "stdout",
     "output_type": "stream",
     "text": [
      "3800 56290 -10.763842661036856 0.5896799999995896 2.0\n"
     ]
    },
    {
     "name": "stdout",
     "output_type": "stream",
     "text": [
      "3810 56508 17.023085905904814 0.5879359999995879 1.0\n"
     ]
    },
    {
     "name": "stdout",
     "output_type": "stream",
     "text": [
      "3820 56735 35.24177195411148 0.5861199999995861 2.0\n"
     ]
    },
    {
     "name": "stdout",
     "output_type": "stream",
     "text": [
      "3830 56869 6.371937702128808 0.585047999999585 2.0\n"
     ]
    },
    {
     "name": "stdout",
     "output_type": "stream",
     "text": [
      "3840 57083 4.669844470102731 0.5833359999995833 2.0\n"
     ]
    },
    {
     "name": "stdout",
     "output_type": "stream",
     "text": [
      "3850 57174 -1.4268708435075443 0.5826079999995826 2.0\n"
     ]
    },
    {
     "name": "stdout",
     "output_type": "stream",
     "text": [
      "3860 57316 28.65702496463723 0.5814719999995814 2.0\n"
     ]
    },
    {
     "name": "stdout",
     "output_type": "stream",
     "text": [
      "3870 57582 51.69547808451593 0.5793439999995793 2.0\n"
     ]
    },
    {
     "name": "stdout",
     "output_type": "stream",
     "text": [
      "3880 57731 7.625693962528118 0.5781519999995781 2.0\n"
     ]
    },
    {
     "name": "stdout",
     "output_type": "stream",
     "text": [
      "3890 57988 65.22582382584052 0.5760959999995761 2.0\n"
     ]
    },
    {
     "name": "stdout",
     "output_type": "stream",
     "text": [
      "3900 58163 21.851048787577298 0.5746959999995747 2.0\n"
     ]
    },
    {
     "name": "stdout",
     "output_type": "stream",
     "text": [
      "3910 58395 33.075911813008666 0.5728399999995728 2.5\n"
     ]
    },
    {
     "name": "stdout",
     "output_type": "stream",
     "text": [
      "3920 58507 9.281564003833166 0.5719439999995719 2.0\n"
     ]
    },
    {
     "name": "stdout",
     "output_type": "stream",
     "text": [
      "3930 58667 30.54829261874486 0.5706639999995706 2.0\n"
     ]
    },
    {
     "name": "stdout",
     "output_type": "stream",
     "text": [
      "3940 58790 -12.699241870684817 0.5696799999995696 2.0\n"
     ]
    },
    {
     "name": "stdout",
     "output_type": "stream",
     "text": [
      "3950 58935 9.404517618286075 0.5685199999995685 2.0\n"
     ]
    },
    {
     "name": "stdout",
     "output_type": "stream",
     "text": [
      "3960 59056 2.478112042078265 0.5675519999995675 2.0\n"
     ]
    },
    {
     "name": "stdout",
     "output_type": "stream",
     "text": [
      "3970 59339 9.288559190863136 0.5652879999995652 2.0\n"
     ]
    },
    {
     "name": "stdout",
     "output_type": "stream",
     "text": [
      "3980 59533 7.485700256508489 0.5637359999995637 2.0\n"
     ]
    },
    {
     "name": "stdout",
     "output_type": "stream",
     "text": [
      "3990 59687 33.90891525060247 0.5625039999995625 2.0\n"
     ]
    },
    {
     "name": "stdout",
     "output_type": "stream",
     "text": [
      "Saved model\n4000 59826 9.740412042075661 0.5613919999995614 2.0\n"
     ]
    },
    {
     "name": "stdout",
     "output_type": "stream",
     "text": [
      "4010 59982 -12.408586296402394 0.5601439999995601 2.0\n"
     ]
    },
    {
     "name": "stdout",
     "output_type": "stream",
     "text": [
      "4020 60102 -9.530215232494747 0.5591839999995591 2.0\n"
     ]
    },
    {
     "name": "stdout",
     "output_type": "stream",
     "text": [
      "4030 60313 26.836950550030743 0.5574959999995575 2.0\n"
     ]
    },
    {
     "name": "stdout",
     "output_type": "stream",
     "text": [
      "4040 60483 30.156747960422784 0.5561359999995561 2.0\n"
     ]
    },
    {
     "name": "stdout",
     "output_type": "stream",
     "text": [
      "4050 60730 49.62381138627916 0.5541599999995541 2.0\n"
     ]
    },
    {
     "name": "stdout",
     "output_type": "stream",
     "text": [
      "4060 60940 27.346930030392976 0.5524799999995524 2.0\n"
     ]
    },
    {
     "name": "stdout",
     "output_type": "stream",
     "text": [
      "4070 61095 -13.098464193290843 0.5512399999995512 2.0\n"
     ]
    },
    {
     "name": "stdout",
     "output_type": "stream",
     "text": [
      "4080 61198 -10.209940208837399 0.5504159999995504 2.0\n"
     ]
    },
    {
     "name": "stdout",
     "output_type": "stream",
     "text": [
      "4090 61350 29.04750085958198 0.5491999999995492 2.0\n"
     ]
    },
    {
     "name": "stdout",
     "output_type": "stream",
     "text": [
      "4100 61534 30.84976971704567 0.5477279999995477 2.0\n"
     ]
    },
    {
     "name": "stdout",
     "output_type": "stream",
     "text": [
      "4110 61726 25.52151951140174 0.5461919999995462 2.0\n"
     ]
    },
    {
     "name": "stdout",
     "output_type": "stream",
     "text": [
      "4120 61818 -9.005644734360086 0.5454559999995454 2.0\n"
     ]
    },
    {
     "name": "stdout",
     "output_type": "stream",
     "text": [
      "4130 61965 -10.952252479732024 0.5442799999995442 2.0\n"
     ]
    },
    {
     "name": "stdout",
     "output_type": "stream",
     "text": [
      "4140 62118 61.82050814880152 0.543055999999543 3.0\n"
     ]
    },
    {
     "name": "stdout",
     "output_type": "stream",
     "text": [
      "4150 62219 11.905005685252226 0.5422479999995422 3.0\n"
     ]
    },
    {
     "name": "stdout",
     "output_type": "stream",
     "text": [
      "4160 62367 7.271646755012879 0.541063999999541 2.0\n"
     ]
    },
    {
     "name": "stdout",
     "output_type": "stream",
     "text": [
      "4170 62501 6.861669728493548 0.53999199999954 1.0\n"
     ]
    },
    {
     "name": "stdout",
     "output_type": "stream",
     "text": [
      "4180 62700 25.92752509584604 0.5383999999995384 2.0\n"
     ]
    },
    {
     "name": "stdout",
     "output_type": "stream",
     "text": [
      "4190 62849 7.44852923807899 0.5372079999995372 2.0\n"
     ]
    },
    {
     "name": "stdout",
     "output_type": "stream",
     "text": [
      "4200 63059 29.91119050435479 0.5355279999995355 1.0\n"
     ]
    },
    {
     "name": "stdout",
     "output_type": "stream",
     "text": [
      "4210 63243 13.49910053790237 0.534055999999534 2.0\n"
     ]
    },
    {
     "name": "stdout",
     "output_type": "stream",
     "text": [
      "4220 63386 13.991739264835653 0.5329119999995329 2.0\n"
     ]
    },
    {
     "name": "stdout",
     "output_type": "stream",
     "text": [
      "4230 63499 -5.165242904242092 0.532007999999532 1.0\n"
     ]
    },
    {
     "name": "stdout",
     "output_type": "stream",
     "text": [
      "4240 63655 6.125529281363392 0.5307599999995307 2.0\n"
     ]
    },
    {
     "name": "stdout",
     "output_type": "stream",
     "text": [
      "4250 63801 14.221028801899868 0.5295919999995296 2.0\n"
     ]
    },
    {
     "name": "stdout",
     "output_type": "stream",
     "text": [
      "4260 63993 30.295778011538033 0.528055999999528 2.0\n"
     ]
    },
    {
     "name": "stdout",
     "output_type": "stream",
     "text": [
      "4270 64117 -14.360379375627653 0.527063999999527 2.0\n"
     ]
    },
    {
     "name": "stdout",
     "output_type": "stream",
     "text": [
      "4280 64241 -11.550759970478023 0.526071999999526 2.0\n"
     ]
    },
    {
     "name": "stdout",
     "output_type": "stream",
     "text": [
      "4290 64354 -12.122323572850359 0.5251679999995251 2.0\n"
     ]
    },
    {
     "name": "stdout",
     "output_type": "stream",
     "text": [
      "4300 64427 -9.599815225086214 0.5245839999995245 1.0\n"
     ]
    },
    {
     "name": "stdout",
     "output_type": "stream",
     "text": [
      "4310 64606 -14.516100411976964 0.5231519999995231 1.0\n"
     ]
    },
    {
     "name": "stdout",
     "output_type": "stream",
     "text": [
      "4320 64765 34.44541633971696 0.5218799999995218 2.0\n"
     ]
    },
    {
     "name": "stdout",
     "output_type": "stream",
     "text": [
      "4330 64999 26.18713052655095 0.52000799999952 2.0\n"
     ]
    },
    {
     "name": "stdout",
     "output_type": "stream",
     "text": [
      "4340 65184 5.819087425648777 0.5185279999995185 2.0\n"
     ]
    },
    {
     "name": "stdout",
     "output_type": "stream",
     "text": [
      "4350 65367 -10.51958896847391 0.517063999999517 2.0\n"
     ]
    },
    {
     "name": "stdout",
     "output_type": "stream",
     "text": [
      "4360 65520 32.89085219590944 0.5158399999995158 2.0\n"
     ]
    },
    {
     "name": "stdout",
     "output_type": "stream",
     "text": [
      "4370 65694 12.059827030633262 0.5144479999995144 1.0\n"
     ]
    },
    {
     "name": "stdout",
     "output_type": "stream",
     "text": [
      "4380 65827 12.626439422629508 0.5133839999995133 2.0\n"
     ]
    },
    {
     "name": "stdout",
     "output_type": "stream",
     "text": [
      "4390 65992 29.73244325279911 0.512063999999512 2.0\n"
     ]
    },
    {
     "name": "stdout",
     "output_type": "stream",
     "text": [
      "4400 66112 14.245276069056946 0.5111039999995111 2.0\n"
     ]
    },
    {
     "name": "stdout",
     "output_type": "stream",
     "text": [
      "4410 66226 11.458219414945846 0.5101919999995101 2.0\n"
     ]
    },
    {
     "name": "stdout",
     "output_type": "stream",
     "text": [
      "4420 66403 10.506616975596748 0.5087759999995087 2.0\n"
     ]
    },
    {
     "name": "stdout",
     "output_type": "stream",
     "text": [
      "4430 66638 46.59842038597461 0.5068959999995069 2.0\n"
     ]
    },
    {
     "name": "stdout",
     "output_type": "stream",
     "text": [
      "4440 66796 19.16754702240315 0.5056319999995056 2.0\n"
     ]
    },
    {
     "name": "stdout",
     "output_type": "stream",
     "text": [
      "4450 66995 20.929613096464678 0.504039999999504 1.0\n"
     ]
    },
    {
     "name": "stdout",
     "output_type": "stream",
     "text": [
      "4460 67213 24.275442038901183 0.5022959999995023 2.0\n"
     ]
    },
    {
     "name": "stdout",
     "output_type": "stream",
     "text": [
      "4470 67361 10.756520607182146 0.5011119999995011 2.0\n"
     ]
    },
    {
     "name": "stdout",
     "output_type": "stream",
     "text": [
      "4480 67506 30.21358087321633 0.4999519999994999 2.0\n"
     ]
    },
    {
     "name": "stdout",
     "output_type": "stream",
     "text": [
      "4490 67665 5.101723044654461 0.49867999999949864 2.0\n"
     ]
    },
    {
     "name": "stdout",
     "output_type": "stream",
     "text": [
      "4500 67845 -5.658426452675444 0.4972399999994972 2.0\n"
     ]
    },
    {
     "name": "stdout",
     "output_type": "stream",
     "text": [
      "4510 68095 -9.75091094372146 0.4952399999994952 2.0\n"
     ]
    },
    {
     "name": "stdout",
     "output_type": "stream",
     "text": [
      "4520 68268 10.251932202489687 0.4938559999994938 2.0\n"
     ]
    },
    {
     "name": "stdout",
     "output_type": "stream",
     "text": [
      "4530 68421 -5.384339055023636 0.4926319999994926 2.0\n"
     ]
    },
    {
     "name": "stdout",
     "output_type": "stream",
     "text": [
      "4540 68592 14.497924420651827 0.4912639999994912 2.0\n"
     ]
    },
    {
     "name": "stdout",
     "output_type": "stream",
     "text": [
      "4550 68816 22.142970758975135 0.4894719999994894 2.0\n"
     ]
    },
    {
     "name": "stdout",
     "output_type": "stream",
     "text": [
      "4560 69001 5.145615049096017 0.48799199999948795 2.0\n"
     ]
    },
    {
     "name": "stdout",
     "output_type": "stream",
     "text": [
      "4570 69180 23.859071229622774 0.4865599999994865 2.0\n"
     ]
    },
    {
     "name": "stdout",
     "output_type": "stream",
     "text": [
      "4580 69360 4.039892461037221 0.4851199999994851 2.0\n"
     ]
    },
    {
     "name": "stdout",
     "output_type": "stream",
     "text": [
      "4590 69519 3.8019995679306113 0.4838479999994838 1.0\n"
     ]
    },
    {
     "name": "stdout",
     "output_type": "stream",
     "text": [
      "4600 69637 11.525247888937134 0.48290399999948286 2.0\n"
     ]
    },
    {
     "name": "stdout",
     "output_type": "stream",
     "text": [
      "4610 69913 53.928552083268016 0.48069599999948065 2.0\n"
     ]
    },
    {
     "name": "stdout",
     "output_type": "stream",
     "text": [
      "4620 70050 -16.077284879387914 0.47959999999947955 2.0\n"
     ]
    },
    {
     "name": "stdout",
     "output_type": "stream",
     "text": [
      "4630 70292 50.55969284625639 0.4776639999994776 2.0\n"
     ]
    },
    {
     "name": "stdout",
     "output_type": "stream",
     "text": [
      "4640 70466 28.288552531338546 0.4762719999994762 2.0\n"
     ]
    },
    {
     "name": "stdout",
     "output_type": "stream",
     "text": [
      "4650 70617 32.01226387583298 0.475063999999475 2.0\n"
     ]
    },
    {
     "name": "stdout",
     "output_type": "stream",
     "text": [
      "4660 70796 13.213545126173326 0.4736319999994736 2.0\n"
     ]
    },
    {
     "name": "stdout",
     "output_type": "stream",
     "text": [
      "4670 70961 4.05891390286081 0.47231199999947227 2.0\n"
     ]
    },
    {
     "name": "stdout",
     "output_type": "stream",
     "text": [
      "4680 71108 9.957707496929924 0.4711359999994711 2.0\n"
     ]
    },
    {
     "name": "stdout",
     "output_type": "stream",
     "text": [
      "4690 71251 12.32419069466859 0.46999199999946994 2.0\n"
     ]
    },
    {
     "name": "stdout",
     "output_type": "stream",
     "text": [
      "4700 71461 48.06848988481895 0.46831199999946826 1.0\n"
     ]
    },
    {
     "name": "stdout",
     "output_type": "stream",
     "text": [
      "4710 71575 2.277530719692993 0.46739999999946735 1.0\n"
     ]
    },
    {
     "name": "stdout",
     "output_type": "stream",
     "text": [
      "4720 71642 -11.657129397443418 0.4668639999994668 2.0\n"
     ]
    },
    {
     "name": "stdout",
     "output_type": "stream",
     "text": [
      "4730 71797 30.08176274560992 0.4656239999994656 2.0\n"
     ]
    },
    {
     "name": "stdout",
     "output_type": "stream",
     "text": [
      "4740 71944 9.236740223268129 0.4644479999994644 1.0\n"
     ]
    },
    {
     "name": "stdout",
     "output_type": "stream",
     "text": [
      "4750 72112 34.75363250147301 0.46310399999946306 2.0\n"
     ]
    },
    {
     "name": "stdout",
     "output_type": "stream",
     "text": [
      "4760 72258 1.4081025173828443 0.4619359999994619 2.0\n"
     ]
    },
    {
     "name": "stdout",
     "output_type": "stream",
     "text": [
      "4770 72380 -9.56591761602136 0.4609599999994609 1.0\n"
     ]
    },
    {
     "name": "stdout",
     "output_type": "stream",
     "text": [
      "4780 72507 -11.714371251517534 0.4599439999994599 2.0\n"
     ]
    },
    {
     "name": "stdout",
     "output_type": "stream",
     "text": [
      "4790 72680 0.17609510275952012 0.4585599999994585 2.0\n"
     ]
    },
    {
     "name": "stdout",
     "output_type": "stream",
     "text": [
      "4800 72860 11.336235432519244 0.45711999999945707 2.0\n"
     ]
    },
    {
     "name": "stdout",
     "output_type": "stream",
     "text": [
      "4810 73033 47.696104518788744 0.4557359999994557 2.0\n"
     ]
    },
    {
     "name": "stdout",
     "output_type": "stream",
     "text": [
      "4820 73066 -7.141534224834407 0.4554719999994554 2.0\n"
     ]
    },
    {
     "name": "stdout",
     "output_type": "stream",
     "text": [
      "4830 73204 29.067352814902325 0.4543679999994543 2.0\n"
     ]
    },
    {
     "name": "stdout",
     "output_type": "stream",
     "text": [
      "4840 73473 23.618971300790154 0.45221599999945217 1.5\n"
     ]
    },
    {
     "name": "stdout",
     "output_type": "stream",
     "text": [
      "4850 73645 11.271050901553313 0.4508399999994508 2.0\n"
     ]
    },
    {
     "name": "stdout",
     "output_type": "stream",
     "text": [
      "4860 73755 -8.87498021356903 0.4499599999994499 2.0\n"
     ]
    },
    {
     "name": "stdout",
     "output_type": "stream",
     "text": [
      "4870 73908 33.95874490757702 0.4487359999994487 2.0\n"
     ]
    },
    {
     "name": "stdout",
     "output_type": "stream",
     "text": [
      "4880 74146 31.586556176709497 0.4468319999994468 2.0\n"
     ]
    },
    {
     "name": "stdout",
     "output_type": "stream",
     "text": [
      "4890 74209 -11.0756692946123 0.4463279999994463 2.0\n"
     ]
    },
    {
     "name": "stdout",
     "output_type": "stream",
     "text": [
      "4900 74423 31.171421798091444 0.44461599999944457 2.0\n"
     ]
    },
    {
     "name": "stdout",
     "output_type": "stream",
     "text": [
      "4910 74558 -11.057119895630489 0.4435359999994435 2.0\n"
     ]
    },
    {
     "name": "stdout",
     "output_type": "stream",
     "text": [
      "4920 74656 -10.64269940356139 0.4427519999994427 2.0\n"
     ]
    },
    {
     "name": "stdout",
     "output_type": "stream",
     "text": [
      "4930 74845 29.1440567812672 0.4412399999994412 2.0\n"
     ]
    },
    {
     "name": "stdout",
     "output_type": "stream",
     "text": [
      "4940 75125 51.651472434561185 0.43899999999943895 2.0\n"
     ]
    },
    {
     "name": "stdout",
     "output_type": "stream",
     "text": [
      "4950 75410 75.91639558456015 0.43671999999943667 2.0\n"
     ]
    },
    {
     "name": "stdout",
     "output_type": "stream",
     "text": [
      "4960 75518 3.222759722543773 0.4358559999994358 2.0\n"
     ]
    },
    {
     "name": "stdout",
     "output_type": "stream",
     "text": [
      "4970 75649 14.033102419776252 0.43480799999943476 2.0\n"
     ]
    },
    {
     "name": "stdout",
     "output_type": "stream",
     "text": [
      "4980 75776 16.935259931585612 0.43379199999943374 2.0\n"
     ]
    },
    {
     "name": "stdout",
     "output_type": "stream",
     "text": [
      "4990 76000 15.079319119568655 0.43199999999943195 2.0\n"
     ]
    },
    {
     "name": "stdout",
     "output_type": "stream",
     "text": [
      "Saved model\n5000 76199 23.53547539771778 0.43040799999943036 2.0\n"
     ]
    },
    {
     "name": "stdout",
     "output_type": "stream",
     "text": [
      "5010 76395 55.052876068547356 0.4288399999994288 2.0\n"
     ]
    },
    {
     "name": "stdout",
     "output_type": "stream",
     "text": [
      "5020 76498 8.212411895766325 0.42801599999942797 2.0\n"
     ]
    },
    {
     "name": "stdout",
     "output_type": "stream",
     "text": [
      "5030 76614 8.555448739836606 0.42708799999942704 1.0\n"
     ]
    },
    {
     "name": "stdout",
     "output_type": "stream",
     "text": [
      "5040 76768 12.69978109898045 0.4258559999994258 2.0\n"
     ]
    },
    {
     "name": "stdout",
     "output_type": "stream",
     "text": [
      "5050 76924 29.06503912845239 0.42460799999942456 2.0\n"
     ]
    },
    {
     "name": "stdout",
     "output_type": "stream",
     "text": [
      "5060 77016 -8.959733392528364 0.4238719999994238 2.0\n"
     ]
    },
    {
     "name": "stdout",
     "output_type": "stream",
     "text": [
      "5070 77194 7.781731507819936 0.4224479999994224 2.0\n"
     ]
    },
    {
     "name": "stdout",
     "output_type": "stream",
     "text": [
      "5080 77411 36.0350811234314 0.42071199999942066 2.0\n"
     ]
    },
    {
     "name": "stdout",
     "output_type": "stream",
     "text": [
      "5090 77695 -10.070959127210347 0.4184399999994184 1.0\n"
     ]
    },
    {
     "name": "stdout",
     "output_type": "stream",
     "text": [
      "5100 77820 -9.720868729588313 0.4174399999994174 2.0\n"
     ]
    },
    {
     "name": "stdout",
     "output_type": "stream",
     "text": [
      "5110 77890 -8.28715807417962 0.41687999999941683 2.0\n"
     ]
    },
    {
     "name": "stdout",
     "output_type": "stream",
     "text": [
      "5120 78170 31.096238122554574 0.4146399999994146 2.0\n"
     ]
    },
    {
     "name": "stdout",
     "output_type": "stream",
     "text": [
      "5130 78263 -8.814501554643995 0.41389599999941384 2.0\n"
     ]
    },
    {
     "name": "stdout",
     "output_type": "stream",
     "text": [
      "5140 78504 39.482037196339725 0.4119679999994119 1.0\n"
     ]
    },
    {
     "name": "stdout",
     "output_type": "stream",
     "text": [
      "5150 78655 6.777332047373005 0.4107599999994107 2.0\n"
     ]
    },
    {
     "name": "stdout",
     "output_type": "stream",
     "text": [
      "5160 78846 6.595043531144716 0.4092319999994092 2.0\n"
     ]
    },
    {
     "name": "stdout",
     "output_type": "stream",
     "text": [
      "5170 79036 44.68445677220816 0.40771199999940766 2.0\n"
     ]
    },
    {
     "name": "stdout",
     "output_type": "stream",
     "text": [
      "5180 79198 13.27083719289843 0.40641599999940636 2.0\n"
     ]
    },
    {
     "name": "stdout",
     "output_type": "stream",
     "text": [
      "5190 79295 -11.560182145346875 0.4056399999994056 2.0\n"
     ]
    },
    {
     "name": "stdout",
     "output_type": "stream",
     "text": [
      "5200 79515 31.723853357871764 0.4038799999994038 1.0\n"
     ]
    },
    {
     "name": "stdout",
     "output_type": "stream",
     "text": [
      "5210 79648 11.874961573912293 0.40281599999940276 2.0\n"
     ]
    },
    {
     "name": "stdout",
     "output_type": "stream",
     "text": [
      "5220 79826 3.077375331759137 0.40139199999940134 2.0\n"
     ]
    },
    {
     "name": "stdout",
     "output_type": "stream",
     "text": [
      "5230 79983 7.753689787386274 0.4001359999994001 2.0\n"
     ]
    },
    {
     "name": "stdout",
     "output_type": "stream",
     "text": [
      "5240 80156 0.626668602665214 0.3987519999993987 2.0\n"
     ]
    },
    {
     "name": "stdout",
     "output_type": "stream",
     "text": [
      "5250 80374 7.857387880519196 0.39700799999939695 2.0\n"
     ]
    },
    {
     "name": "stdout",
     "output_type": "stream",
     "text": [
      "5260 80593 24.734185111335965 0.3952559999993952 2.0\n"
     ]
    },
    {
     "name": "stdout",
     "output_type": "stream",
     "text": [
      "5270 80824 10.17434765960151 0.39340799999939335 2.0\n"
     ]
    },
    {
     "name": "stdout",
     "output_type": "stream",
     "text": [
      "5280 81020 56.23617761067389 0.3918399999993918 2.0\n"
     ]
    },
    {
     "name": "stdout",
     "output_type": "stream",
     "text": [
      "5290 81177 -6.296225843682355 0.39058399999939053 2.0\n"
     ]
    },
    {
     "name": "stdout",
     "output_type": "stream",
     "text": [
      "5300 81339 26.402734392573546 0.38928799999938923 2.0\n"
     ]
    },
    {
     "name": "stdout",
     "output_type": "stream",
     "text": [
      "5310 81604 87.95832187308486 0.3871679999993871 2.0\n"
     ]
    },
    {
     "name": "stdout",
     "output_type": "stream",
     "text": [
      "5320 81761 11.62100674868179 0.38591199999938586 2.0\n"
     ]
    },
    {
     "name": "stdout",
     "output_type": "stream",
     "text": [
      "5330 81917 39.03959607497745 0.3846639999993846 2.0\n"
     ]
    },
    {
     "name": "stdout",
     "output_type": "stream",
     "text": [
      "5340 82148 28.294843644801905 0.38281599999938276 2.0\n"
     ]
    },
    {
     "name": "stdout",
     "output_type": "stream",
     "text": [
      "5350 82351 9.438346813252764 0.38119199999938114 2.0\n"
     ]
    },
    {
     "name": "stdout",
     "output_type": "stream",
     "text": [
      "5360 82540 14.755877993567626 0.3796799999993796 2.0\n"
     ]
    },
    {
     "name": "stdout",
     "output_type": "stream",
     "text": [
      "5370 82632 -11.315610828842294 0.3789439999993789 2.0\n"
     ]
    },
    {
     "name": "stdout",
     "output_type": "stream",
     "text": [
      "5380 83032 72.1389806420892 0.3757439999993757 2.0\n"
     ]
    },
    {
     "name": "stdout",
     "output_type": "stream",
     "text": [
      "5390 83175 36.24577042464445 0.37459999999937454 2.0\n"
     ]
    },
    {
     "name": "stdout",
     "output_type": "stream",
     "text": [
      "5400 83433 3.490339022362182 0.3725359999993725 1.0\n"
     ]
    },
    {
     "name": "stdout",
     "output_type": "stream",
     "text": [
      "5410 83597 50.75243333297921 0.37122399999937117 2.0\n"
     ]
    },
    {
     "name": "stdout",
     "output_type": "stream",
     "text": [
      "5420 83727 -11.389033969638668 0.37018399999937013 2.0\n"
     ]
    },
    {
     "name": "stdout",
     "output_type": "stream",
     "text": [
      "5430 83876 34.88012349750304 0.36899199999936894 2.0\n"
     ]
    },
    {
     "name": "stdout",
     "output_type": "stream",
     "text": [
      "5440 84067 37.39986109617861 0.3674639999993674 2.0\n"
     ]
    },
    {
     "name": "stdout",
     "output_type": "stream",
     "text": [
      "5450 84322 -4.77097619503005 0.36542399999936537 1.0\n"
     ]
    },
    {
     "name": "stdout",
     "output_type": "stream",
     "text": [
      "5460 84431 16.66004289521266 0.3645519999993645 2.0\n"
     ]
    },
    {
     "name": "stdout",
     "output_type": "stream",
     "text": [
      "5470 84655 49.36020065368529 0.3627599999993627 2.0\n"
     ]
    },
    {
     "name": "stdout",
     "output_type": "stream",
     "text": [
      "5480 84783 -15.433484371159986 0.3617359999993617 2.0\n"
     ]
    },
    {
     "name": "stdout",
     "output_type": "stream",
     "text": [
      "5490 85007 59.21124647439925 0.3599439999993599 2.0\n"
     ]
    },
    {
     "name": "stdout",
     "output_type": "stream",
     "text": [
      "5500 85137 -9.951056995056456 0.35890399999935885 2.0\n"
     ]
    },
    {
     "name": "stdout",
     "output_type": "stream",
     "text": [
      "5510 85315 7.512320504713472 0.3574799999993574 2.0\n"
     ]
    },
    {
     "name": "stdout",
     "output_type": "stream",
     "text": [
      "5520 85473 -8.277891627597548 0.35621599999935616 2.0\n"
     ]
    },
    {
     "name": "stdout",
     "output_type": "stream",
     "text": [
      "5530 85733 58.18509788700269 0.3541359999993541 3.0\n"
     ]
    },
    {
     "name": "stdout",
     "output_type": "stream",
     "text": [
      "5540 85797 -9.551366616203884 0.35362399999935357 3.0\n"
     ]
    },
    {
     "name": "stdout",
     "output_type": "stream",
     "text": [
      "5550 86068 1.9726875488166453 0.3514559999993514 2.0\n"
     ]
    },
    {
     "name": "stdout",
     "output_type": "stream",
     "text": [
      "5560 86240 36.53263243701504 0.35007999999935 3.0\n"
     ]
    },
    {
     "name": "stdout",
     "output_type": "stream",
     "text": [
      "5570 86324 -9.673814623882684 0.34940799999934935 2.0\n"
     ]
    },
    {
     "name": "stdout",
     "output_type": "stream",
     "text": [
      "5580 86471 8.75701857066384 0.3482319999993482 2.0\n"
     ]
    },
    {
     "name": "stdout",
     "output_type": "stream",
     "text": [
      "5590 86545 -12.002910709596957 0.3476399999993476 2.0\n"
     ]
    },
    {
     "name": "stdout",
     "output_type": "stream",
     "text": [
      "5600 86696 32.68224443740358 0.3464319999993464 2.0\n"
     ]
    },
    {
     "name": "stdout",
     "output_type": "stream",
     "text": [
      "5610 86874 25.787354647931743 0.34500799999934495 2.0\n"
     ]
    },
    {
     "name": "stdout",
     "output_type": "stream",
     "text": [
      "5620 87131 10.930787419527379 0.3429519999993429 2.0\n"
     ]
    },
    {
     "name": "stdout",
     "output_type": "stream",
     "text": [
      "5630 87267 -12.891082988804206 0.3418639999993418 2.0\n"
     ]
    },
    {
     "name": "stdout",
     "output_type": "stream",
     "text": [
      "5640 87461 8.35775800296868 0.34031199999934025 2.0\n"
     ]
    },
    {
     "name": "stdout",
     "output_type": "stream",
     "text": [
      "5650 87638 2.4730666645804633 0.33889599999933884 1.5\n"
     ]
    },
    {
     "name": "stdout",
     "output_type": "stream",
     "text": [
      "5660 87843 46.3073206867753 0.3372559999993372 2.0\n"
     ]
    },
    {
     "name": "stdout",
     "output_type": "stream",
     "text": [
      "5670 88041 87.74404232197062 0.3356719999993356 3.0\n"
     ]
    },
    {
     "name": "stdout",
     "output_type": "stream",
     "text": [
      "5680 88277 9.357480948197804 0.3337839999993337 2.0\n"
     ]
    },
    {
     "name": "stdout",
     "output_type": "stream",
     "text": [
      "5690 88394 13.593600280820212 0.3328479999993328 2.0\n"
     ]
    },
    {
     "name": "stdout",
     "output_type": "stream",
     "text": [
      "5700 88535 32.487557525025565 0.33171999999933166 1.0\n"
     ]
    },
    {
     "name": "stdout",
     "output_type": "stream",
     "text": [
      "5710 88671 30.266026535394552 0.3306319999993306 2.0\n"
     ]
    },
    {
     "name": "stdout",
     "output_type": "stream",
     "text": [
      "5720 88766 14.671371507722204 0.3298719999993298 2.0\n"
     ]
    },
    {
     "name": "stdout",
     "output_type": "stream",
     "text": [
      "5730 88825 -8.91872248585857 0.32939999999932934 2.0\n"
     ]
    },
    {
     "name": "stdout",
     "output_type": "stream",
     "text": [
      "5740 89016 13.815550964077275 0.3278719999993278 2.0\n"
     ]
    },
    {
     "name": "stdout",
     "output_type": "stream",
     "text": [
      "5750 89176 29.426107550667876 0.32659199999932653 2.0\n"
     ]
    },
    {
     "name": "stdout",
     "output_type": "stream",
     "text": [
      "5760 89394 56.813003019865015 0.3248479999993248 2.0\n"
     ]
    },
    {
     "name": "stdout",
     "output_type": "stream",
     "text": [
      "5770 89557 -0.13174455740348917 0.3235439999993235 1.0\n"
     ]
    },
    {
     "name": "stdout",
     "output_type": "stream",
     "text": [
      "5780 89733 10.630491670446428 0.3221359999993221 2.0\n"
     ]
    },
    {
     "name": "stdout",
     "output_type": "stream",
     "text": [
      "5790 89888 -11.728321938511945 0.32089599999932084 1.0\n"
     ]
    },
    {
     "name": "stdout",
     "output_type": "stream",
     "text": [
      "5800 90094 35.48973042944845 0.3192479999993192 2.0\n"
     ]
    },
    {
     "name": "stdout",
     "output_type": "stream",
     "text": [
      "5810 90389 41.26555886796378 0.3168879999993168 2.0\n"
     ]
    },
    {
     "name": "stdout",
     "output_type": "stream",
     "text": [
      "5820 90721 59.12225222155265 0.31423199999931417 3.0\n"
     ]
    },
    {
     "name": "stdout",
     "output_type": "stream",
     "text": [
      "5830 90885 5.552702413801521 0.31291999999931286 2.0\n"
     ]
    },
    {
     "name": "stdout",
     "output_type": "stream",
     "text": [
      "5840 91088 8.276240602424522 0.31129599999931123 2.0\n"
     ]
    },
    {
     "name": "stdout",
     "output_type": "stream",
     "text": [
      "5850 91148 -9.266617030689272 0.31081599999931075 2.0\n"
     ]
    },
    {
     "name": "stdout",
     "output_type": "stream",
     "text": [
      "5860 91242 -9.47710469598456 0.31006399999931 2.0\n"
     ]
    },
    {
     "name": "stdout",
     "output_type": "stream",
     "text": [
      "5870 91395 0.8179658779999368 0.3088399999993088 2.0\n"
     ]
    },
    {
     "name": "stdout",
     "output_type": "stream",
     "text": [
      "5880 91624 25.7817513751698 0.30700799999930695 2.0\n"
     ]
    },
    {
     "name": "stdout",
     "output_type": "stream",
     "text": [
      "5890 91890 11.892284349810389 0.3048799999993048 2.0\n"
     ]
    },
    {
     "name": "stdout",
     "output_type": "stream",
     "text": [
      "5900 92043 9.516738193437975 0.3036559999993036 1.0\n"
     ]
    },
    {
     "name": "stdout",
     "output_type": "stream",
     "text": [
      "5910 92206 10.673118383554808 0.3023519999993023 2.0\n"
     ]
    },
    {
     "name": "stdout",
     "output_type": "stream",
     "text": [
      "5920 92444 27.630659257096465 0.3004479999993004 2.0\n"
     ]
    },
    {
     "name": "stdout",
     "output_type": "stream",
     "text": [
      "5930 92517 -11.91195909911085 0.2998639999992998 2.0\n"
     ]
    },
    {
     "name": "stdout",
     "output_type": "stream",
     "text": [
      "5940 92757 32.44360666060298 0.2979439999992979 1.0\n"
     ]
    },
    {
     "name": "stdout",
     "output_type": "stream",
     "text": [
      "5950 92877 11.2099252133646 0.2969839999992969 2.0\n"
     ]
    },
    {
     "name": "stdout",
     "output_type": "stream",
     "text": [
      "5960 93107 24.87964588122643 0.2951439999992951 2.0\n"
     ]
    },
    {
     "name": "stdout",
     "output_type": "stream",
     "text": [
      "5970 93372 42.57165878581081 0.29302399999929296 2.0\n"
     ]
    },
    {
     "name": "stdout",
     "output_type": "stream",
     "text": [
      "5980 93546 9.17453103365425 0.29163199999929157 2.0\n"
     ]
    },
    {
     "name": "stdout",
     "output_type": "stream",
     "text": [
      "5990 93679 37.38402768647519 0.2905679999992905 3.0\n"
     ]
    },
    {
     "name": "stdout",
     "output_type": "stream",
     "text": [
      "Saved model\n6000 93861 8.89410121829181 0.28911199999928905 2.0\n"
     ]
    },
    {
     "name": "stdout",
     "output_type": "stream",
     "text": [
      "6010 94030 16.557676008363874 0.2877599999992877 1.0\n"
     ]
    },
    {
     "name": "stdout",
     "output_type": "stream",
     "text": [
      "6020 94087 -6.459717608894188 0.28730399999928724 2.0\n"
     ]
    },
    {
     "name": "stdout",
     "output_type": "stream",
     "text": [
      "6030 94212 30.505704992512126 0.28630399999928624 2.0\n"
     ]
    },
    {
     "name": "stdout",
     "output_type": "stream",
     "text": [
      "6040 94470 24.428519609214426 0.2842399999992842 2.0\n"
     ]
    },
    {
     "name": "stdout",
     "output_type": "stream",
     "text": [
      "6050 94741 73.35908551481526 0.282071999999282 2.0\n"
     ]
    },
    {
     "name": "stdout",
     "output_type": "stream",
     "text": [
      "6060 94926 40.47059135226131 0.28059199999928053 1.0\n"
     ]
    },
    {
     "name": "stdout",
     "output_type": "stream",
     "text": [
      "6070 95191 26.88376053861075 0.2784719999992784 1.0\n"
     ]
    },
    {
     "name": "stdout",
     "output_type": "stream",
     "text": [
      "6080 95410 28.166096364943332 0.27671999999927666 2.0\n"
     ]
    },
    {
     "name": "stdout",
     "output_type": "stream",
     "text": [
      "6090 95614 32.59242898390301 0.275087999999275 2.0\n"
     ]
    },
    {
     "name": "stdout",
     "output_type": "stream",
     "text": [
      "6100 95835 48.707456797206746 0.27331999999927326 1.5\n"
     ]
    },
    {
     "name": "stdout",
     "output_type": "stream",
     "text": [
      "6110 96031 -6.215719962079832 0.2717519999992717 1.0\n"
     ]
    },
    {
     "name": "stdout",
     "output_type": "stream",
     "text": [
      "6120 96151 -9.463745246821428 0.2707919999992707 1.0\n"
     ]
    },
    {
     "name": "stdout",
     "output_type": "stream",
     "text": [
      "6130 96335 45.05999746038081 0.26931999999926926 2.0\n"
     ]
    },
    {
     "name": "stdout",
     "output_type": "stream",
     "text": [
      "6140 96521 29.929615623937003 0.26783199999926777 2.0\n"
     ]
    },
    {
     "name": "stdout",
     "output_type": "stream",
     "text": [
      "6150 96749 58.41944619362137 0.26600799999926594 3.0\n"
     ]
    },
    {
     "name": "stdout",
     "output_type": "stream",
     "text": [
      "6160 96950 28.503222835622402 0.26439999999926433 2.0\n"
     ]
    },
    {
     "name": "stdout",
     "output_type": "stream",
     "text": [
      "6170 97020 -10.837778660838344 0.2638399999992638 2.0\n"
     ]
    },
    {
     "name": "stdout",
     "output_type": "stream",
     "text": [
      "6180 97227 89.33353305494896 0.2621839999992621 3.0\n"
     ]
    },
    {
     "name": "stdout",
     "output_type": "stream",
     "text": [
      "6190 97429 18.235971062473254 0.2605679999992605 2.0\n"
     ]
    },
    {
     "name": "stdout",
     "output_type": "stream",
     "text": [
      "6200 97544 14.225862419801794 0.2596479999992596 2.0\n"
     ]
    },
    {
     "name": "stdout",
     "output_type": "stream",
     "text": [
      "6210 97826 73.70014659446694 0.2573919999992573 2.5\n"
     ]
    },
    {
     "name": "stdout",
     "output_type": "stream",
     "text": [
      "6220 97971 32.67578820922804 0.25623199999925617 2.0\n"
     ]
    },
    {
     "name": "stdout",
     "output_type": "stream",
     "text": [
      "6230 98174 53.874831644857444 0.25460799999925454 2.0\n"
     ]
    },
    {
     "name": "stdout",
     "output_type": "stream",
     "text": [
      "6240 98277 15.015919552875312 0.2537839999992537 1.0\n"
     ]
    },
    {
     "name": "stdout",
     "output_type": "stream",
     "text": [
      "6250 98466 20.292303719867867 0.2522719999992522 1.0\n"
     ]
    },
    {
     "name": "stdout",
     "output_type": "stream",
     "text": [
      "6260 98624 15.16370280644357 0.25100799999925094 2.0\n"
     ]
    },
    {
     "name": "stdout",
     "output_type": "stream",
     "text": [
      "6270 98703 -7.438684152395851 0.2503759999992503 1.0\n"
     ]
    },
    {
     "name": "stdout",
     "output_type": "stream",
     "text": [
      "6280 98884 50.539995559920655 0.24892799999924886 3.0\n"
     ]
    },
    {
     "name": "stdout",
     "output_type": "stream",
     "text": [
      "6290 99037 66.24378652650039 0.24770399999924764 4.0\n"
     ]
    },
    {
     "name": "stdout",
     "output_type": "stream",
     "text": [
      "6300 99312 46.67313571966034 0.24550399999924544 1.0\n"
     ]
    },
    {
     "name": "stdout",
     "output_type": "stream",
     "text": [
      "6310 99527 78.17882966599669 0.24378399999924372 3.0\n"
     ]
    },
    {
     "name": "stdout",
     "output_type": "stream",
     "text": [
      "6320 99599 19.036813951423035 0.24320799999924314 3.0\n"
     ]
    },
    {
     "name": "stdout",
     "output_type": "stream",
     "text": [
      "6330 99799 36.38324643725026 0.24160799999924154 2.0\n"
     ]
    },
    {
     "name": "stdout",
     "output_type": "stream",
     "text": [
      "6340 99948 31.75976649821343 0.24041599999924035 1.5\n"
     ]
    },
    {
     "name": "stdout",
     "output_type": "stream",
     "text": [
      "6350 100113 -1.6499603791574793 0.23909599999923903 2.0\n"
     ]
    },
    {
     "name": "stdout",
     "output_type": "stream",
     "text": [
      "6360 100286 32.69318681224978 0.23771199999923764 2.0\n"
     ]
    },
    {
     "name": "stdout",
     "output_type": "stream",
     "text": [
      "6370 100499 69.67078683620042 0.23600799999923594 3.0\n"
     ]
    },
    {
     "name": "stdout",
     "output_type": "stream",
     "text": [
      "6380 100641 -0.18059428417117634 0.2348719999992348 2.0\n"
     ]
    },
    {
     "name": "stdout",
     "output_type": "stream",
     "text": [
      "6390 100827 29.218287863706326 0.23338399999923332 1.0\n"
     ]
    },
    {
     "name": "stdout",
     "output_type": "stream",
     "text": [
      "6400 101115 92.18165477129703 0.231079999999231 2.0\n"
     ]
    },
    {
     "name": "stdout",
     "output_type": "stream",
     "text": [
      "6410 101281 10.331146449413184 0.22975199999922968 2.0\n"
     ]
    },
    {
     "name": "stdout",
     "output_type": "stream",
     "text": [
      "6420 101419 -11.829629739072415 0.22864799999922858 2.0\n"
     ]
    },
    {
     "name": "stdout",
     "output_type": "stream",
     "text": [
      "6430 101572 11.294166428173996 0.22742399999922736 1.5\n"
     ]
    },
    {
     "name": "stdout",
     "output_type": "stream",
     "text": [
      "6440 101720 -8.340145132331278 0.22623999999922617 1.0\n"
     ]
    },
    {
     "name": "stdout",
     "output_type": "stream",
     "text": [
      "6450 101785 -7.279043308080661 0.22571999999922565 2.0\n"
     ]
    },
    {
     "name": "stdout",
     "output_type": "stream",
     "text": [
      "6460 102068 62.62475893822091 0.2234559999992234 1.0\n"
     ]
    },
    {
     "name": "stdout",
     "output_type": "stream",
     "text": [
      "6470 102245 29.958125144569493 0.22203999999922197 2.0\n"
     ]
    },
    {
     "name": "stdout",
     "output_type": "stream",
     "text": [
      "6480 102448 26.49924860027184 0.22041599999922035 2.0\n"
     ]
    },
    {
     "name": "stdout",
     "output_type": "stream",
     "text": [
      "6490 102639 10.287569885801306 0.21888799999921882 2.0\n"
     ]
    },
    {
     "name": "stdout",
     "output_type": "stream",
     "text": [
      "6500 102835 70.53845079060326 0.21731999999921725 3.0\n"
     ]
    },
    {
     "name": "stdout",
     "output_type": "stream",
     "text": [
      "6510 103084 35.20433815720511 0.21532799999921526 2.0\n"
     ]
    },
    {
     "name": "stdout",
     "output_type": "stream",
     "text": [
      "6520 103427 71.62449271100435 0.21258399999921251 2.0\n"
     ]
    },
    {
     "name": "stdout",
     "output_type": "stream",
     "text": [
      "6530 103490 -10.344410511071072 0.212079999999212 2.0\n"
     ]
    },
    {
     "name": "stdout",
     "output_type": "stream",
     "text": [
      "6540 103663 54.231228122449714 0.21069599999921063 3.0\n"
     ]
    },
    {
     "name": "stdout",
     "output_type": "stream",
     "text": [
      "6550 103853 3.5582108213011656 0.2091759999992091 2.0\n"
     ]
    },
    {
     "name": "stdout",
     "output_type": "stream",
     "text": [
      "6560 104095 44.338872069237304 0.20723999999920717 2.0\n"
     ]
    },
    {
     "name": "stdout",
     "output_type": "stream",
     "text": [
      "6570 104272 29.763620876953365 0.20582399999920575 2.0\n"
     ]
    },
    {
     "name": "stdout",
     "output_type": "stream",
     "text": [
      "6580 104449 4.902441014879562 0.20440799999920434 1.5\n"
     ]
    },
    {
     "name": "stdout",
     "output_type": "stream",
     "text": [
      "6590 104717 24.981635108379514 0.2022639999992022 2.0\n"
     ]
    },
    {
     "name": "stdout",
     "output_type": "stream",
     "text": [
      "6600 104923 8.952920720738893 0.20061599999920054 2.0\n"
     ]
    },
    {
     "name": "stdout",
     "output_type": "stream",
     "text": [
      "6610 105097 29.005706417493336 0.19999999999919993 2.5\n"
     ]
    },
    {
     "name": "stdout",
     "output_type": "stream",
     "text": [
      "6620 105300 23.805006018701615 0.19999999999919993 2.0\n"
     ]
    },
    {
     "name": "stdout",
     "output_type": "stream",
     "text": [
      "6630 105447 43.79088774963462 0.19999999999919993 2.0\n"
     ]
    },
    {
     "name": "stdout",
     "output_type": "stream",
     "text": [
      "6640 105636 57.41913903788412 0.19999999999919993 3.0\n"
     ]
    },
    {
     "name": "stdout",
     "output_type": "stream",
     "text": [
      "6650 105809 55.990197910382086 0.19999999999919993 2.0\n"
     ]
    },
    {
     "name": "stdout",
     "output_type": "stream",
     "text": [
      "6660 106114 90.11478659817287 0.19999999999919993 2.0\n"
     ]
    },
    {
     "name": "stdout",
     "output_type": "stream",
     "text": [
      "6670 106198 -10.583320097917339 0.19999999999919993 1.0\n"
     ]
    },
    {
     "name": "stdout",
     "output_type": "stream",
     "text": [
      "6680 106391 32.8788119262667 0.19999999999919993 2.0\n"
     ]
    },
    {
     "name": "stdout",
     "output_type": "stream",
     "text": [
      "6690 106597 26.142310742445567 0.19999999999919993 2.0\n"
     ]
    },
    {
     "name": "stdout",
     "output_type": "stream",
     "text": [
      "6700 106747 33.852058134223924 0.19999999999919993 2.0\n"
     ]
    },
    {
     "name": "stdout",
     "output_type": "stream",
     "text": [
      "6710 106844 -5.191198038828347 0.19999999999919993 2.0\n"
     ]
    },
    {
     "name": "stdout",
     "output_type": "stream",
     "text": [
      "6720 107100 10.753308763116772 0.19999999999919993 1.0\n"
     ]
    },
    {
     "name": "stdout",
     "output_type": "stream",
     "text": [
      "6730 107396 13.293419159863186 0.19999999999919993 2.0\n"
     ]
    },
    {
     "name": "stdout",
     "output_type": "stream",
     "text": [
      "6740 107608 -11.523275506749354 0.19999999999919993 1.0\n"
     ]
    },
    {
     "name": "stdout",
     "output_type": "stream",
     "text": [
      "6750 107714 -8.428840357278109 0.19999999999919993 1.0\n"
     ]
    },
    {
     "name": "stdout",
     "output_type": "stream",
     "text": [
      "6760 107819 -10.431383131820272 0.19999999999919993 2.0\n"
     ]
    },
    {
     "name": "stdout",
     "output_type": "stream",
     "text": [
      "6770 107926 11.57383378697693 0.19999999999919993 2.0\n"
     ]
    },
    {
     "name": "stdout",
     "output_type": "stream",
     "text": [
      "6780 108030 -14.135085486186636 0.19999999999919993 2.0\n"
     ]
    },
    {
     "name": "stdout",
     "output_type": "stream",
     "text": [
      "6790 108297 58.63949256890895 0.19999999999919993 2.0\n"
     ]
    },
    {
     "name": "stdout",
     "output_type": "stream",
     "text": [
      "6800 108433 -8.612196165110186 0.19999999999919993 2.0\n"
     ]
    },
    {
     "name": "stdout",
     "output_type": "stream",
     "text": [
      "6810 108678 30.1099116248544 0.19999999999919993 2.0\n"
     ]
    },
    {
     "name": "stdout",
     "output_type": "stream",
     "text": [
      "6820 108948 31.884900310349263 0.19999999999919993 2.0\n"
     ]
    },
    {
     "name": "stdout",
     "output_type": "stream",
     "text": [
      "6830 109099 -10.423419856884376 0.19999999999919993 2.0\n"
     ]
    },
    {
     "name": "stdout",
     "output_type": "stream",
     "text": [
      "6840 109227 16.701075559347892 0.19999999999919993 2.0\n"
     ]
    },
    {
     "name": "stdout",
     "output_type": "stream",
     "text": [
      "6850 109523 83.68364409333677 0.19999999999919993 3.0\n"
     ]
    },
    {
     "name": "stdout",
     "output_type": "stream",
     "text": [
      "6860 109821 18.21405557018171 0.19999999999919993 1.0\n"
     ]
    },
    {
     "name": "stdout",
     "output_type": "stream",
     "text": [
      "6870 110014 33.20332641278889 0.19999999999919993 2.0\n"
     ]
    },
    {
     "name": "stdout",
     "output_type": "stream",
     "text": [
      "6880 110175 11.438191297162717 0.19999999999919993 2.0\n"
     ]
    },
    {
     "name": "stdout",
     "output_type": "stream",
     "text": [
      "6890 110324 36.80489423647839 0.19999999999919993 2.0\n"
     ]
    },
    {
     "name": "stdout",
     "output_type": "stream",
     "text": [
      "6900 110571 34.89144185800458 0.19999999999919993 2.0\n"
     ]
    },
    {
     "name": "stdout",
     "output_type": "stream",
     "text": [
      "6910 110848 19.07735816005671 0.19999999999919993 1.0\n"
     ]
    },
    {
     "name": "stdout",
     "output_type": "stream",
     "text": [
      "6920 111012 9.399733018756622 0.19999999999919993 2.0\n"
     ]
    },
    {
     "name": "stdout",
     "output_type": "stream",
     "text": [
      "6930 111279 82.48576933244179 0.19999999999919993 3.0\n"
     ]
    },
    {
     "name": "stdout",
     "output_type": "stream",
     "text": [
      "6940 111570 4.819976183165852 0.19999999999919993 1.0\n"
     ]
    },
    {
     "name": "stdout",
     "output_type": "stream",
     "text": [
      "6950 111808 11.711469028016321 0.19999999999919993 1.0\n"
     ]
    },
    {
     "name": "stdout",
     "output_type": "stream",
     "text": [
      "6960 112074 -15.347747879696476 0.19999999999919993 1.0\n"
     ]
    },
    {
     "name": "stdout",
     "output_type": "stream",
     "text": [
      "6970 112316 15.058331914375483 0.19999999999919993 2.0\n"
     ]
    },
    {
     "name": "stdout",
     "output_type": "stream",
     "text": [
      "6980 112533 11.129434969810195 0.19999999999919993 2.5\n"
     ]
    },
    {
     "name": "stdout",
     "output_type": "stream",
     "text": [
      "6990 112679 31.535030198581403 0.19999999999919993 2.0\n"
     ]
    },
    {
     "name": "stdout",
     "output_type": "stream",
     "text": [
      "Saved model\n7000 112781 -10.024942355734755 0.19999999999919993 2.0\n"
     ]
    },
    {
     "name": "stdout",
     "output_type": "stream",
     "text": [
      "7010 113008 51.693541381532704 0.19999999999919993 2.0\n"
     ]
    },
    {
     "name": "stdout",
     "output_type": "stream",
     "text": [
      "7020 113179 -4.4179095661735275 0.19999999999919993 2.0\n"
     ]
    },
    {
     "name": "stdout",
     "output_type": "stream",
     "text": [
      "7030 113342 35.11153019668117 0.19999999999919993 2.0\n"
     ]
    },
    {
     "name": "stdout",
     "output_type": "stream",
     "text": [
      "7040 113449 13.354770910989933 0.19999999999919993 2.0\n"
     ]
    },
    {
     "name": "stdout",
     "output_type": "stream",
     "text": [
      "7050 113578 26.266671477991157 0.19999999999919993 2.0\n"
     ]
    },
    {
     "name": "stdout",
     "output_type": "stream",
     "text": [
      "7060 113702 16.44387157788678 0.19999999999919993 1.0\n"
     ]
    },
    {
     "name": "stdout",
     "output_type": "stream",
     "text": [
      "7070 113982 25.35341232025961 0.19999999999919993 2.0\n"
     ]
    },
    {
     "name": "stdout",
     "output_type": "stream",
     "text": [
      "7080 114142 -8.004944533800298 0.19999999999919993 2.0\n"
     ]
    },
    {
     "name": "stdout",
     "output_type": "stream",
     "text": [
      "7090 114299 16.22557922862651 0.19999999999919993 2.0\n"
     ]
    },
    {
     "name": "stdout",
     "output_type": "stream",
     "text": [
      "7100 114529 32.06992424396101 0.19999999999919993 2.0\n"
     ]
    },
    {
     "name": "stdout",
     "output_type": "stream",
     "text": [
      "7110 114834 113.69304559733555 0.19999999999919993 2.0\n"
     ]
    },
    {
     "name": "stdout",
     "output_type": "stream",
     "text": [
      "7120 115025 43.742876137688924 0.19999999999919993 3.0\n"
     ]
    },
    {
     "name": "stdout",
     "output_type": "stream",
     "text": [
      "7130 115222 39.73578546907724 0.19999999999919993 2.0\n"
     ]
    },
    {
     "name": "stdout",
     "output_type": "stream",
     "text": [
      "7140 115288 -4.2478697483481 0.19999999999919993 2.0\n"
     ]
    },
    {
     "name": "stdout",
     "output_type": "stream",
     "text": [
      "7150 115499 31.48319412513096 0.19999999999919993 2.0\n"
     ]
    },
    {
     "name": "stdout",
     "output_type": "stream",
     "text": [
      "7160 115624 3.9112944543120207 0.19999999999919993 1.5\n"
     ]
    },
    {
     "name": "stdout",
     "output_type": "stream",
     "text": [
      "7170 115848 36.462474546713466 0.19999999999919993 2.0\n"
     ]
    },
    {
     "name": "stdout",
     "output_type": "stream",
     "text": [
      "7180 116002 17.58183157847813 0.19999999999919993 3.0\n"
     ]
    },
    {
     "name": "stdout",
     "output_type": "stream",
     "text": [
      "7190 116114 15.574725465435955 0.19999999999919993 2.0\n"
     ]
    },
    {
     "name": "stdout",
     "output_type": "stream",
     "text": [
      "7200 116226 12.237325782413276 0.19999999999919993 2.0\n"
     ]
    },
    {
     "name": "stdout",
     "output_type": "stream",
     "text": [
      "7210 116400 36.36240985031318 0.19999999999919993 3.0\n"
     ]
    },
    {
     "name": "stdout",
     "output_type": "stream",
     "text": [
      "7220 116742 32.015424065634 0.19999999999919993 2.0\n"
     ]
    },
    {
     "name": "stdout",
     "output_type": "stream",
     "text": [
      "7230 116862 13.599694429556754 0.19999999999919993 2.0\n"
     ]
    },
    {
     "name": "stdout",
     "output_type": "stream",
     "text": [
      "7240 116995 8.428808024995703 0.19999999999919993 2.0\n"
     ]
    },
    {
     "name": "stdout",
     "output_type": "stream",
     "text": [
      "7250 117283 82.21149422540608 0.19999999999919993 3.0\n"
     ]
    },
    {
     "name": "stdout",
     "output_type": "stream",
     "text": [
      "7260 117506 10.573388369084478 0.19999999999919993 2.0\n"
     ]
    },
    {
     "name": "stdout",
     "output_type": "stream",
     "text": [
      "7270 117652 40.58853710657697 0.19999999999919993 3.0\n"
     ]
    },
    {
     "name": "stdout",
     "output_type": "stream",
     "text": [
      "7280 117853 47.49381106623159 0.19999999999919993 2.0\n"
     ]
    },
    {
     "name": "stdout",
     "output_type": "stream",
     "text": [
      "7290 118003 11.314003633291646 0.19999999999919993 1.0\n"
     ]
    },
    {
     "name": "stdout",
     "output_type": "stream",
     "text": [
      "7300 118157 35.390892484922944 0.19999999999919993 2.0\n"
     ]
    },
    {
     "name": "stdout",
     "output_type": "stream",
     "text": [
      "7310 118319 -11.580013005997941 0.19999999999919993 1.0\n"
     ]
    },
    {
     "name": "stdout",
     "output_type": "stream",
     "text": [
      "7320 118478 36.70988194894621 0.19999999999919993 1.0\n"
     ]
    },
    {
     "name": "stdout",
     "output_type": "stream",
     "text": [
      "7330 118729 25.068720309813393 0.19999999999919993 1.0\n"
     ]
    },
    {
     "name": "stdout",
     "output_type": "stream",
     "text": [
      "7340 118990 -1.2704420126645175 0.19999999999919993 1.0\n"
     ]
    },
    {
     "name": "stdout",
     "output_type": "stream",
     "text": [
      "7350 119152 12.604827454227147 0.19999999999919993 2.0\n"
     ]
    },
    {
     "name": "stdout",
     "output_type": "stream",
     "text": [
      "7360 119435 74.43736777258144 0.19999999999919993 2.0\n"
     ]
    },
    {
     "name": "stdout",
     "output_type": "stream",
     "text": [
      "7370 119498 14.838226422604128 0.19999999999919993 2.0\n"
     ]
    },
    {
     "name": "stdout",
     "output_type": "stream",
     "text": [
      "7380 119804 78.70609982761837 0.19999999999919993 2.0\n"
     ]
    },
    {
     "name": "stdout",
     "output_type": "stream",
     "text": [
      "7390 119986 12.657637125632242 0.19999999999919993 2.0\n"
     ]
    },
    {
     "name": "stdout",
     "output_type": "stream",
     "text": [
      "7400 120263 54.42896442544734 0.19999999999919993 3.0\n"
     ]
    },
    {
     "name": "stdout",
     "output_type": "stream",
     "text": [
      "7410 120408 13.404803948726638 0.19999999999919993 2.0\n"
     ]
    },
    {
     "name": "stdout",
     "output_type": "stream",
     "text": [
      "7420 120611 45.53815921473949 0.19999999999919993 3.0\n"
     ]
    },
    {
     "name": "stdout",
     "output_type": "stream",
     "text": [
      "7430 120753 18.185740779781447 0.19999999999919993 3.0\n"
     ]
    },
    {
     "name": "stdout",
     "output_type": "stream",
     "text": [
      "7440 120965 38.72611051640975 0.19999999999919993 2.0\n"
     ]
    },
    {
     "name": "stdout",
     "output_type": "stream",
     "text": [
      "7450 121093 38.09798765298685 0.19999999999919993 2.0\n"
     ]
    },
    {
     "name": "stdout",
     "output_type": "stream",
     "text": [
      "7460 121344 -0.09483245195927745 0.19999999999919993 2.0\n"
     ]
    },
    {
     "name": "stdout",
     "output_type": "stream",
     "text": [
      "7470 121568 29.466114764965006 0.19999999999919993 2.0\n"
     ]
    },
    {
     "name": "stdout",
     "output_type": "stream",
     "text": [
      "7480 121867 47.33713544777886 0.19999999999919993 2.0\n"
     ]
    },
    {
     "name": "stdout",
     "output_type": "stream",
     "text": [
      "7490 122179 71.00650180762246 0.19999999999919993 2.0\n"
     ]
    },
    {
     "name": "stdout",
     "output_type": "stream",
     "text": [
      "7500 122303 16.601444963422665 0.19999999999919993 2.0\n"
     ]
    },
    {
     "name": "stdout",
     "output_type": "stream",
     "text": [
      "7510 122559 42.777569321867475 0.19999999999919993 2.0\n"
     ]
    },
    {
     "name": "stdout",
     "output_type": "stream",
     "text": [
      "7520 122708 52.80506395034104 0.19999999999919993 2.0\n"
     ]
    },
    {
     "name": "stdout",
     "output_type": "stream",
     "text": [
      "7530 122768 -2.406978010091997 0.19999999999919993 3.0\n"
     ]
    },
    {
     "name": "stdout",
     "output_type": "stream",
     "text": [
      "7540 122968 14.206442998056954 0.19999999999919993 1.0\n"
     ]
    },
    {
     "name": "stdout",
     "output_type": "stream",
     "text": [
      "7550 123203 20.50930383695721 0.19999999999919993 1.0\n"
     ]
    },
    {
     "name": "stdout",
     "output_type": "stream",
     "text": [
      "7560 123320 15.16287014763888 0.19999999999919993 2.0\n"
     ]
    },
    {
     "name": "stdout",
     "output_type": "stream",
     "text": [
      "7570 123478 56.1104524595813 0.19999999999919993 2.0\n"
     ]
    },
    {
     "name": "stdout",
     "output_type": "stream",
     "text": [
      "7580 123641 27.132457261020967 0.19999999999919993 1.0\n"
     ]
    },
    {
     "name": "stdout",
     "output_type": "stream",
     "text": [
      "7590 123871 36.08310842734712 0.19999999999919993 3.0\n"
     ]
    },
    {
     "name": "stdout",
     "output_type": "stream",
     "text": [
      "7600 124096 40.98709306060299 0.19999999999919993 1.0\n"
     ]
    },
    {
     "name": "stdout",
     "output_type": "stream",
     "text": [
      "7610 124234 6.963719670384809 0.19999999999919993 2.0\n"
     ]
    },
    {
     "name": "stdout",
     "output_type": "stream",
     "text": [
      "7620 124385 26.32103757491415 0.19999999999919993 2.0\n"
     ]
    },
    {
     "name": "stdout",
     "output_type": "stream",
     "text": [
      "7630 124582 34.67747060142038 0.19999999999919993 2.0\n"
     ]
    },
    {
     "name": "stdout",
     "output_type": "stream",
     "text": [
      "7640 124900 40.38041748085941 0.19999999999919993 2.0\n"
     ]
    },
    {
     "name": "stdout",
     "output_type": "stream",
     "text": [
      "7650 124982 -7.120938131757811 0.19999999999919993 2.0\n"
     ]
    },
    {
     "name": "stdout",
     "output_type": "stream",
     "text": [
      "7660 125057 -8.620764740152797 0.19999999999919993 2.0\n"
     ]
    },
    {
     "name": "stdout",
     "output_type": "stream",
     "text": [
      "7670 125298 6.164661518484158 0.19999999999919993 2.0\n"
     ]
    },
    {
     "name": "stdout",
     "output_type": "stream",
     "text": [
      "7680 125403 12.549304317091297 0.19999999999919993 2.0\n"
     ]
    },
    {
     "name": "stdout",
     "output_type": "stream",
     "text": [
      "7690 125593 6.164553291853939 0.19999999999919993 2.0\n"
     ]
    },
    {
     "name": "stdout",
     "output_type": "stream",
     "text": [
      "7700 125888 52.875325818806914 0.19999999999919993 2.0\n"
     ]
    },
    {
     "name": "stdout",
     "output_type": "stream",
     "text": [
      "7710 126170 56.21569972728206 0.19999999999919993 2.0\n"
     ]
    },
    {
     "name": "stdout",
     "output_type": "stream",
     "text": [
      "7720 126421 79.0620988510862 0.19999999999919993 2.0\n"
     ]
    },
    {
     "name": "stdout",
     "output_type": "stream",
     "text": [
      "7730 126605 33.45810553342976 0.19999999999919993 2.0\n"
     ]
    },
    {
     "name": "stdout",
     "output_type": "stream",
     "text": [
      "7740 126777 17.776928674410648 0.19999999999919993 2.0\n"
     ]
    },
    {
     "name": "stdout",
     "output_type": "stream",
     "text": [
      "7750 127011 87.37356357231724 0.19999999999919993 4.0\n"
     ]
    },
    {
     "name": "stdout",
     "output_type": "stream",
     "text": [
      "7760 127194 23.65543781256772 0.19999999999919993 2.0\n"
     ]
    },
    {
     "name": "stdout",
     "output_type": "stream",
     "text": [
      "7770 127346 46.83164583990701 0.19999999999919993 3.0\n"
     ]
    },
    {
     "name": "stdout",
     "output_type": "stream",
     "text": [
      "7780 127578 33.02068144999764 0.19999999999919993 2.0\n"
     ]
    },
    {
     "name": "stdout",
     "output_type": "stream",
     "text": [
      "7790 127789 17.02375998241823 0.19999999999919993 2.0\n"
     ]
    },
    {
     "name": "stdout",
     "output_type": "stream",
     "text": [
      "7800 127990 44.33778574251224 0.19999999999919993 2.0\n"
     ]
    },
    {
     "name": "stdout",
     "output_type": "stream",
     "text": [
      "7810 128137 -11.213425356724496 0.19999999999919993 1.0\n"
     ]
    },
    {
     "name": "stdout",
     "output_type": "stream",
     "text": [
      "7820 128257 40.53517350412664 0.19999999999919993 2.0\n"
     ]
    },
    {
     "name": "stdout",
     "output_type": "stream",
     "text": [
      "7830 128480 41.46538672815089 0.19999999999919993 2.0\n"
     ]
    },
    {
     "name": "stdout",
     "output_type": "stream",
     "text": [
      "7840 128659 1.0378616972213077 0.19999999999919993 2.0\n"
     ]
    },
    {
     "name": "stdout",
     "output_type": "stream",
     "text": [
      "7850 128829 18.3992470882813 0.19999999999919993 2.0\n"
     ]
    },
    {
     "name": "stdout",
     "output_type": "stream",
     "text": [
      "7860 129102 66.38941760535965 0.19999999999919993 2.0\n"
     ]
    },
    {
     "name": "stdout",
     "output_type": "stream",
     "text": [
      "7870 129235 -7.766792933745991 0.19999999999919993 2.0\n"
     ]
    },
    {
     "name": "stdout",
     "output_type": "stream",
     "text": [
      "7880 129515 35.130178707511945 0.19999999999919993 2.0\n"
     ]
    },
    {
     "name": "stdout",
     "output_type": "stream",
     "text": [
      "7890 129681 -9.666909474415075 0.19999999999919993 2.0\n"
     ]
    },
    {
     "name": "stdout",
     "output_type": "stream",
     "text": [
      "7900 129937 69.0283864491065 0.19999999999919993 2.0\n"
     ]
    },
    {
     "name": "stdout",
     "output_type": "stream",
     "text": [
      "7910 130189 36.93935602950996 0.19999999999919993 2.0\n"
     ]
    },
    {
     "name": "stdout",
     "output_type": "stream",
     "text": [
      "7920 130315 44.51411605341468 0.19999999999919993 3.0\n"
     ]
    },
    {
     "name": "stdout",
     "output_type": "stream",
     "text": [
      "7930 130455 38.042349483622154 0.19999999999919993 2.0\n"
     ]
    },
    {
     "name": "stdout",
     "output_type": "stream",
     "text": [
      "7940 130548 13.927956791519469 0.19999999999919993 1.0\n"
     ]
    },
    {
     "name": "stdout",
     "output_type": "stream",
     "text": [
      "7950 130654 19.402854259466174 0.19999999999919993 2.0\n"
     ]
    },
    {
     "name": "stdout",
     "output_type": "stream",
     "text": [
      "7960 130767 26.20001208985092 0.19999999999919993 2.0\n"
     ]
    },
    {
     "name": "stdout",
     "output_type": "stream",
     "text": [
      "7970 130925 51.31826940903962 0.19999999999919993 2.0\n"
     ]
    },
    {
     "name": "stdout",
     "output_type": "stream",
     "text": [
      "7980 131008 -9.674464710380729 0.19999999999919993 1.0\n"
     ]
    },
    {
     "name": "stdout",
     "output_type": "stream",
     "text": [
      "7990 131101 11.03323319842907 0.19999999999919993 2.0\n"
     ]
    },
    {
     "name": "stdout",
     "output_type": "stream",
     "text": [
      "Saved model\n8000 131259 23.949106457019187 0.19999999999919993 2.0\n"
     ]
    },
    {
     "ename": "KeyboardInterrupt",
     "evalue": "",
     "traceback": [
      "\u001b[1;31m---------------------------------------------------------------------------\u001b[0m",
      "\u001b[1;31mKeyboardInterrupt\u001b[0m                         Traceback (most recent call last)",
      "\u001b[1;32m<timed exec>\u001b[0m in \u001b[0;36m<module>\u001b[1;34m\u001b[0m\n",
      "\u001b[1;32mD:\\Work\\pokerai\\engine\\pypokerengine\\scripts\\MyEmulator.py\u001b[0m in \u001b[0;36mrun_until_my_next_action\u001b[1;34m(self, game_state, my_uuid, my_messages)\u001b[0m\n\u001b[0;32m     32\u001b[0m                 \u001b[1;32mreturn\u001b[0m \u001b[0mgame_state\u001b[0m\u001b[1;33m,\u001b[0m \u001b[0mmsg\u001b[0m\u001b[1;33m[\u001b[0m\u001b[1;34m\"valid_actions\"\u001b[0m\u001b[1;33m]\u001b[0m\u001b[1;33m,\u001b[0m \u001b[0mmsg\u001b[0m\u001b[1;33m[\u001b[0m\u001b[1;34m\"hole_card\"\u001b[0m\u001b[1;33m]\u001b[0m\u001b[1;33m,\u001b[0m \u001b[0mmsg\u001b[0m\u001b[1;33m[\u001b[0m\u001b[1;34m\"round_state\"\u001b[0m\u001b[1;33m]\u001b[0m\u001b[1;33m\u001b[0m\u001b[0m\n\u001b[0;32m     33\u001b[0m \u001b[1;33m\u001b[0m\u001b[0m\n\u001b[1;32m---> 34\u001b[1;33m             \u001b[0maction\u001b[0m\u001b[1;33m,\u001b[0m \u001b[0mamount\u001b[0m \u001b[1;33m=\u001b[0m \u001b[0mnext_player_algorithm\u001b[0m\u001b[1;33m.\u001b[0m\u001b[0mdeclare_action\u001b[0m\u001b[1;33m(\u001b[0m\u001b[0mmsg\u001b[0m\u001b[1;33m[\u001b[0m\u001b[1;34m\"valid_actions\"\u001b[0m\u001b[1;33m]\u001b[0m\u001b[1;33m,\u001b[0m \u001b[0mmsg\u001b[0m\u001b[1;33m[\u001b[0m\u001b[1;34m\"hole_card\"\u001b[0m\u001b[1;33m]\u001b[0m\u001b[1;33m,\u001b[0m \u001b[0mmsg\u001b[0m\u001b[1;33m[\u001b[0m\u001b[1;34m\"round_state\"\u001b[0m\u001b[1;33m]\u001b[0m\u001b[1;33m)\u001b[0m\u001b[1;33m\u001b[0m\u001b[0m\n\u001b[0m\u001b[0;32m     35\u001b[0m \u001b[1;33m\u001b[0m\u001b[0m\n\u001b[0;32m     36\u001b[0m             \u001b[0mgame_state\u001b[0m\u001b[1;33m,\u001b[0m \u001b[0mmessages\u001b[0m \u001b[1;33m=\u001b[0m \u001b[0mRoundManager\u001b[0m\u001b[1;33m.\u001b[0m\u001b[0mapply_action\u001b[0m\u001b[1;33m(\u001b[0m\u001b[0mgame_state\u001b[0m\u001b[1;33m,\u001b[0m \u001b[0maction\u001b[0m\u001b[1;33m,\u001b[0m \u001b[0mamount\u001b[0m\u001b[1;33m)\u001b[0m\u001b[1;33m\u001b[0m\u001b[0m\n",
      "\u001b[1;32mD:\\Work\\pokerai\\engine\\pypokerengine\\scripts\\PlayerModels.py\u001b[0m in \u001b[0;36mdeclare_action\u001b[1;34m(self, valid_actions, hole_card, round_state)\u001b[0m\n\u001b[0;32m     63\u001b[0m         win_rate = estimate_hole_card_win_rate(nb_simulation=100, nb_player=self.nb_player,\n\u001b[0;32m     64\u001b[0m                                                \u001b[0mhole_card\u001b[0m\u001b[1;33m=\u001b[0m\u001b[0mgen_cards\u001b[0m\u001b[1;33m(\u001b[0m\u001b[0mhole_card\u001b[0m\u001b[1;33m)\u001b[0m\u001b[1;33m,\u001b[0m\u001b[1;33m\u001b[0m\u001b[0m\n\u001b[1;32m---> 65\u001b[1;33m                                                community_card=gen_cards(community_card))\n\u001b[0m\u001b[0;32m     66\u001b[0m         \u001b[1;32mif\u001b[0m \u001b[0mwin_rate\u001b[0m \u001b[1;33m>\u001b[0m \u001b[1;36m1\u001b[0m \u001b[1;33m/\u001b[0m \u001b[0mfloat\u001b[0m\u001b[1;33m(\u001b[0m\u001b[0mself\u001b[0m\u001b[1;33m.\u001b[0m\u001b[0mnb_player\u001b[0m\u001b[1;33m)\u001b[0m \u001b[1;33m+\u001b[0m \u001b[1;36m0.1\u001b[0m\u001b[1;33m:\u001b[0m\u001b[1;33m\u001b[0m\u001b[0m\n\u001b[0;32m     67\u001b[0m             \u001b[0maction\u001b[0m\u001b[1;33m,\u001b[0m \u001b[0mamount\u001b[0m \u001b[1;33m=\u001b[0m \u001b[0mcall_action_info\u001b[0m\u001b[1;33m[\u001b[0m\u001b[1;34m\"action\"\u001b[0m\u001b[1;33m]\u001b[0m\u001b[1;33m,\u001b[0m \u001b[0mcall_action_info\u001b[0m\u001b[1;33m[\u001b[0m\u001b[1;34m\"amount\"\u001b[0m\u001b[1;33m]\u001b[0m\u001b[1;33m\u001b[0m\u001b[0m\n",
      "\u001b[1;32mD:\\Work\\pokerai\\engine\\pypokerengine\\venv\\lib\\site-packages\\pypokerengine\\utils\\card_utils.py\u001b[0m in \u001b[0;36mestimate_hole_card_win_rate\u001b[1;34m(nb_simulation, nb_player, hole_card, community_card)\u001b[0m\n\u001b[0;32m     10\u001b[0m \u001b[1;32mdef\u001b[0m \u001b[0mestimate_hole_card_win_rate\u001b[0m\u001b[1;33m(\u001b[0m\u001b[0mnb_simulation\u001b[0m\u001b[1;33m,\u001b[0m \u001b[0mnb_player\u001b[0m\u001b[1;33m,\u001b[0m \u001b[0mhole_card\u001b[0m\u001b[1;33m,\u001b[0m \u001b[0mcommunity_card\u001b[0m\u001b[1;33m=\u001b[0m\u001b[1;32mNone\u001b[0m\u001b[1;33m)\u001b[0m\u001b[1;33m:\u001b[0m\u001b[1;33m\u001b[0m\u001b[0m\n\u001b[0;32m     11\u001b[0m     \u001b[1;32mif\u001b[0m \u001b[1;32mnot\u001b[0m \u001b[0mcommunity_card\u001b[0m\u001b[1;33m:\u001b[0m \u001b[0mcommunity_card\u001b[0m \u001b[1;33m=\u001b[0m \u001b[1;33m[\u001b[0m\u001b[1;33m]\u001b[0m\u001b[1;33m\u001b[0m\u001b[0m\n\u001b[1;32m---> 12\u001b[1;33m     \u001b[0mwin_count\u001b[0m \u001b[1;33m=\u001b[0m \u001b[0msum\u001b[0m\u001b[1;33m(\u001b[0m\u001b[1;33m[\u001b[0m\u001b[0m_montecarlo_simulation\u001b[0m\u001b[1;33m(\u001b[0m\u001b[0mnb_player\u001b[0m\u001b[1;33m,\u001b[0m \u001b[0mhole_card\u001b[0m\u001b[1;33m,\u001b[0m \u001b[0mcommunity_card\u001b[0m\u001b[1;33m)\u001b[0m \u001b[1;32mfor\u001b[0m \u001b[0m_\u001b[0m \u001b[1;32min\u001b[0m \u001b[0mrange\u001b[0m\u001b[1;33m(\u001b[0m\u001b[0mnb_simulation\u001b[0m\u001b[1;33m)\u001b[0m\u001b[1;33m]\u001b[0m\u001b[1;33m)\u001b[0m\u001b[1;33m\u001b[0m\u001b[0m\n\u001b[0m\u001b[0;32m     13\u001b[0m     \u001b[1;32mreturn\u001b[0m \u001b[1;36m1.0\u001b[0m \u001b[1;33m*\u001b[0m \u001b[0mwin_count\u001b[0m \u001b[1;33m/\u001b[0m \u001b[0mnb_simulation\u001b[0m\u001b[1;33m\u001b[0m\u001b[0m\n\u001b[0;32m     14\u001b[0m \u001b[1;33m\u001b[0m\u001b[0m\n",
      "\u001b[1;32mD:\\Work\\pokerai\\engine\\pypokerengine\\venv\\lib\\site-packages\\pypokerengine\\utils\\card_utils.py\u001b[0m in \u001b[0;36m<listcomp>\u001b[1;34m(.0)\u001b[0m\n\u001b[0;32m     10\u001b[0m \u001b[1;32mdef\u001b[0m \u001b[0mestimate_hole_card_win_rate\u001b[0m\u001b[1;33m(\u001b[0m\u001b[0mnb_simulation\u001b[0m\u001b[1;33m,\u001b[0m \u001b[0mnb_player\u001b[0m\u001b[1;33m,\u001b[0m \u001b[0mhole_card\u001b[0m\u001b[1;33m,\u001b[0m \u001b[0mcommunity_card\u001b[0m\u001b[1;33m=\u001b[0m\u001b[1;32mNone\u001b[0m\u001b[1;33m)\u001b[0m\u001b[1;33m:\u001b[0m\u001b[1;33m\u001b[0m\u001b[0m\n\u001b[0;32m     11\u001b[0m     \u001b[1;32mif\u001b[0m \u001b[1;32mnot\u001b[0m \u001b[0mcommunity_card\u001b[0m\u001b[1;33m:\u001b[0m \u001b[0mcommunity_card\u001b[0m \u001b[1;33m=\u001b[0m \u001b[1;33m[\u001b[0m\u001b[1;33m]\u001b[0m\u001b[1;33m\u001b[0m\u001b[0m\n\u001b[1;32m---> 12\u001b[1;33m     \u001b[0mwin_count\u001b[0m \u001b[1;33m=\u001b[0m \u001b[0msum\u001b[0m\u001b[1;33m(\u001b[0m\u001b[1;33m[\u001b[0m\u001b[0m_montecarlo_simulation\u001b[0m\u001b[1;33m(\u001b[0m\u001b[0mnb_player\u001b[0m\u001b[1;33m,\u001b[0m \u001b[0mhole_card\u001b[0m\u001b[1;33m,\u001b[0m \u001b[0mcommunity_card\u001b[0m\u001b[1;33m)\u001b[0m \u001b[1;32mfor\u001b[0m \u001b[0m_\u001b[0m \u001b[1;32min\u001b[0m \u001b[0mrange\u001b[0m\u001b[1;33m(\u001b[0m\u001b[0mnb_simulation\u001b[0m\u001b[1;33m)\u001b[0m\u001b[1;33m]\u001b[0m\u001b[1;33m)\u001b[0m\u001b[1;33m\u001b[0m\u001b[0m\n\u001b[0m\u001b[0;32m     13\u001b[0m     \u001b[1;32mreturn\u001b[0m \u001b[1;36m1.0\u001b[0m \u001b[1;33m*\u001b[0m \u001b[0mwin_count\u001b[0m \u001b[1;33m/\u001b[0m \u001b[0mnb_simulation\u001b[0m\u001b[1;33m\u001b[0m\u001b[0m\n\u001b[0;32m     14\u001b[0m \u001b[1;33m\u001b[0m\u001b[0m\n",
      "\u001b[1;32mD:\\Work\\pokerai\\engine\\pypokerengine\\venv\\lib\\site-packages\\pypokerengine\\utils\\card_utils.py\u001b[0m in \u001b[0;36m_montecarlo_simulation\u001b[1;34m(nb_player, hole_card, community_card)\u001b[0m\n\u001b[0;32m     35\u001b[0m     \u001b[0munused_cards\u001b[0m \u001b[1;33m=\u001b[0m \u001b[0m_pick_unused_card\u001b[0m\u001b[1;33m(\u001b[0m\u001b[1;33m(\u001b[0m\u001b[0mnb_player\u001b[0m\u001b[1;33m-\u001b[0m\u001b[1;36m1\u001b[0m\u001b[1;33m)\u001b[0m\u001b[1;33m*\u001b[0m\u001b[1;36m2\u001b[0m\u001b[1;33m,\u001b[0m \u001b[0mhole_card\u001b[0m \u001b[1;33m+\u001b[0m \u001b[0mcommunity_card\u001b[0m\u001b[1;33m)\u001b[0m\u001b[1;33m\u001b[0m\u001b[0m\n\u001b[0;32m     36\u001b[0m     \u001b[0mopponents_hole\u001b[0m \u001b[1;33m=\u001b[0m \u001b[1;33m[\u001b[0m\u001b[0munused_cards\u001b[0m\u001b[1;33m[\u001b[0m\u001b[1;36m2\u001b[0m\u001b[1;33m*\u001b[0m\u001b[0mi\u001b[0m\u001b[1;33m:\u001b[0m\u001b[1;36m2\u001b[0m\u001b[1;33m*\u001b[0m\u001b[0mi\u001b[0m\u001b[1;33m+\u001b[0m\u001b[1;36m2\u001b[0m\u001b[1;33m]\u001b[0m \u001b[1;32mfor\u001b[0m \u001b[0mi\u001b[0m \u001b[1;32min\u001b[0m \u001b[0mrange\u001b[0m\u001b[1;33m(\u001b[0m\u001b[0mnb_player\u001b[0m\u001b[1;33m-\u001b[0m\u001b[1;36m1\u001b[0m\u001b[1;33m)\u001b[0m\u001b[1;33m]\u001b[0m\u001b[1;33m\u001b[0m\u001b[0m\n\u001b[1;32m---> 37\u001b[1;33m     \u001b[0mopponents_score\u001b[0m \u001b[1;33m=\u001b[0m \u001b[1;33m[\u001b[0m\u001b[0mHandEvaluator\u001b[0m\u001b[1;33m.\u001b[0m\u001b[0meval_hand\u001b[0m\u001b[1;33m(\u001b[0m\u001b[0mhole\u001b[0m\u001b[1;33m,\u001b[0m \u001b[0mcommunity_card\u001b[0m\u001b[1;33m)\u001b[0m \u001b[1;32mfor\u001b[0m \u001b[0mhole\u001b[0m \u001b[1;32min\u001b[0m \u001b[0mopponents_hole\u001b[0m\u001b[1;33m]\u001b[0m\u001b[1;33m\u001b[0m\u001b[0m\n\u001b[0m\u001b[0;32m     38\u001b[0m     \u001b[0mmy_score\u001b[0m \u001b[1;33m=\u001b[0m \u001b[0mHandEvaluator\u001b[0m\u001b[1;33m.\u001b[0m\u001b[0meval_hand\u001b[0m\u001b[1;33m(\u001b[0m\u001b[0mhole_card\u001b[0m\u001b[1;33m,\u001b[0m \u001b[0mcommunity_card\u001b[0m\u001b[1;33m)\u001b[0m\u001b[1;33m\u001b[0m\u001b[0m\n\u001b[0;32m     39\u001b[0m     \u001b[1;32mreturn\u001b[0m \u001b[1;36m1\u001b[0m \u001b[1;32mif\u001b[0m \u001b[0mmy_score\u001b[0m \u001b[1;33m>=\u001b[0m \u001b[0mmax\u001b[0m\u001b[1;33m(\u001b[0m\u001b[0mopponents_score\u001b[0m\u001b[1;33m)\u001b[0m \u001b[1;32melse\u001b[0m \u001b[1;36m0\u001b[0m\u001b[1;33m\u001b[0m\u001b[0m\n",
      "\u001b[1;32mD:\\Work\\pokerai\\engine\\pypokerengine\\venv\\lib\\site-packages\\pypokerengine\\utils\\card_utils.py\u001b[0m in \u001b[0;36m<listcomp>\u001b[1;34m(.0)\u001b[0m\n\u001b[0;32m     35\u001b[0m     \u001b[0munused_cards\u001b[0m \u001b[1;33m=\u001b[0m \u001b[0m_pick_unused_card\u001b[0m\u001b[1;33m(\u001b[0m\u001b[1;33m(\u001b[0m\u001b[0mnb_player\u001b[0m\u001b[1;33m-\u001b[0m\u001b[1;36m1\u001b[0m\u001b[1;33m)\u001b[0m\u001b[1;33m*\u001b[0m\u001b[1;36m2\u001b[0m\u001b[1;33m,\u001b[0m \u001b[0mhole_card\u001b[0m \u001b[1;33m+\u001b[0m \u001b[0mcommunity_card\u001b[0m\u001b[1;33m)\u001b[0m\u001b[1;33m\u001b[0m\u001b[0m\n\u001b[0;32m     36\u001b[0m     \u001b[0mopponents_hole\u001b[0m \u001b[1;33m=\u001b[0m \u001b[1;33m[\u001b[0m\u001b[0munused_cards\u001b[0m\u001b[1;33m[\u001b[0m\u001b[1;36m2\u001b[0m\u001b[1;33m*\u001b[0m\u001b[0mi\u001b[0m\u001b[1;33m:\u001b[0m\u001b[1;36m2\u001b[0m\u001b[1;33m*\u001b[0m\u001b[0mi\u001b[0m\u001b[1;33m+\u001b[0m\u001b[1;36m2\u001b[0m\u001b[1;33m]\u001b[0m \u001b[1;32mfor\u001b[0m \u001b[0mi\u001b[0m \u001b[1;32min\u001b[0m \u001b[0mrange\u001b[0m\u001b[1;33m(\u001b[0m\u001b[0mnb_player\u001b[0m\u001b[1;33m-\u001b[0m\u001b[1;36m1\u001b[0m\u001b[1;33m)\u001b[0m\u001b[1;33m]\u001b[0m\u001b[1;33m\u001b[0m\u001b[0m\n\u001b[1;32m---> 37\u001b[1;33m     \u001b[0mopponents_score\u001b[0m \u001b[1;33m=\u001b[0m \u001b[1;33m[\u001b[0m\u001b[0mHandEvaluator\u001b[0m\u001b[1;33m.\u001b[0m\u001b[0meval_hand\u001b[0m\u001b[1;33m(\u001b[0m\u001b[0mhole\u001b[0m\u001b[1;33m,\u001b[0m \u001b[0mcommunity_card\u001b[0m\u001b[1;33m)\u001b[0m \u001b[1;32mfor\u001b[0m \u001b[0mhole\u001b[0m \u001b[1;32min\u001b[0m \u001b[0mopponents_hole\u001b[0m\u001b[1;33m]\u001b[0m\u001b[1;33m\u001b[0m\u001b[0m\n\u001b[0m\u001b[0;32m     38\u001b[0m     \u001b[0mmy_score\u001b[0m \u001b[1;33m=\u001b[0m \u001b[0mHandEvaluator\u001b[0m\u001b[1;33m.\u001b[0m\u001b[0meval_hand\u001b[0m\u001b[1;33m(\u001b[0m\u001b[0mhole_card\u001b[0m\u001b[1;33m,\u001b[0m \u001b[0mcommunity_card\u001b[0m\u001b[1;33m)\u001b[0m\u001b[1;33m\u001b[0m\u001b[0m\n\u001b[0;32m     39\u001b[0m     \u001b[1;32mreturn\u001b[0m \u001b[1;36m1\u001b[0m \u001b[1;32mif\u001b[0m \u001b[0mmy_score\u001b[0m \u001b[1;33m>=\u001b[0m \u001b[0mmax\u001b[0m\u001b[1;33m(\u001b[0m\u001b[0mopponents_score\u001b[0m\u001b[1;33m)\u001b[0m \u001b[1;32melse\u001b[0m \u001b[1;36m0\u001b[0m\u001b[1;33m\u001b[0m\u001b[0m\n",
      "\u001b[1;32mD:\\Work\\pokerai\\engine\\pypokerengine\\venv\\lib\\site-packages\\pypokerengine\\engine\\hand_evaluator.py\u001b[0m in \u001b[0;36meval_hand\u001b[1;34m(self, hole, community)\u001b[0m\n\u001b[0;32m     52\u001b[0m     \u001b[0mranks\u001b[0m \u001b[1;33m=\u001b[0m \u001b[0msorted\u001b[0m\u001b[1;33m(\u001b[0m\u001b[1;33m[\u001b[0m\u001b[0mcard\u001b[0m\u001b[1;33m.\u001b[0m\u001b[0mrank\u001b[0m \u001b[1;32mfor\u001b[0m \u001b[0mcard\u001b[0m \u001b[1;32min\u001b[0m \u001b[0mhole\u001b[0m\u001b[1;33m]\u001b[0m\u001b[1;33m)\u001b[0m\u001b[1;33m\u001b[0m\u001b[0m\n\u001b[0;32m     53\u001b[0m     \u001b[0mhole_flg\u001b[0m \u001b[1;33m=\u001b[0m \u001b[0mranks\u001b[0m\u001b[1;33m[\u001b[0m\u001b[1;36m1\u001b[0m\u001b[1;33m]\u001b[0m \u001b[1;33m<<\u001b[0m \u001b[1;36m4\u001b[0m \u001b[1;33m|\u001b[0m \u001b[0mranks\u001b[0m\u001b[1;33m[\u001b[0m\u001b[1;36m0\u001b[0m\u001b[1;33m]\u001b[0m\u001b[1;33m\u001b[0m\u001b[0m\n\u001b[1;32m---> 54\u001b[1;33m     \u001b[0mhand_flg\u001b[0m \u001b[1;33m=\u001b[0m \u001b[0mself\u001b[0m\u001b[1;33m.\u001b[0m\u001b[0m__calc_hand_info_flg\u001b[0m\u001b[1;33m(\u001b[0m\u001b[0mhole\u001b[0m\u001b[1;33m,\u001b[0m \u001b[0mcommunity\u001b[0m\u001b[1;33m)\u001b[0m \u001b[1;33m<<\u001b[0m \u001b[1;36m8\u001b[0m\u001b[1;33m\u001b[0m\u001b[0m\n\u001b[0m\u001b[0;32m     55\u001b[0m     \u001b[1;32mreturn\u001b[0m \u001b[0mhand_flg\u001b[0m \u001b[1;33m|\u001b[0m \u001b[0mhole_flg\u001b[0m\u001b[1;33m\u001b[0m\u001b[0m\n\u001b[0;32m     56\u001b[0m \u001b[1;33m\u001b[0m\u001b[0m\n",
      "\u001b[1;32mD:\\Work\\pokerai\\engine\\pypokerengine\\venv\\lib\\site-packages\\pypokerengine\\engine\\hand_evaluator.py\u001b[0m in \u001b[0;36m__calc_hand_info_flg\u001b[1;34m(self, hole, community)\u001b[0m\n\u001b[0;32m     70\u001b[0m   \u001b[1;32mdef\u001b[0m \u001b[0m__calc_hand_info_flg\u001b[0m\u001b[1;33m(\u001b[0m\u001b[0mself\u001b[0m\u001b[1;33m,\u001b[0m \u001b[0mhole\u001b[0m\u001b[1;33m,\u001b[0m \u001b[0mcommunity\u001b[0m\u001b[1;33m)\u001b[0m\u001b[1;33m:\u001b[0m\u001b[1;33m\u001b[0m\u001b[0m\n\u001b[0;32m     71\u001b[0m     \u001b[0mcards\u001b[0m \u001b[1;33m=\u001b[0m \u001b[0mhole\u001b[0m \u001b[1;33m+\u001b[0m \u001b[0mcommunity\u001b[0m\u001b[1;33m\u001b[0m\u001b[0m\n\u001b[1;32m---> 72\u001b[1;33m     \u001b[1;32mif\u001b[0m \u001b[0mself\u001b[0m\u001b[1;33m.\u001b[0m\u001b[0m__is_straightflash\u001b[0m\u001b[1;33m(\u001b[0m\u001b[0mcards\u001b[0m\u001b[1;33m)\u001b[0m\u001b[1;33m:\u001b[0m \u001b[1;32mreturn\u001b[0m \u001b[0mself\u001b[0m\u001b[1;33m.\u001b[0m\u001b[0mSTRAIGHTFLASH\u001b[0m \u001b[1;33m|\u001b[0m \u001b[0mself\u001b[0m\u001b[1;33m.\u001b[0m\u001b[0m__eval_straightflash\u001b[0m\u001b[1;33m(\u001b[0m\u001b[0mcards\u001b[0m\u001b[1;33m)\u001b[0m\u001b[1;33m\u001b[0m\u001b[0m\n\u001b[0m\u001b[0;32m     73\u001b[0m     \u001b[1;32mif\u001b[0m \u001b[0mself\u001b[0m\u001b[1;33m.\u001b[0m\u001b[0m__is_fourcard\u001b[0m\u001b[1;33m(\u001b[0m\u001b[0mcards\u001b[0m\u001b[1;33m)\u001b[0m\u001b[1;33m:\u001b[0m \u001b[1;32mreturn\u001b[0m \u001b[0mself\u001b[0m\u001b[1;33m.\u001b[0m\u001b[0mFOURCARD\u001b[0m \u001b[1;33m|\u001b[0m \u001b[0mself\u001b[0m\u001b[1;33m.\u001b[0m\u001b[0m__eval_fourcard\u001b[0m\u001b[1;33m(\u001b[0m\u001b[0mcards\u001b[0m\u001b[1;33m)\u001b[0m\u001b[1;33m\u001b[0m\u001b[0m\n\u001b[0;32m     74\u001b[0m     \u001b[1;32mif\u001b[0m \u001b[0mself\u001b[0m\u001b[1;33m.\u001b[0m\u001b[0m__is_fullhouse\u001b[0m\u001b[1;33m(\u001b[0m\u001b[0mcards\u001b[0m\u001b[1;33m)\u001b[0m\u001b[1;33m:\u001b[0m \u001b[1;32mreturn\u001b[0m \u001b[0mself\u001b[0m\u001b[1;33m.\u001b[0m\u001b[0mFULLHOUSE\u001b[0m \u001b[1;33m|\u001b[0m \u001b[0mself\u001b[0m\u001b[1;33m.\u001b[0m\u001b[0m__eval_fullhouse\u001b[0m\u001b[1;33m(\u001b[0m\u001b[0mcards\u001b[0m\u001b[1;33m)\u001b[0m\u001b[1;33m\u001b[0m\u001b[0m\n",
      "\u001b[1;32mD:\\Work\\pokerai\\engine\\pypokerengine\\venv\\lib\\site-packages\\pypokerengine\\engine\\hand_evaluator.py\u001b[0m in \u001b[0;36m__is_straightflash\u001b[1;34m(self, cards)\u001b[0m\n\u001b[0;32m    219\u001b[0m   \u001b[1;33m@\u001b[0m\u001b[0mclassmethod\u001b[0m\u001b[1;33m\u001b[0m\u001b[0m\n\u001b[0;32m    220\u001b[0m   \u001b[1;32mdef\u001b[0m \u001b[0m__is_straightflash\u001b[0m\u001b[1;33m(\u001b[0m\u001b[0mself\u001b[0m\u001b[1;33m,\u001b[0m \u001b[0mcards\u001b[0m\u001b[1;33m)\u001b[0m\u001b[1;33m:\u001b[0m\u001b[1;33m\u001b[0m\u001b[0m\n\u001b[1;32m--> 221\u001b[1;33m     \u001b[1;32mreturn\u001b[0m \u001b[0mself\u001b[0m\u001b[1;33m.\u001b[0m\u001b[0m__search_straightflash\u001b[0m\u001b[1;33m(\u001b[0m\u001b[0mcards\u001b[0m\u001b[1;33m)\u001b[0m \u001b[1;33m!=\u001b[0m \u001b[1;33m-\u001b[0m\u001b[1;36m1\u001b[0m\u001b[1;33m\u001b[0m\u001b[0m\n\u001b[0m\u001b[0;32m    222\u001b[0m \u001b[1;33m\u001b[0m\u001b[0m\n\u001b[0;32m    223\u001b[0m   \u001b[1;33m@\u001b[0m\u001b[0mclassmethod\u001b[0m\u001b[1;33m\u001b[0m\u001b[0m\n",
      "\u001b[1;32mD:\\Work\\pokerai\\engine\\pypokerengine\\venv\\lib\\site-packages\\pypokerengine\\engine\\hand_evaluator.py\u001b[0m in \u001b[0;36m__search_straightflash\u001b[1;34m(self, cards)\u001b[0m\n\u001b[0;32m    229\u001b[0m     \u001b[0mflash_cards\u001b[0m \u001b[1;33m=\u001b[0m \u001b[1;33m[\u001b[0m\u001b[1;33m]\u001b[0m\u001b[1;33m\u001b[0m\u001b[0m\n\u001b[0;32m    230\u001b[0m     \u001b[0mfetch_suit\u001b[0m \u001b[1;33m=\u001b[0m \u001b[1;32mlambda\u001b[0m \u001b[0mcard\u001b[0m\u001b[1;33m:\u001b[0m \u001b[0mcard\u001b[0m\u001b[1;33m.\u001b[0m\u001b[0msuit\u001b[0m\u001b[1;33m\u001b[0m\u001b[0m\n\u001b[1;32m--> 231\u001b[1;33m     \u001b[1;32mfor\u001b[0m \u001b[0msuit\u001b[0m\u001b[1;33m,\u001b[0m \u001b[0mgroup_obj\u001b[0m \u001b[1;32min\u001b[0m \u001b[0mgroupby\u001b[0m\u001b[1;33m(\u001b[0m\u001b[0msorted\u001b[0m\u001b[1;33m(\u001b[0m\u001b[0mcards\u001b[0m\u001b[1;33m,\u001b[0m \u001b[0mkey\u001b[0m\u001b[1;33m=\u001b[0m\u001b[0mfetch_suit\u001b[0m\u001b[1;33m)\u001b[0m\u001b[1;33m,\u001b[0m \u001b[0mkey\u001b[0m\u001b[1;33m=\u001b[0m\u001b[0mfetch_suit\u001b[0m\u001b[1;33m)\u001b[0m\u001b[1;33m:\u001b[0m\u001b[1;33m\u001b[0m\u001b[0m\n\u001b[0m\u001b[0;32m    232\u001b[0m       \u001b[0mg\u001b[0m \u001b[1;33m=\u001b[0m \u001b[0mlist\u001b[0m\u001b[1;33m(\u001b[0m\u001b[0mgroup_obj\u001b[0m\u001b[1;33m)\u001b[0m\u001b[1;33m\u001b[0m\u001b[0m\n\u001b[0;32m    233\u001b[0m       \u001b[1;32mif\u001b[0m \u001b[0mlen\u001b[0m\u001b[1;33m(\u001b[0m\u001b[0mg\u001b[0m\u001b[1;33m)\u001b[0m \u001b[1;33m>=\u001b[0m \u001b[1;36m5\u001b[0m\u001b[1;33m:\u001b[0m \u001b[0mflash_cards\u001b[0m \u001b[1;33m=\u001b[0m \u001b[0mg\u001b[0m\u001b[1;33m\u001b[0m\u001b[0m\n",
      "\u001b[1;32mD:\\Work\\pokerai\\engine\\pypokerengine\\venv\\lib\\site-packages\\pypokerengine\\engine\\hand_evaluator.py\u001b[0m in \u001b[0;36m<lambda>\u001b[1;34m(card)\u001b[0m\n\u001b[0;32m    228\u001b[0m   \u001b[1;32mdef\u001b[0m \u001b[0m__search_straightflash\u001b[0m\u001b[1;33m(\u001b[0m\u001b[0mself\u001b[0m\u001b[1;33m,\u001b[0m \u001b[0mcards\u001b[0m\u001b[1;33m)\u001b[0m\u001b[1;33m:\u001b[0m\u001b[1;33m\u001b[0m\u001b[0m\n\u001b[0;32m    229\u001b[0m     \u001b[0mflash_cards\u001b[0m \u001b[1;33m=\u001b[0m \u001b[1;33m[\u001b[0m\u001b[1;33m]\u001b[0m\u001b[1;33m\u001b[0m\u001b[0m\n\u001b[1;32m--> 230\u001b[1;33m     \u001b[0mfetch_suit\u001b[0m \u001b[1;33m=\u001b[0m \u001b[1;32mlambda\u001b[0m \u001b[0mcard\u001b[0m\u001b[1;33m:\u001b[0m \u001b[0mcard\u001b[0m\u001b[1;33m.\u001b[0m\u001b[0msuit\u001b[0m\u001b[1;33m\u001b[0m\u001b[0m\n\u001b[0m\u001b[0;32m    231\u001b[0m     \u001b[1;32mfor\u001b[0m \u001b[0msuit\u001b[0m\u001b[1;33m,\u001b[0m \u001b[0mgroup_obj\u001b[0m \u001b[1;32min\u001b[0m \u001b[0mgroupby\u001b[0m\u001b[1;33m(\u001b[0m\u001b[0msorted\u001b[0m\u001b[1;33m(\u001b[0m\u001b[0mcards\u001b[0m\u001b[1;33m,\u001b[0m \u001b[0mkey\u001b[0m\u001b[1;33m=\u001b[0m\u001b[0mfetch_suit\u001b[0m\u001b[1;33m)\u001b[0m\u001b[1;33m,\u001b[0m \u001b[0mkey\u001b[0m\u001b[1;33m=\u001b[0m\u001b[0mfetch_suit\u001b[0m\u001b[1;33m)\u001b[0m\u001b[1;33m:\u001b[0m\u001b[1;33m\u001b[0m\u001b[0m\n\u001b[0;32m    232\u001b[0m       \u001b[0mg\u001b[0m \u001b[1;33m=\u001b[0m \u001b[0mlist\u001b[0m\u001b[1;33m(\u001b[0m\u001b[0mgroup_obj\u001b[0m\u001b[1;33m)\u001b[0m\u001b[1;33m\u001b[0m\u001b[0m\n",
      "\u001b[1;31mKeyboardInterrupt\u001b[0m: "
     ],
     "output_type": "error"
    }
   ],
   "source": [
    "%%time\n",
    "init = tf.global_variables_initializer()\n",
    "saver = tf.train.Saver(max_to_keep=3)\n",
    "trainables = tf.trainable_variables()\n",
    "target_ops = update_target_graph(trainables, tau)\n",
    "my_buffer = ExperienceBuffer()\n",
    "\n",
    "e = start_E\n",
    "step_drop = (start_E - end_E) / annealings_steps\n",
    "\n",
    "j_list = []\n",
    "r_list = []\n",
    "action_list = []\n",
    "total_steps = 0\n",
    "\n",
    "with tf.Session() as sess:\n",
    "    sess.run(init)\n",
    "    if load_model:\n",
    "        print('Loading model')\n",
    "        ckpt = tf.train.get_checkpoint_state(path)\n",
    "        saver.restore(sess, ckpt.model_checkpoint_path)\n",
    "    for i in range(num_episodes):\n",
    "        episode_buffer = ExperienceBuffer()\n",
    "        init_emul(str(np.random.randint(1, 10)))\n",
    "        \n",
    "        initial_state = emul.generate_initial_game_state(players_info)\n",
    "        msgs = []\n",
    "        game_state, events = emul.start_new_round(initial_state)\n",
    "        is_last_round = False\n",
    "        r_all = 0\n",
    "        j = 0\n",
    "        \n",
    "        last_img_state = None\n",
    "        last_features = None\n",
    "        last_action_num = None\n",
    "        \n",
    "        while not is_last_round:\n",
    "            j += 1\n",
    "            a = emul.run_until_my_next_action(game_state, my_uuid, msgs)\n",
    "            \n",
    "            # need to make move\n",
    "            if len(a) == 4:\n",
    "                game_state, valid_actions, hole_card, round_state = a\n",
    "                img_state = img_from_state(hole_card, round_state)\n",
    "                img_state = process_img(img_state)\n",
    "                \n",
    "                street = round_state['street']\n",
    "                bank = round_state['pot']['main']['amount']\n",
    "                stack = [s['stack'] for s in round_state['seats'] if s['uuid'] == my_uuid][0]\n",
    "                other_stacks = [s['stack'] for s in round_state['seats'] if s['uuid'] != my_uuid]\n",
    "                dealer_btn = round_state['dealer_btn']\n",
    "                small_blind_pos = round_state['small_blind_pos']\n",
    "                big_blind_pos = round_state['big_blind_pos']\n",
    "                next_player = round_state['next_player']\n",
    "                round_count = round_state['round_count']\n",
    "                estimation = main_wp.hole_card_est[(hole_card[0], hole_card[1])]\n",
    "\n",
    "                features = get_street(street)\n",
    "                features.extend([bank, stack, dealer_btn, small_blind_pos, big_blind_pos, next_player, round_count])\n",
    "                features.extend(other_stacks)\n",
    "                features.append(estimation)\n",
    "                        \n",
    "                # add to buffer last hand \n",
    "                if last_img_state is not None:\n",
    "                    episode_buffer.add(np.reshape(np.array([last_img_state, last_features, last_action_num,\n",
    "                                                            0, img_state, features, 0]), [1, 7]))\n",
    "                \n",
    "                if np.random.rand(1) < e or total_steps < pre_train_steps:\n",
    "                    action_num = np.random.randint(0, main_wp.total_num_actions)\n",
    "                else:\n",
    "                    action_num = sess.run(main_wp.predict, feed_dict={main_wp.scalar_input: [img_state],\n",
    "                                                                      main_wp.features_input: [features]})[0]\n",
    "                    \n",
    "                action_list.append(action_num)\n",
    "                action, amount = get_action_by_num(action_num, valid_actions)                    \n",
    "\n",
    "                game_state, msgs = emul.apply_my_action(game_state, action, amount)\n",
    "                total_steps += 1\n",
    "        \n",
    "                last_img_state = img_state.copy()\n",
    "                last_features = features.copy()\n",
    "                last_action_num = action_num\n",
    "                \n",
    "                if total_steps > pre_train_steps:\n",
    "                    if e > end_E:\n",
    "                        e -= step_drop\n",
    "                    \n",
    "                    if total_steps % (update_freq) == 0:\n",
    "                        train_batch = my_buffer.sample(batch_size)\n",
    "\n",
    "                        Q1 = sess.run(main_wp.predict,\n",
    "                                      feed_dict={main_wp.scalar_input: np.vstack(train_batch[:, 4]),\n",
    "                                                 main_wp.features_input: np.vstack(train_batch[:, 5])})\n",
    "                        Q1_ = sess.run(main_wp.Q_out,\n",
    "                                      feed_dict={main_wp.scalar_input: np.vstack(train_batch[:, 4]),\n",
    "                                                 main_wp.features_input: np.vstack(train_batch[:, 5])})\n",
    "        \n",
    "                        Q2 = sess.run(target_wp.Q_out,\n",
    "                                      feed_dict={target_wp.scalar_input: np.vstack(train_batch[:, 4]),\n",
    "                                                 target_wp.features_input: np.vstack(train_batch[:, 5])})\n",
    "                        end_multiplier = -(train_batch[:, 6] - 1)\n",
    "                        double_Q = Q2[range(batch_size), Q1]\n",
    "                        double_Q_ = Q1_[range(batch_size), Q1]\n",
    "                        \n",
    "                        if is_dueling:\n",
    "                            target_Q = train_batch[:, 3] + (y * double_Q * end_multiplier)\n",
    "                        else:\n",
    "                            target_Q = train_batch[:, 3] + (y * double_Q_ * end_multiplier)\n",
    "\n",
    "                        _, er, g, v = sess.run([main_wp.update_model,\n",
    "                                          main_wp.loss, main_wp.grad_norms, main_wp.var_norms],\n",
    "                                     feed_dict={\n",
    "                                         main_wp.scalar_input: np.vstack(train_batch[:, 0]),\n",
    "                                         main_wp.features_input: np.vstack(train_batch[:, 1]),\n",
    "                                         main_wp.target_Q: target_Q,\n",
    "                                         main_wp.actions: train_batch[:, 2]\n",
    "                                     })\n",
    "                        update_target(target_ops, sess)\n",
    "                        \n",
    "                        r = np.mean(r_list[-2:])\n",
    "                        j = np.mean(j_list[-2:])\n",
    "                        q1 = double_Q_[0]\n",
    "                        q2 = double_Q[0]\n",
    "                        al = np.mean(action_list[-10:])\n",
    "                                                \n",
    "                        summary = tf.Summary()\n",
    "                        summary.value.add(tag='Perf/Reward', simple_value=float(r))\n",
    "                        summary.value.add(tag='Perf/Lenght', simple_value=float(j))\n",
    "                        summary.value.add(tag='Perf/Action_list', simple_value=al)\n",
    "                        summary.value.add(tag='Perf/E', simple_value=e)                        \n",
    "                        summary.value.add(tag='Q/Q1', simple_value=float(q1))\n",
    "                        summary.value.add(tag='Q/Q2', simple_value=float(q2))\n",
    "                        summary.value.add(tag='Q/Target', simple_value=target_Q[0])\n",
    "                        summary.value.add(tag='Q/Action', simple_value=Q1[0])\n",
    "                        summary.value.add(tag='Loss/Error', simple_value=er)\n",
    "                        summary.value.add(tag='Loss/Grad_norm', simple_value=g)\n",
    "                        summary.value.add(tag='Loss/Var_norm', simple_value=v)\n",
    "                        \n",
    "                        main_wp.summary_writer.add_summary(summary, total_steps)\n",
    "                        if total_steps % (update_freq * 2) == 0:\n",
    "                            main_wp.summary_writer.flush()                        \n",
    "            else:\n",
    "                game_state, reward = a\n",
    "                if reward >= 0:\n",
    "                    reward = np.log(1 + reward)\n",
    "                else:\n",
    "                    reward = -np.log(1 - reward)\n",
    "                r_all += reward\n",
    "                # add to buffer last hand \n",
    "                if last_img_state is not None:\n",
    "                    episode_buffer.add(np.reshape(np.array([last_img_state, last_features, last_action_num,\n",
    "                                                            reward, last_img_state, last_features, 1]), [1, 7]))\n",
    "                \n",
    "                is_last_round = emul._is_last_round(game_state, emul.game_rule)\n",
    "                game_state, events = emul.start_new_round(game_state)\n",
    "\n",
    "                last_img_state = None\n",
    "                last_action_num = None   \n",
    "            \n",
    "        my_buffer.add(episode_buffer.buffer)\n",
    "        r_list.append(r_all)\n",
    "        j_list.append(j)\n",
    "\n",
    "        if i % 1000 == 0:\n",
    "#             saver.save(sess, path + '/model_' + str(i) + '.ckpt')\n",
    "            saver.save(sess, path, i)\n",
    "\n",
    "            print('Saved model')\n",
    "        if i % 10 == 0:\n",
    "            print(i, total_steps, np.mean(r_list[-10:]), e, np.median(action_list[-200:]))            \n",
    "    saver.save(sess, path + '/model_' + str(i) + '.ckpt')\n",
    "print('Mean reward: {}'.format(sum(r_list) / num_episodes))"
   ]
  },
  {
   "cell_type": "markdown",
   "metadata": {},
   "source": [
    "To see the training progress type in console:\n",
    "tensorboard --logdir=log/DQN/"
   ]
  },
  {
   "cell_type": "markdown",
   "metadata": {},
   "source": [
    "### Overfit on small(to debug)"
   ]
  },
  {
   "cell_type": "code",
   "execution_count": 7,
   "metadata": {
    "collapsed": true,
    "scrolled": true
   },
   "outputs": [],
   "source": [
    "# %%time\n",
    "# init = tf.global_variables_initializer()\n",
    "# trainables = tf.trainable_variables()\n",
    "# target_ops = update_target_graph(trainables, tau)\n",
    "\n",
    "# with tf.Session() as sess:\n",
    "#     sess.run(init)\n",
    "#     if load_model:\n",
    "#         print('Loading model')\n",
    "#         ckpt = tf.train.get_checkpoint_state(path)\n",
    "#         saver.restore(sess, ckpt.model_checkpoint_path)\n",
    "#     train_batch = my_buffer.sample(batch_size)\n",
    "#     for i in range(num_episodes):      \n",
    "#         Q1 = sess.run(main_wp.predict,\n",
    "#                       feed_dict={main_wp.scalar_input: np.vstack(train_batch[:, 4]),\n",
    "#                                  main_wp.features_input: np.vstack(train_batch[:, 5])})\n",
    "#         Q1_ = sess.run(main_wp.Q_out,\n",
    "#                       feed_dict={main_wp.scalar_input: np.vstack(train_batch[:, 4]),\n",
    "#                                  main_wp.features_input: np.vstack(train_batch[:, 5])})\n",
    "\n",
    "#         Q2 = sess.run(target_wp.Q_out,\n",
    "#                       feed_dict={target_wp.scalar_input: np.vstack(train_batch[:, 4]),\n",
    "#                                  target_wp.features_input: np.vstack(train_batch[:, 5])})\n",
    "#         end_multiplier = -(train_batch[:, 6] - 1)\n",
    "#         double_Q = Q2[range(batch_size), Q1]\n",
    "#         double_Q_ = Q1_[range(batch_size), Q1]\n",
    "\n",
    "#         target_Q = train_batch[:, 3] + (y * double_Q * end_multiplier)\n",
    "\n",
    "#         _, er, g, v = sess.run([main_wp.update_model,\n",
    "#                           main_wp.loss, main_wp.grad_norms, main_wp.var_norms],\n",
    "#                      feed_dict={\n",
    "#                          main_wp.scalar_input: np.vstack(train_batch[:, 0]),\n",
    "#                          main_wp.features_input: np.vstack(train_batch[:, 1]),\n",
    "#                          main_wp.target_Q: target_Q,\n",
    "#                          main_wp.actions: train_batch[:, 2]\n",
    "#                      })\n",
    "#         update_target(target_ops, sess)\n",
    "        \n",
    "#         q1 = double_Q_[0]\n",
    "#         q2 = double_Q[0]\n",
    "\n",
    "#         summary = tf.Summary()\n",
    "#         summary.value.add(tag='Q/Q1', simple_value=float(q1))\n",
    "#         summary.value.add(tag='Q/Q2', simple_value=float(q2))\n",
    "#         summary.value.add(tag='Q/Target', simple_value=target_Q[0])\n",
    "#         summary.value.add(tag='Q/Action', simple_value=Q1[0])\n",
    "#         summary.value.add(tag='Loss/Error', simple_value=er)\n",
    "#         summary.value.add(tag='Loss/Grad_norm', simple_value=g)\n",
    "#         summary.value.add(tag='Loss/Var_norm', simple_value=v)\n",
    "\n",
    "#         main_wp.summary_writer.add_summary(summary, i)\n",
    "#         if i % 2 == 0:\n",
    "#             main_wp.summary_writer.flush()\n",
    "                            \n",
    "#         if i % 100 == 0:\n",
    "#             print(i, total_steps, np.mean(r_list[-10:]), e, np.median(action_list[-200:]))            \n",
    "# print('Mean reward: {}'.format(sum(r_list) / num_episodes))"
   ]
  },
  {
   "cell_type": "markdown",
   "metadata": {},
   "source": [
    "## Model analysis"
   ]
  },
  {
   "cell_type": "code",
   "execution_count": 8,
   "metadata": {
    "collapsed": true
   },
   "outputs": [],
   "source": [
    "vars_ = tf.trainable_variables()[:len(tf.trainable_variables()) // 2]"
   ]
  },
  {
   "cell_type": "code",
   "execution_count": 9,
   "metadata": {},
   "outputs": [
    {
     "name": "stdout",
     "output_type": "stream",
     "text": [
      "(5, 5, 1, 32)\n4\n5\n5\n1\n32\n800\n(32,)\n1\n32\n32\n(3, 3, 32, 64)\n4\n3\n3\n32\n64\n18432\n(64,)\n1\n64\n64\n(5, 5, 64, 128)\n4\n5\n5\n64\n128\n204800\n(128,)\n1\n128\n128\n(20, 64)\n2\n20\n64\n1280\n(64,)\n1\n64\n64\n(64, 128)\n2\n64\n128\n8192\n(128,)\n1\n128\n128\n(256, 256)\n2\n256\n256\n65536\n(256,)\n1\n256\n256\n(256, 128)\n2\n256\n128\n32768\n(128,)\n1\n128\n128\n(64, 5)\n2\n64\n5\n320\n(64, 1)\n2\n64\n1\n64\n332992\n"
     ]
    }
   ],
   "source": [
    "total_parameters = 0\n",
    "for variable in vars_:\n",
    "    # shape is an array of tf.Dimension\n",
    "    shape = variable.get_shape()\n",
    "    print(shape)\n",
    "    print(len(shape))\n",
    "    variable_parameters = 1\n",
    "    for dim in shape:\n",
    "        print(dim)\n",
    "        variable_parameters *= dim.value\n",
    "    print(variable_parameters)\n",
    "    total_parameters += variable_parameters\n",
    "print(total_parameters)"
   ]
  },
  {
   "cell_type": "markdown",
   "metadata": {},
   "source": [
    "### Time of one pass"
   ]
  },
  {
   "cell_type": "code",
   "execution_count": 10,
   "metadata": {
    "collapsed": true
   },
   "outputs": [],
   "source": [
    "import pandas as pd\n",
    "%matplotlib inline"
   ]
  },
  {
   "cell_type": "code",
   "execution_count": 11,
   "metadata": {},
   "outputs": [
    {
     "name": "stdout",
     "output_type": "stream",
     "text": [
      "Wall time: 0 ns\n"
     ]
    },
    {
     "ename": "NameError",
     "evalue": "name 'init' is not defined",
     "traceback": [
      "\u001b[1;31m---------------------------------------------------------------------------\u001b[0m",
      "\u001b[1;31mNameError\u001b[0m                                 Traceback (most recent call last)",
      "\u001b[1;32m<ipython-input-11-6ce871bdf72c>\u001b[0m in \u001b[0;36m<module>\u001b[1;34m\u001b[0m\n\u001b[0;32m      1\u001b[0m \u001b[0mget_ipython\u001b[0m\u001b[1;33m(\u001b[0m\u001b[1;33m)\u001b[0m\u001b[1;33m.\u001b[0m\u001b[0mrun_line_magic\u001b[0m\u001b[1;33m(\u001b[0m\u001b[1;34m'time'\u001b[0m\u001b[1;33m,\u001b[0m \u001b[1;34m''\u001b[0m\u001b[1;33m)\u001b[0m\u001b[1;33m\u001b[0m\u001b[0m\n\u001b[0;32m      2\u001b[0m \u001b[1;32mwith\u001b[0m \u001b[0mtf\u001b[0m\u001b[1;33m.\u001b[0m\u001b[0mSession\u001b[0m\u001b[1;33m(\u001b[0m\u001b[1;33m)\u001b[0m \u001b[1;32mas\u001b[0m \u001b[0msess\u001b[0m\u001b[1;33m:\u001b[0m\u001b[1;33m\u001b[0m\u001b[0m\n\u001b[1;32m----> 3\u001b[1;33m     \u001b[0msess\u001b[0m\u001b[1;33m.\u001b[0m\u001b[0mrun\u001b[0m\u001b[1;33m(\u001b[0m\u001b[0minit\u001b[0m\u001b[1;33m)\u001b[0m\u001b[1;33m\u001b[0m\u001b[0m\n\u001b[0m\u001b[0;32m      4\u001b[0m     \u001b[0mckpt\u001b[0m \u001b[1;33m=\u001b[0m \u001b[0mtf\u001b[0m\u001b[1;33m.\u001b[0m\u001b[0mtrain\u001b[0m\u001b[1;33m.\u001b[0m\u001b[0mget_checkpoint_state\u001b[0m\u001b[1;33m(\u001b[0m\u001b[0mpath\u001b[0m\u001b[1;33m)\u001b[0m\u001b[1;33m\u001b[0m\u001b[0m\n\u001b[0;32m      5\u001b[0m     \u001b[0mprint\u001b[0m\u001b[1;33m(\u001b[0m\u001b[0mckpt\u001b[0m\u001b[1;33m.\u001b[0m\u001b[0mmodel_checkpoint_path\u001b[0m\u001b[1;33m)\u001b[0m\u001b[1;33m\u001b[0m\u001b[0m\n",
      "\u001b[1;31mNameError\u001b[0m: name 'init' is not defined"
     ],
     "output_type": "error"
    }
   ],
   "source": [
    "%time\n",
    "with tf.Session() as sess:\n",
    "    sess.run(init)\n",
    "    ckpt = tf.train.get_checkpoint_state(path)\n",
    "    print(ckpt.model_checkpoint_path)\n",
    "    saver.restore(sess, ckpt.model_checkpoint_path)\n",
    "    action_num = sess.run(main_wp.predict, feed_dict={main_wp.scalar_input: [train_batch[3][0]],\n",
    "                                                      main_wp.features_input: [train_batch[3][1]]})[0]"
   ]
  },
  {
   "cell_type": "code",
   "execution_count": 12,
   "metadata": {
    "collapsed": true
   },
   "outputs": [
    {
     "ename": "NameError",
     "evalue": "name 'my_buffer' is not defined",
     "traceback": [
      "\u001b[1;31m---------------------------------------------------------------------------\u001b[0m",
      "\u001b[1;31mNameError\u001b[0m                                 Traceback (most recent call last)",
      "\u001b[1;32m<ipython-input-12-db16a02e5081>\u001b[0m in \u001b[0;36m<module>\u001b[1;34m\u001b[0m\n\u001b[1;32m----> 1\u001b[1;33m \u001b[0mtrain_batch\u001b[0m \u001b[1;33m=\u001b[0m \u001b[0mmy_buffer\u001b[0m\u001b[1;33m.\u001b[0m\u001b[0msample\u001b[0m\u001b[1;33m(\u001b[0m\u001b[0mbatch_size\u001b[0m\u001b[1;33m)\u001b[0m\u001b[1;33m\u001b[0m\u001b[0m\n\u001b[0m",
      "\u001b[1;31mNameError\u001b[0m: name 'my_buffer' is not defined"
     ],
     "output_type": "error"
    }
   ],
   "source": [
    "train_batch = my_buffer.sample(batch_size)"
   ]
  },
  {
   "cell_type": "code",
   "execution_count": 13,
   "metadata": {},
   "outputs": [
    {
     "ename": "NameError",
     "evalue": "name 'init' is not defined",
     "traceback": [
      "\u001b[1;31m---------------------------------------------------------------------------\u001b[0m",
      "\u001b[1;31mNameError\u001b[0m                                 Traceback (most recent call last)",
      "\u001b[1;32m<timed exec>\u001b[0m in \u001b[0;36m<module>\u001b[1;34m\u001b[0m\n",
      "\u001b[1;31mNameError\u001b[0m: name 'init' is not defined"
     ],
     "output_type": "error"
    }
   ],
   "source": [
    "%%time\n",
    "with tf.Session() as sess:\n",
    "    qs1 = []\n",
    "    qs2 = []\n",
    "    qs3 = []\n",
    "    qs4 = []\n",
    "    qs5 = []\n",
    "\n",
    "    sess.run(init)\n",
    "    ckpt = tf.train.get_checkpoint_state(path)\n",
    "    print(ckpt.model_checkpoint_path)\n",
    "    saver.restore(sess, ckpt.model_checkpoint_path) # 'models/model_197000.ckpt')\n",
    "    \n",
    "    bank_range = np.linspace(-1000, 20000, 100)\n",
    "    stack_range = np.linspace(-1000, 10000, 100)\n",
    "    probability_range = np.linspace(-0.5, 1.5, 100)\n",
    "    round_count_range = np.linspace(-10, 50, 100)\n",
    "    player_pos_range = np.linspace(-1, 11, 100)\n",
    "\n",
    "    for b in range(len(train_batch)):\n",
    "        batch = train_batch[b]\n",
    "        img = batch[0]\n",
    "        features = batch[1]\n",
    "        \n",
    "        q1 = []\n",
    "        q2 = []\n",
    "        q3 = []\n",
    "        q4 = []\n",
    "        q5 = []\n",
    "        \n",
    "        for i in range(100):\n",
    "            features = batch[1].copy()\n",
    "            features[4] = bank_range[i]\n",
    "            action_num = sess.run(main_wp.Q_out, feed_dict={main_wp.scalar_input: [img],\n",
    "                                                          main_wp.features_input: [features]})[0]\n",
    "            q1.append(action_num)\n",
    "\n",
    "            features = batch[1].copy()\n",
    "            features[5] = stack_range[i]\n",
    "            action_num = sess.run(main_wp.Q_out, feed_dict={main_wp.scalar_input: [img],\n",
    "                                                          main_wp.features_input: [features]})[0]\n",
    "            q2.append(action_num)\n",
    "\n",
    "            features = batch[1].copy()\n",
    "            features[-1] = probability_range[i]\n",
    "            action_num = sess.run(main_wp.Q_out, feed_dict={main_wp.scalar_input: [img],\n",
    "                                                          main_wp.features_input: [features]})[0]\n",
    "            q3.append(action_num)\n",
    "\n",
    "            features = batch[1].copy()\n",
    "            features[-10] = round_count_range[i]\n",
    "            action_num = sess.run(main_wp.Q_out, feed_dict={main_wp.scalar_input: [img],\n",
    "                                                          main_wp.features_input: [features]})[0]\n",
    "            q4.append(action_num)\n",
    "            \n",
    "            features = batch[1].copy()\n",
    "            features[-9] = player_pos_range[i]\n",
    "            action_num = sess.run(main_wp.Q_out, feed_dict={main_wp.scalar_input: [img],\n",
    "                                                          main_wp.features_input: [features]})[0]\n",
    "            q5.append(action_num)\n",
    "        \n",
    "        if b == 0:\n",
    "            qs1 = np.array(q1)\n",
    "            qs2 = np.array(q2)\n",
    "            qs3 = np.array(q3)\n",
    "            qs4 = np.array(q4)\n",
    "            qs5 = np.array(q5)\n",
    "        else:\n",
    "            qs1 += np.array(q1)\n",
    "            qs2 += np.array(q2)\n",
    "            qs3 += np.array(q3)\n",
    "            qs4 += np.array(q4) \n",
    "            qs5 += np.array(q5) \n",
    "\n",
    "    qs1 /= len(train_batch)\n",
    "    qs2 /= len(train_batch)\n",
    "    qs3 /= len(train_batch)\n",
    "    qs4 /= len(train_batch)      \n",
    "    qs5 /= len(train_batch)      \n",
    "\n",
    "    df1 = pd.DataFrame(qs1, columns=['fold', 'call', 'raise_min', 'raise_max', 'raise_half'])\n",
    "    df1.plot(bank_range, ['fold', 'call', 'raise_min', 'raise_max', 'raise_half'], title='bank_range')\n",
    "\n",
    "    df2 = pd.DataFrame(qs2, columns=['fold', 'call', 'raise_min', 'raise_max', 'raise_half'])\n",
    "    df2.plot(stack_range, ['fold', 'call', 'raise_min', 'raise_max', 'raise_half'], title='stack_range')\n",
    "\n",
    "    df3 = pd.DataFrame(qs3, columns=['fold', 'call', 'raise_min', 'raise_max', 'raise_half'])\n",
    "    df3.plot(probability_range, ['fold', 'call', 'raise_min', 'raise_max', 'raise_half'], title='probability')\n",
    "    \n",
    "    df4 = pd.DataFrame(qs4, columns=['fold', 'call', 'raise_min', 'raise_max', 'raise_half'])\n",
    "    df4.plot(round_count_range, ['fold', 'call', 'raise_min', 'raise_max', 'raise_half'], title='round_count')\n",
    "    \n",
    "    df5 = pd.DataFrame(qs5, columns=['fold', 'call', 'raise_min', 'raise_max', 'raise_half'])\n",
    "    df5.plot(player_pos_range, ['fold', 'call', 'raise_min', 'raise_max', 'raise_half'], title='player_pos')"
   ]
  },
  {
   "cell_type": "markdown",
   "metadata": {
    "collapsed": true
   },
   "source": [
    "### Features"
   ]
  },
  {
   "cell_type": "code",
   "execution_count": 14,
   "metadata": {},
   "outputs": [
    {
     "ename": "NameError",
     "evalue": "name 'features' is not defined",
     "traceback": [
      "\u001b[1;31m---------------------------------------------------------------------------\u001b[0m",
      "\u001b[1;31mNameError\u001b[0m                                 Traceback (most recent call last)",
      "\u001b[1;32m<ipython-input-14-224628ecf868>\u001b[0m in \u001b[0;36m<module>\u001b[1;34m\u001b[0m\n\u001b[1;32m----> 1\u001b[1;33m \u001b[0mfeatures\u001b[0m\u001b[1;33m\u001b[0m\u001b[0m\n\u001b[0m",
      "\u001b[1;31mNameError\u001b[0m: name 'features' is not defined"
     ],
     "output_type": "error"
    }
   ],
   "source": [
    "features"
   ]
  },
  {
   "cell_type": "markdown",
   "metadata": {},
   "source": [
    "### Hist with probability win in batch"
   ]
  },
  {
   "cell_type": "code",
   "execution_count": 15,
   "metadata": {
    "collapsed": true
   },
   "outputs": [
    {
     "ename": "NameError",
     "evalue": "name 'train_batch' is not defined",
     "traceback": [
      "\u001b[1;31m---------------------------------------------------------------------------\u001b[0m",
      "\u001b[1;31mNameError\u001b[0m                                 Traceback (most recent call last)",
      "\u001b[1;32m<ipython-input-15-ee676500e4c4>\u001b[0m in \u001b[0;36m<module>\u001b[1;34m\u001b[0m\n\u001b[1;32m----> 1\u001b[1;33m \u001b[0mpr\u001b[0m \u001b[1;33m=\u001b[0m \u001b[1;33m[\u001b[0m\u001b[0mt\u001b[0m\u001b[1;33m[\u001b[0m\u001b[1;36m1\u001b[0m\u001b[1;33m]\u001b[0m\u001b[1;33m[\u001b[0m\u001b[1;33m-\u001b[0m\u001b[1;36m1\u001b[0m\u001b[1;33m]\u001b[0m \u001b[1;32mfor\u001b[0m \u001b[0mt\u001b[0m \u001b[1;32min\u001b[0m \u001b[0mtrain_batch\u001b[0m\u001b[1;33m]\u001b[0m\u001b[1;33m\u001b[0m\u001b[0m\n\u001b[0m",
      "\u001b[1;31mNameError\u001b[0m: name 'train_batch' is not defined"
     ],
     "output_type": "error"
    }
   ],
   "source": [
    "pr = [t[1][-1] for t in train_batch]"
   ]
  },
  {
   "cell_type": "code",
   "execution_count": 16,
   "metadata": {},
   "outputs": [
    {
     "ename": "NameError",
     "evalue": "name 'pr' is not defined",
     "traceback": [
      "\u001b[1;31m---------------------------------------------------------------------------\u001b[0m",
      "\u001b[1;31mNameError\u001b[0m                                 Traceback (most recent call last)",
      "\u001b[1;32m<ipython-input-16-cdb0ab136edc>\u001b[0m in \u001b[0;36m<module>\u001b[1;34m\u001b[0m\n\u001b[1;32m----> 1\u001b[1;33m \u001b[0mplt\u001b[0m\u001b[1;33m.\u001b[0m\u001b[0mhist\u001b[0m\u001b[1;33m(\u001b[0m\u001b[0mpr\u001b[0m\u001b[1;33m,\u001b[0m \u001b[0mbins\u001b[0m\u001b[1;33m=\u001b[0m\u001b[1;36m30\u001b[0m\u001b[1;33m)\u001b[0m\u001b[1;33m;\u001b[0m\u001b[1;33m\u001b[0m\u001b[0m\n\u001b[0m",
      "\u001b[1;31mNameError\u001b[0m: name 'pr' is not defined"
     ],
     "output_type": "error"
    }
   ],
   "source": [
    "plt.hist(pr, bins=30)"
   ]
  },
  {
   "cell_type": "markdown",
   "metadata": {},
   "source": [
    "### Weights of the network"
   ]
  },
  {
   "cell_type": "code",
   "execution_count": 17,
   "metadata": {
    "collapsed": true
   },
   "outputs": [],
   "source": [
    "kernel = tf.get_collection(tf.GraphKeys.GLOBAL_VARIABLES, 'conv2d/kernel')\n",
    "d = tf.get_collection(tf.GraphKeys.GLOBAL_VARIABLES, 'dense/kernel')"
   ]
  },
  {
   "cell_type": "code",
   "execution_count": 18,
   "metadata": {
    "collapsed": true
   },
   "outputs": [],
   "source": [
    "k = kernel[0]\n",
    "d = d[0]"
   ]
  },
  {
   "cell_type": "code",
   "execution_count": 19,
   "metadata": {},
   "outputs": [
    {
     "ename": "NameError",
     "evalue": "name 'init' is not defined",
     "traceback": [
      "\u001b[1;31m---------------------------------------------------------------------------\u001b[0m",
      "\u001b[1;31mNameError\u001b[0m                                 Traceback (most recent call last)",
      "\u001b[1;32m<ipython-input-19-4e223bd736ab>\u001b[0m in \u001b[0;36m<module>\u001b[1;34m\u001b[0m\n\u001b[0;32m      1\u001b[0m \u001b[1;32mwith\u001b[0m \u001b[0mtf\u001b[0m\u001b[1;33m.\u001b[0m\u001b[0mSession\u001b[0m\u001b[1;33m(\u001b[0m\u001b[1;33m)\u001b[0m \u001b[1;32mas\u001b[0m \u001b[0msess\u001b[0m\u001b[1;33m:\u001b[0m\u001b[1;33m\u001b[0m\u001b[0m\n\u001b[1;32m----> 2\u001b[1;33m     \u001b[0msess\u001b[0m\u001b[1;33m.\u001b[0m\u001b[0mrun\u001b[0m\u001b[1;33m(\u001b[0m\u001b[0minit\u001b[0m\u001b[1;33m)\u001b[0m\u001b[1;33m\u001b[0m\u001b[0m\n\u001b[0m\u001b[0;32m      3\u001b[0m     \u001b[0mckpt\u001b[0m \u001b[1;33m=\u001b[0m \u001b[0mtf\u001b[0m\u001b[1;33m.\u001b[0m\u001b[0mtrain\u001b[0m\u001b[1;33m.\u001b[0m\u001b[0mget_checkpoint_state\u001b[0m\u001b[1;33m(\u001b[0m\u001b[0mpath\u001b[0m\u001b[1;33m)\u001b[0m\u001b[1;33m\u001b[0m\u001b[0m\n\u001b[0;32m      4\u001b[0m     \u001b[0msaver\u001b[0m\u001b[1;33m.\u001b[0m\u001b[0mrestore\u001b[0m\u001b[1;33m(\u001b[0m\u001b[0msess\u001b[0m\u001b[1;33m,\u001b[0m \u001b[0mckpt\u001b[0m\u001b[1;33m.\u001b[0m\u001b[0mmodel_checkpoint_path\u001b[0m\u001b[1;33m)\u001b[0m\u001b[1;33m\u001b[0m\u001b[0m\n\u001b[0;32m      5\u001b[0m     \u001b[0mc1\u001b[0m \u001b[1;33m=\u001b[0m \u001b[0mk\u001b[0m\u001b[1;33m.\u001b[0m\u001b[0meval\u001b[0m\u001b[1;33m(\u001b[0m\u001b[0msession\u001b[0m\u001b[1;33m=\u001b[0m\u001b[0msess\u001b[0m\u001b[1;33m)\u001b[0m\u001b[1;33m\u001b[0m\u001b[0m\n",
      "\u001b[1;31mNameError\u001b[0m: name 'init' is not defined"
     ],
     "output_type": "error"
    }
   ],
   "source": [
    "with tf.Session() as sess:\n",
    "    sess.run(init)\n",
    "    ckpt = tf.train.get_checkpoint_state(path)\n",
    "    saver.restore(sess, ckpt.model_checkpoint_path)\n",
    "    c1 = k.eval(session=sess)\n",
    "    d1 = d.eval(session=sess)    "
   ]
  },
  {
   "cell_type": "code",
   "execution_count": 20,
   "metadata": {},
   "outputs": [
    {
     "ename": "NameError",
     "evalue": "name 'c1' is not defined",
     "traceback": [
      "\u001b[1;31m---------------------------------------------------------------------------\u001b[0m",
      "\u001b[1;31mNameError\u001b[0m                                 Traceback (most recent call last)",
      "\u001b[1;32m<ipython-input-20-0af5beda8989>\u001b[0m in \u001b[0;36m<module>\u001b[1;34m\u001b[0m\n\u001b[1;32m----> 1\u001b[1;33m \u001b[0mc1\u001b[0m\u001b[1;33m.\u001b[0m\u001b[0mshape\u001b[0m\u001b[1;33m,\u001b[0m \u001b[0md1\u001b[0m\u001b[1;33m.\u001b[0m\u001b[0mshape\u001b[0m\u001b[1;33m\u001b[0m\u001b[0m\n\u001b[0m",
      "\u001b[1;31mNameError\u001b[0m: name 'c1' is not defined"
     ],
     "output_type": "error"
    }
   ],
   "source": [
    "c1.shape, d1.shape"
   ]
  },
  {
   "cell_type": "code",
   "execution_count": 21,
   "metadata": {},
   "outputs": [
    {
     "ename": "NameError",
     "evalue": "name 'd1' is not defined",
     "traceback": [
      "\u001b[1;31m---------------------------------------------------------------------------\u001b[0m",
      "\u001b[1;31mNameError\u001b[0m                                 Traceback (most recent call last)",
      "\u001b[1;32m<ipython-input-21-e40289815617>\u001b[0m in \u001b[0;36m<module>\u001b[1;34m\u001b[0m\n\u001b[1;32m----> 1\u001b[1;33m \u001b[0mplt\u001b[0m\u001b[1;33m.\u001b[0m\u001b[0mimshow\u001b[0m\u001b[1;33m(\u001b[0m\u001b[0md1\u001b[0m\u001b[1;33m)\u001b[0m\u001b[1;33m\u001b[0m\u001b[0m\n\u001b[0m\u001b[0;32m      2\u001b[0m \u001b[0mplt\u001b[0m\u001b[1;33m.\u001b[0m\u001b[0mgray\u001b[0m\u001b[1;33m(\u001b[0m\u001b[1;33m)\u001b[0m\u001b[1;33m\u001b[0m\u001b[0m\n\u001b[0;32m      3\u001b[0m \u001b[0mplt\u001b[0m\u001b[1;33m.\u001b[0m\u001b[0mcolorbar\u001b[0m\u001b[1;33m(\u001b[0m\u001b[1;33m)\u001b[0m\u001b[1;33m\u001b[0m\u001b[0m\n",
      "\u001b[1;31mNameError\u001b[0m: name 'd1' is not defined"
     ],
     "output_type": "error"
    }
   ],
   "source": [
    "plt.imshow(d1)\n",
    "plt.gray()\n",
    "plt.colorbar()"
   ]
  },
  {
   "cell_type": "code",
   "execution_count": 22,
   "metadata": {},
   "outputs": [
    {
     "ename": "NameError",
     "evalue": "name 'c1' is not defined",
     "traceback": [
      "\u001b[1;31m---------------------------------------------------------------------------\u001b[0m",
      "\u001b[1;31mNameError\u001b[0m                                 Traceback (most recent call last)",
      "\u001b[1;32m<ipython-input-22-138166463437>\u001b[0m in \u001b[0;36m<module>\u001b[1;34m\u001b[0m\n\u001b[1;32m----> 1\u001b[1;33m \u001b[0mplt\u001b[0m\u001b[1;33m.\u001b[0m\u001b[0mimshow\u001b[0m\u001b[1;33m(\u001b[0m\u001b[0mc1\u001b[0m\u001b[1;33m[\u001b[0m\u001b[1;33m:\u001b[0m\u001b[1;33m,\u001b[0m \u001b[1;33m:\u001b[0m\u001b[1;33m,\u001b[0m \u001b[1;36m0\u001b[0m\u001b[1;33m,\u001b[0m \u001b[1;36m1\u001b[0m\u001b[1;33m]\u001b[0m\u001b[1;33m)\u001b[0m\u001b[1;33m\u001b[0m\u001b[0m\n\u001b[0m\u001b[0;32m      2\u001b[0m \u001b[0mplt\u001b[0m\u001b[1;33m.\u001b[0m\u001b[0mgray\u001b[0m\u001b[1;33m(\u001b[0m\u001b[1;33m)\u001b[0m\u001b[1;33m\u001b[0m\u001b[0m\n\u001b[0;32m      3\u001b[0m \u001b[0mplt\u001b[0m\u001b[1;33m.\u001b[0m\u001b[0mcolorbar\u001b[0m\u001b[1;33m(\u001b[0m\u001b[1;33m)\u001b[0m\u001b[1;33m\u001b[0m\u001b[0m\n",
      "\u001b[1;31mNameError\u001b[0m: name 'c1' is not defined"
     ],
     "output_type": "error"
    }
   ],
   "source": [
    "plt.imshow(c1[:, :, 0, 1])\n",
    "plt.gray()\n",
    "plt.colorbar()"
   ]
  },
  {
   "cell_type": "code",
   "execution_count": 23,
   "metadata": {
    "collapsed": true
   },
   "outputs": [],
   "source": []
  },
  {
   "cell_type": "code",
   "execution_count": null,
   "metadata": {},
   "outputs": [],
   "source": []
  }
 ],
 "metadata": {
  "kernelspec": {
   "display_name": "Python 3",
   "language": "python",
   "name": "python3"
  },
  "language_info": {
   "codemirror_mode": {
    "name": "ipython",
    "version": 3
   },
   "file_extension": ".py",
   "mimetype": "text/x-python",
   "name": "python",
   "nbconvert_exporter": "python",
   "pygments_lexer": "ipython3",
   "version": "3.6.0"
  }
 },
 "nbformat": 4,
 "nbformat_minor": 2
}
