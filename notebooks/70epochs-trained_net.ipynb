{
 "cells": [
  {
   "cell_type": "code",
   "execution_count": 3,
   "metadata": {},
   "outputs": [
    {
     "name": "stdout",
     "output_type": "stream",
     "text": [
      "Python 3.8.5\n",
      "Defaulting to user installation because normal site-packages is not writeable\n",
      "Requirement already satisfied: seaborn in /home/poki/.local/lib/python3.8/site-packages (0.11.0)\n",
      "Requirement already satisfied: torch in /home/poki/.local/lib/python3.8/site-packages (1.7.0)\n",
      "Requirement already satisfied: pandas>=0.23 in /home/poki/.local/lib/python3.8/site-packages (from seaborn) (1.1.4)\n",
      "Requirement already satisfied: scipy>=1.0 in /home/poki/.local/lib/python3.8/site-packages (from seaborn) (1.5.4)\n",
      "Requirement already satisfied: matplotlib>=2.2 in /home/poki/.local/lib/python3.8/site-packages (from seaborn) (3.3.2)\n",
      "Requirement already satisfied: numpy>=1.15 in /home/poki/.local/lib/python3.8/site-packages (from seaborn) (1.19.4)\n",
      "Requirement already satisfied: dataclasses in /home/poki/.local/lib/python3.8/site-packages (from torch) (0.6)\n",
      "Requirement already satisfied: typing-extensions in /home/poki/.local/lib/python3.8/site-packages (from torch) (3.7.4.3)\n",
      "Requirement already satisfied: future in /home/poki/.local/lib/python3.8/site-packages (from torch) (0.18.2)\n",
      "Requirement already satisfied: python-dateutil>=2.7.3 in /home/poki/.local/lib/python3.8/site-packages (from pandas>=0.23->seaborn) (2.8.1)\n",
      "Requirement already satisfied: pytz>=2017.2 in /home/poki/.local/lib/python3.8/site-packages (from pandas>=0.23->seaborn) (2020.4)\n",
      "Requirement already satisfied: pyparsing!=2.0.4,!=2.1.2,!=2.1.6,>=2.0.3 in /usr/lib/python3.8/site-packages (from matplotlib>=2.2->seaborn) (2.4.7)\n",
      "Requirement already satisfied: kiwisolver>=1.0.1 in /home/poki/.local/lib/python3.8/site-packages (from matplotlib>=2.2->seaborn) (1.3.1)\n",
      "Requirement already satisfied: pillow>=6.2.0 in /usr/lib/python3.8/site-packages (from matplotlib>=2.2->seaborn) (7.2.0)\n",
      "Requirement already satisfied: certifi>=2020.06.20 in /home/poki/.local/lib/python3.8/site-packages (from matplotlib>=2.2->seaborn) (2020.6.20)\n",
      "Requirement already satisfied: cycler>=0.10 in /home/poki/.local/lib/python3.8/site-packages (from matplotlib>=2.2->seaborn) (0.10.0)\n",
      "Requirement already satisfied: six>=1.5 in /usr/lib/python3.8/site-packages (from python-dateutil>=2.7.3->pandas>=0.23->seaborn) (1.15.0)\n"
     ]
    }
   ],
   "source": [
    "!python -V\n",
    "!pip install seaborn torch\n",
    "#!python -m pip install seaborn\n",
    "#!python3 -m pip install seaborn"
   ]
  },
  {
   "cell_type": "code",
   "execution_count": 4,
   "metadata": {},
   "outputs": [],
   "source": [
    "import numpy as np\n",
    "import pandas as pd\n",
    "import seaborn as sns\n",
    "from tqdm.notebook import tqdm\n",
    "import matplotlib.pyplot as plt\n",
    "from sklearn.preprocessing import OrdinalEncoder\n",
    "\n",
    "import torch\n",
    "import torch.nn as nn\n",
    "import torch.optim as optim\n",
    "from torch.utils.data import Dataset, DataLoader, WeightedRandomSampler\n",
    "\n",
    "from sklearn.preprocessing import MinMaxScaler\n",
    "from sklearn.model_selection import train_test_split\n",
    "from sklearn.metrics import confusion_matrix, classification_report"
   ]
  },
  {
   "cell_type": "code",
   "execution_count": 5,
   "metadata": {},
   "outputs": [
    {
     "data": {
      "text/html": [
       "<div>\n",
       "<style scoped>\n",
       "    .dataframe tbody tr th:only-of-type {\n",
       "        vertical-align: middle;\n",
       "    }\n",
       "\n",
       "    .dataframe tbody tr th {\n",
       "        vertical-align: top;\n",
       "    }\n",
       "\n",
       "    .dataframe thead th {\n",
       "        text-align: right;\n",
       "    }\n",
       "</style>\n",
       "<table border=\"1\" class=\"dataframe\">\n",
       "  <thead>\n",
       "    <tr style=\"text-align: right;\">\n",
       "      <th></th>\n",
       "      <th>hand_id</th>\n",
       "      <th>street</th>\n",
       "      <th>player_position</th>\n",
       "      <th>players_in_pot</th>\n",
       "      <th>after_us_decision_players</th>\n",
       "      <th>current_pot_size</th>\n",
       "      <th>player_stack_size</th>\n",
       "      <th>percent_deposited_of_current_stack</th>\n",
       "      <th>pay_for_continue_play</th>\n",
       "      <th>current_bet</th>\n",
       "      <th>...</th>\n",
       "      <th>board_6_amount</th>\n",
       "      <th>board_5_amount</th>\n",
       "      <th>board_4_amount</th>\n",
       "      <th>board_3_amount</th>\n",
       "      <th>board_2_amount</th>\n",
       "      <th>board_spades_amount</th>\n",
       "      <th>board_hearts_amount</th>\n",
       "      <th>board_diamonds_amount</th>\n",
       "      <th>board_clubs_amount</th>\n",
       "      <th>ready_combination</th>\n",
       "    </tr>\n",
       "  </thead>\n",
       "  <tbody>\n",
       "    <tr>\n",
       "      <th>0</th>\n",
       "      <td>2dgVE9A320200916155222_1</td>\n",
       "      <td>PREFLOP</td>\n",
       "      <td>2</td>\n",
       "      <td>0</td>\n",
       "      <td>4</td>\n",
       "      <td>15.0</td>\n",
       "      <td>2217.25</td>\n",
       "      <td>0.00000</td>\n",
       "      <td>10.0</td>\n",
       "      <td>10.0</td>\n",
       "      <td>...</td>\n",
       "      <td>0</td>\n",
       "      <td>0</td>\n",
       "      <td>0</td>\n",
       "      <td>0</td>\n",
       "      <td>0</td>\n",
       "      <td>0</td>\n",
       "      <td>0</td>\n",
       "      <td>0</td>\n",
       "      <td>0</td>\n",
       "      <td>AIR</td>\n",
       "    </tr>\n",
       "    <tr>\n",
       "      <th>1</th>\n",
       "      <td>2dgVE9A320200916155222_2</td>\n",
       "      <td>PREFLOP</td>\n",
       "      <td>4</td>\n",
       "      <td>1</td>\n",
       "      <td>4</td>\n",
       "      <td>36.3</td>\n",
       "      <td>2217.25</td>\n",
       "      <td>0.00000</td>\n",
       "      <td>21.3</td>\n",
       "      <td>21.3</td>\n",
       "      <td>...</td>\n",
       "      <td>0</td>\n",
       "      <td>0</td>\n",
       "      <td>0</td>\n",
       "      <td>0</td>\n",
       "      <td>0</td>\n",
       "      <td>0</td>\n",
       "      <td>0</td>\n",
       "      <td>0</td>\n",
       "      <td>0</td>\n",
       "      <td>AIR</td>\n",
       "    </tr>\n",
       "    <tr>\n",
       "      <th>2</th>\n",
       "      <td>2dgVE9A320200916155222_3</td>\n",
       "      <td>PREFLOP</td>\n",
       "      <td>5</td>\n",
       "      <td>1</td>\n",
       "      <td>3</td>\n",
       "      <td>45.0</td>\n",
       "      <td>2217.25</td>\n",
       "      <td>0.00000</td>\n",
       "      <td>30.0</td>\n",
       "      <td>30.0</td>\n",
       "      <td>...</td>\n",
       "      <td>0</td>\n",
       "      <td>0</td>\n",
       "      <td>0</td>\n",
       "      <td>0</td>\n",
       "      <td>0</td>\n",
       "      <td>0</td>\n",
       "      <td>0</td>\n",
       "      <td>0</td>\n",
       "      <td>0</td>\n",
       "      <td>AIR</td>\n",
       "    </tr>\n",
       "    <tr>\n",
       "      <th>3</th>\n",
       "      <td>2dgVE9A320200916155222_4</td>\n",
       "      <td>PREFLOP</td>\n",
       "      <td>0</td>\n",
       "      <td>0</td>\n",
       "      <td>1</td>\n",
       "      <td>15.0</td>\n",
       "      <td>2217.25</td>\n",
       "      <td>0.00225</td>\n",
       "      <td>5.0</td>\n",
       "      <td>10.0</td>\n",
       "      <td>...</td>\n",
       "      <td>0</td>\n",
       "      <td>0</td>\n",
       "      <td>0</td>\n",
       "      <td>0</td>\n",
       "      <td>0</td>\n",
       "      <td>0</td>\n",
       "      <td>0</td>\n",
       "      <td>0</td>\n",
       "      <td>0</td>\n",
       "      <td>AIR</td>\n",
       "    </tr>\n",
       "    <tr>\n",
       "      <th>4</th>\n",
       "      <td>2dgVE9A320200916155222_5</td>\n",
       "      <td>PREFLOP</td>\n",
       "      <td>1</td>\n",
       "      <td>1</td>\n",
       "      <td>1</td>\n",
       "      <td>40.0</td>\n",
       "      <td>2237.25</td>\n",
       "      <td>0.00445</td>\n",
       "      <td>15.0</td>\n",
       "      <td>25.0</td>\n",
       "      <td>...</td>\n",
       "      <td>0</td>\n",
       "      <td>0</td>\n",
       "      <td>0</td>\n",
       "      <td>0</td>\n",
       "      <td>0</td>\n",
       "      <td>0</td>\n",
       "      <td>0</td>\n",
       "      <td>0</td>\n",
       "      <td>0</td>\n",
       "      <td>AIR</td>\n",
       "    </tr>\n",
       "  </tbody>\n",
       "</table>\n",
       "<p>5 rows × 29 columns</p>\n",
       "</div>"
      ],
      "text/plain": [
       "                    hand_id   street  player_position  players_in_pot  \\\n",
       "0  2dgVE9A320200916155222_1  PREFLOP                2               0   \n",
       "1  2dgVE9A320200916155222_2  PREFLOP                4               1   \n",
       "2  2dgVE9A320200916155222_3  PREFLOP                5               1   \n",
       "3  2dgVE9A320200916155222_4  PREFLOP                0               0   \n",
       "4  2dgVE9A320200916155222_5  PREFLOP                1               1   \n",
       "\n",
       "   after_us_decision_players  current_pot_size  player_stack_size  \\\n",
       "0                          4              15.0            2217.25   \n",
       "1                          4              36.3            2217.25   \n",
       "2                          3              45.0            2217.25   \n",
       "3                          1              15.0            2217.25   \n",
       "4                          1              40.0            2237.25   \n",
       "\n",
       "   percent_deposited_of_current_stack  pay_for_continue_play  current_bet  \\\n",
       "0                             0.00000                   10.0         10.0   \n",
       "1                             0.00000                   21.3         21.3   \n",
       "2                             0.00000                   30.0         30.0   \n",
       "3                             0.00225                    5.0         10.0   \n",
       "4                             0.00445                   15.0         25.0   \n",
       "\n",
       "   ... board_6_amount  board_5_amount  board_4_amount  board_3_amount  \\\n",
       "0  ...              0               0               0               0   \n",
       "1  ...              0               0               0               0   \n",
       "2  ...              0               0               0               0   \n",
       "3  ...              0               0               0               0   \n",
       "4  ...              0               0               0               0   \n",
       "\n",
       "   board_2_amount  board_spades_amount  board_hearts_amount  \\\n",
       "0               0                    0                    0   \n",
       "1               0                    0                    0   \n",
       "2               0                    0                    0   \n",
       "3               0                    0                    0   \n",
       "4               0                    0                    0   \n",
       "\n",
       "   board_diamonds_amount  board_clubs_amount  ready_combination  \n",
       "0                      0                   0                AIR  \n",
       "1                      0                   0                AIR  \n",
       "2                      0                   0                AIR  \n",
       "3                      0                   0                AIR  \n",
       "4                      0                   0                AIR  \n",
       "\n",
       "[5 rows x 29 columns]"
      ]
     },
     "execution_count": 5,
     "metadata": {},
     "output_type": "execute_result"
    }
   ],
   "source": [
    "df = pd.read_csv(\"/home/poki/Documents/pokerai-master/dataset.csv\")\n",
    "df.head()"
   ]
  },
  {
   "cell_type": "code",
   "execution_count": 6,
   "metadata": {},
   "outputs": [
    {
     "data": {
      "text/plain": [
       "<AxesSubplot:xlabel='action', ylabel='count'>"
      ]
     },
     "execution_count": 6,
     "metadata": {},
     "output_type": "execute_result"
    },
    {
     "data": {
      "image/png": "[encoded data removed]",
      "text/plain": [
       "<Figure size 432x288 with 1 Axes>"
      ]
     },
     "metadata": {
      "needs_background": "light"
     },
     "output_type": "display_data"
    }
   ],
   "source": [
    "sns.countplot(x = 'action', data=df)"
   ]
  },
  {
   "cell_type": "code",
   "execution_count": 7,
   "metadata": {},
   "outputs": [],
   "source": [
    "class2idx = {\n",
    "    \"FOLD\":0,\n",
    "    \"RAISE\":1,\n",
    "    \"CHECK\":2,\n",
    "    \"BET\":3,\n",
    "    \"CALL\":4,\n",
    "}\n",
    "idx2class = {v: k for k, v in class2idx.items()}\n",
    "df['action'].replace(class2idx, inplace=True)"
   ]
  },
  {
   "cell_type": "code",
   "execution_count": 8,
   "metadata": {},
   "outputs": [],
   "source": [
    "y = df['action'].values\n",
    "X = df.drop(columns=['action', 'hand_id']).iloc[:]\n",
    "\n",
    "enc = OrdinalEncoder()\n",
    "X = enc.fit_transform(X)\n",
    "#print(enc.categories_)\n",
    "\n",
    "# Split into train+val and test\n",
    "X_trainval, X_test, y_trainval, y_test = train_test_split(X, y, test_size=0.2, stratify=y, random_state=69)\n",
    "\n",
    "# Split train into train-val\n",
    "X_train, X_val, y_train, y_val = train_test_split(X_trainval, y_trainval, test_size=0.1, stratify=y_trainval, random_state=21)"
   ]
  },
  {
   "cell_type": "code",
   "execution_count": 9,
   "metadata": {
    "scrolled": true
   },
   "outputs": [
    {
     "data": {
      "text/html": [
       "<div>\n",
       "<style scoped>\n",
       "    .dataframe tbody tr th:only-of-type {\n",
       "        vertical-align: middle;\n",
       "    }\n",
       "\n",
       "    .dataframe tbody tr th {\n",
       "        vertical-align: top;\n",
       "    }\n",
       "\n",
       "    .dataframe thead th {\n",
       "        text-align: right;\n",
       "    }\n",
       "</style>\n",
       "<table border=\"1\" class=\"dataframe\">\n",
       "  <thead>\n",
       "    <tr style=\"text-align: right;\">\n",
       "      <th></th>\n",
       "      <th>hand_id</th>\n",
       "      <th>street</th>\n",
       "      <th>player_position</th>\n",
       "      <th>players_in_pot</th>\n",
       "      <th>after_us_decision_players</th>\n",
       "      <th>current_pot_size</th>\n",
       "      <th>player_stack_size</th>\n",
       "      <th>percent_deposited_of_current_stack</th>\n",
       "      <th>pay_for_continue_play</th>\n",
       "      <th>current_bet</th>\n",
       "      <th>...</th>\n",
       "      <th>board_6_amount</th>\n",
       "      <th>board_5_amount</th>\n",
       "      <th>board_4_amount</th>\n",
       "      <th>board_3_amount</th>\n",
       "      <th>board_2_amount</th>\n",
       "      <th>board_spades_amount</th>\n",
       "      <th>board_hearts_amount</th>\n",
       "      <th>board_diamonds_amount</th>\n",
       "      <th>board_clubs_amount</th>\n",
       "      <th>ready_combination</th>\n",
       "    </tr>\n",
       "  </thead>\n",
       "  <tbody>\n",
       "    <tr>\n",
       "      <th>0</th>\n",
       "      <td>2dgVE9A320200916155222_1</td>\n",
       "      <td>PREFLOP</td>\n",
       "      <td>2</td>\n",
       "      <td>0</td>\n",
       "      <td>4</td>\n",
       "      <td>15.0</td>\n",
       "      <td>2217.25</td>\n",
       "      <td>0.00000</td>\n",
       "      <td>10.0</td>\n",
       "      <td>10.0</td>\n",
       "      <td>...</td>\n",
       "      <td>0</td>\n",
       "      <td>0</td>\n",
       "      <td>0</td>\n",
       "      <td>0</td>\n",
       "      <td>0</td>\n",
       "      <td>0</td>\n",
       "      <td>0</td>\n",
       "      <td>0</td>\n",
       "      <td>0</td>\n",
       "      <td>AIR</td>\n",
       "    </tr>\n",
       "    <tr>\n",
       "      <th>1</th>\n",
       "      <td>2dgVE9A320200916155222_2</td>\n",
       "      <td>PREFLOP</td>\n",
       "      <td>4</td>\n",
       "      <td>1</td>\n",
       "      <td>4</td>\n",
       "      <td>36.3</td>\n",
       "      <td>2217.25</td>\n",
       "      <td>0.00000</td>\n",
       "      <td>21.3</td>\n",
       "      <td>21.3</td>\n",
       "      <td>...</td>\n",
       "      <td>0</td>\n",
       "      <td>0</td>\n",
       "      <td>0</td>\n",
       "      <td>0</td>\n",
       "      <td>0</td>\n",
       "      <td>0</td>\n",
       "      <td>0</td>\n",
       "      <td>0</td>\n",
       "      <td>0</td>\n",
       "      <td>AIR</td>\n",
       "    </tr>\n",
       "    <tr>\n",
       "      <th>2</th>\n",
       "      <td>2dgVE9A320200916155222_3</td>\n",
       "      <td>PREFLOP</td>\n",
       "      <td>5</td>\n",
       "      <td>1</td>\n",
       "      <td>3</td>\n",
       "      <td>45.0</td>\n",
       "      <td>2217.25</td>\n",
       "      <td>0.00000</td>\n",
       "      <td>30.0</td>\n",
       "      <td>30.0</td>\n",
       "      <td>...</td>\n",
       "      <td>0</td>\n",
       "      <td>0</td>\n",
       "      <td>0</td>\n",
       "      <td>0</td>\n",
       "      <td>0</td>\n",
       "      <td>0</td>\n",
       "      <td>0</td>\n",
       "      <td>0</td>\n",
       "      <td>0</td>\n",
       "      <td>AIR</td>\n",
       "    </tr>\n",
       "    <tr>\n",
       "      <th>3</th>\n",
       "      <td>2dgVE9A320200916155222_4</td>\n",
       "      <td>PREFLOP</td>\n",
       "      <td>0</td>\n",
       "      <td>0</td>\n",
       "      <td>1</td>\n",
       "      <td>15.0</td>\n",
       "      <td>2217.25</td>\n",
       "      <td>0.00225</td>\n",
       "      <td>5.0</td>\n",
       "      <td>10.0</td>\n",
       "      <td>...</td>\n",
       "      <td>0</td>\n",
       "      <td>0</td>\n",
       "      <td>0</td>\n",
       "      <td>0</td>\n",
       "      <td>0</td>\n",
       "      <td>0</td>\n",
       "      <td>0</td>\n",
       "      <td>0</td>\n",
       "      <td>0</td>\n",
       "      <td>AIR</td>\n",
       "    </tr>\n",
       "    <tr>\n",
       "      <th>4</th>\n",
       "      <td>2dgVE9A320200916155222_5</td>\n",
       "      <td>PREFLOP</td>\n",
       "      <td>1</td>\n",
       "      <td>1</td>\n",
       "      <td>1</td>\n",
       "      <td>40.0</td>\n",
       "      <td>2237.25</td>\n",
       "      <td>0.00445</td>\n",
       "      <td>15.0</td>\n",
       "      <td>25.0</td>\n",
       "      <td>...</td>\n",
       "      <td>0</td>\n",
       "      <td>0</td>\n",
       "      <td>0</td>\n",
       "      <td>0</td>\n",
       "      <td>0</td>\n",
       "      <td>0</td>\n",
       "      <td>0</td>\n",
       "      <td>0</td>\n",
       "      <td>0</td>\n",
       "      <td>AIR</td>\n",
       "    </tr>\n",
       "  </tbody>\n",
       "</table>\n",
       "<p>5 rows × 29 columns</p>\n",
       "</div>"
      ],
      "text/plain": [
       "                    hand_id   street  player_position  players_in_pot  \\\n",
       "0  2dgVE9A320200916155222_1  PREFLOP                2               0   \n",
       "1  2dgVE9A320200916155222_2  PREFLOP                4               1   \n",
       "2  2dgVE9A320200916155222_3  PREFLOP                5               1   \n",
       "3  2dgVE9A320200916155222_4  PREFLOP                0               0   \n",
       "4  2dgVE9A320200916155222_5  PREFLOP                1               1   \n",
       "\n",
       "   after_us_decision_players  current_pot_size  player_stack_size  \\\n",
       "0                          4              15.0            2217.25   \n",
       "1                          4              36.3            2217.25   \n",
       "2                          3              45.0            2217.25   \n",
       "3                          1              15.0            2217.25   \n",
       "4                          1              40.0            2237.25   \n",
       "\n",
       "   percent_deposited_of_current_stack  pay_for_continue_play  current_bet  \\\n",
       "0                             0.00000                   10.0         10.0   \n",
       "1                             0.00000                   21.3         21.3   \n",
       "2                             0.00000                   30.0         30.0   \n",
       "3                             0.00225                    5.0         10.0   \n",
       "4                             0.00445                   15.0         25.0   \n",
       "\n",
       "   ...  board_6_amount  board_5_amount  board_4_amount  board_3_amount  \\\n",
       "0  ...               0               0               0               0   \n",
       "1  ...               0               0               0               0   \n",
       "2  ...               0               0               0               0   \n",
       "3  ...               0               0               0               0   \n",
       "4  ...               0               0               0               0   \n",
       "\n",
       "   board_2_amount  board_spades_amount  board_hearts_amount  \\\n",
       "0               0                    0                    0   \n",
       "1               0                    0                    0   \n",
       "2               0                    0                    0   \n",
       "3               0                    0                    0   \n",
       "4               0                    0                    0   \n",
       "\n",
       "   board_diamonds_amount  board_clubs_amount  ready_combination  \n",
       "0                      0                   0                AIR  \n",
       "1                      0                   0                AIR  \n",
       "2                      0                   0                AIR  \n",
       "3                      0                   0                AIR  \n",
       "4                      0                   0                AIR  \n",
       "\n",
       "[5 rows x 29 columns]"
      ]
     },
     "execution_count": 9,
     "metadata": {},
     "output_type": "execute_result"
    }
   ],
   "source": [
    "df.head()"
   ]
  },
  {
   "cell_type": "code",
   "execution_count": 10,
   "metadata": {},
   "outputs": [],
   "source": [
    "#Scale data\n",
    "scaler = MinMaxScaler()\n",
    "X_train = scaler.fit_transform(X_train)\n",
    "X_val = scaler.transform(X_val)\n",
    "X_test = scaler.transform(X_test)\n",
    "X_train, y_train = np.array(X_train), np.array(y_train)\n",
    "X_val, y_val = np.array(X_val), np.array(y_val)\n",
    "X_test, y_test = np.array(X_test), np.array(y_test)"
   ]
  },
  {
   "cell_type": "code",
   "execution_count": null,
   "metadata": {},
   "outputs": [],
   "source": []
  },
  {
   "cell_type": "code",
   "execution_count": 11,
   "metadata": {},
   "outputs": [],
   "source": [
    "def get_class_distribution(obj):\n",
    "    count_dict = {\n",
    "        \"FOLD\":0,\n",
    "        \"RAISE\":0,\n",
    "        \"CHECK\":0,\n",
    "        \"BET\":0,\n",
    "        \"CALL\":0,\n",
    "    }\n",
    "\n",
    "    for i in obj:\n",
    "        if i == 0:\n",
    "            count_dict['FOLD'] += 1\n",
    "        elif i == 1:\n",
    "            count_dict['RAISE'] += 1\n",
    "        elif i == 2:\n",
    "            count_dict['CHECK'] += 1\n",
    "        elif i == 3: \n",
    "            count_dict['BET'] += 1\n",
    "        elif i == 4: \n",
    "            count_dict['CALL'] += 1           \n",
    "        else:\n",
    "            print(\"Check classes.\")\n",
    "            \n",
    "    return count_dict"
   ]
  },
  {
   "cell_type": "code",
   "execution_count": 12,
   "metadata": {},
   "outputs": [
    {
     "data": {
      "text/plain": [
       "Text(0.5, 1.0, 'Class Distribution in Test Set')"
      ]
     },
     "execution_count": 12,
     "metadata": {},
     "output_type": "execute_result"
    },
    {
     "data": {
      "image/png": "[encoded data removed]",
      "text/plain": [
       "<Figure size 1800x504 with 3 Axes>"
      ]
     },
     "metadata": {
      "needs_background": "light"
     },
     "output_type": "display_data"
    }
   ],
   "source": [
    "fig, axes = plt.subplots(nrows=1, ncols=3, figsize=(25,7))# Train\n",
    "sns.barplot(data = pd.DataFrame.from_dict([get_class_distribution(y_train)]).melt(), x = \"variable\", y=\"value\", hue=\"variable\",  ax=axes[0]).set_title('Class Distribution in Train Set')# Validation\n",
    "sns.barplot(data = pd.DataFrame.from_dict([get_class_distribution(y_val)]).melt(), x = \"variable\", y=\"value\", hue=\"variable\",  ax=axes[1]).set_title('Class Distribution in Val Set')# Test\n",
    "sns.barplot(data = pd.DataFrame.from_dict([get_class_distribution(y_test)]).melt(), x = \"variable\", y=\"value\", hue=\"variable\",  ax=axes[2]).set_title('Class Distribution in Test Set')"
   ]
  },
  {
   "cell_type": "code",
   "execution_count": 13,
   "metadata": {},
   "outputs": [],
   "source": [
    "class ClassifierDataset(Dataset):\n",
    "    \n",
    "    def __init__(self, X_data, y_data):\n",
    "        self.X_data = X_data\n",
    "        self.y_data = y_data\n",
    "        \n",
    "    def __getitem__(self, index):\n",
    "        return self.X_data[index], self.y_data[index]\n",
    "        \n",
    "    def __len__ (self):\n",
    "        return len(self.X_data)\n",
    "\n",
    "\n",
    "train_dataset = ClassifierDataset(torch.from_numpy(X_train).float(), torch.from_numpy(y_train).long())\n",
    "val_dataset = ClassifierDataset(torch.from_numpy(X_val).float(), torch.from_numpy(y_val).long())\n",
    "test_dataset = ClassifierDataset(torch.from_numpy(X_test).float(), torch.from_numpy(y_test).long())"
   ]
  },
  {
   "cell_type": "code",
   "execution_count": 14,
   "metadata": {},
   "outputs": [
    {
     "name": "stdout",
     "output_type": "stream",
     "text": [
      "<__main__.ClassifierDataset object at 0x7f22745b6160>\n"
     ]
    }
   ],
   "source": [
    "print(train_dataset)"
   ]
  },
  {
   "cell_type": "code",
   "execution_count": 15,
   "metadata": {},
   "outputs": [],
   "source": [
    "target_list = []\n",
    "for _, t in train_dataset:\n",
    "    target_list.append(t)\n",
    "    \n",
    "target_list = torch.tensor(target_list)\n",
    "target_list = target_list[torch.randperm(len(target_list))]"
   ]
  },
  {
   "cell_type": "code",
   "execution_count": 16,
   "metadata": {},
   "outputs": [
    {
     "name": "stdout",
     "output_type": "stream",
     "text": [
      "tensor([0, 1, 0,  ..., 1, 2, 0])\n"
     ]
    }
   ],
   "source": [
    "print(target_list)"
   ]
  },
  {
   "cell_type": "code",
   "execution_count": 17,
   "metadata": {},
   "outputs": [
    {
     "name": "stdout",
     "output_type": "stream",
     "text": [
      "tensor([1.9045e-05, 8.5034e-05, 8.2196e-05, 1.3822e-04, 1.0898e-04])\n"
     ]
    }
   ],
   "source": [
    "class_count = [i for i in get_class_distribution(y_train).values()]\n",
    "class_weights = 1./torch.tensor(class_count, dtype=torch.float)\n",
    "print(class_weights)"
   ]
  },
  {
   "cell_type": "code",
   "execution_count": 18,
   "metadata": {},
   "outputs": [],
   "source": [
    "class_weights_all = class_weights[target_list]"
   ]
  },
  {
   "cell_type": "code",
   "execution_count": 19,
   "metadata": {},
   "outputs": [],
   "source": [
    "weighted_sampler = WeightedRandomSampler(\n",
    "    weights=class_weights_all,\n",
    "    num_samples=len(class_weights_all),\n",
    "    replacement=True\n",
    ")"
   ]
  },
  {
   "cell_type": "code",
   "execution_count": 33,
   "metadata": {},
   "outputs": [],
   "source": [
    "EPOCHS = 300\n",
    "BATCH_SIZE = 16\n",
    "LEARNING_RATE = 0.0007"
   ]
  },
  {
   "cell_type": "code",
   "execution_count": 42,
   "metadata": {},
   "outputs": [],
   "source": [
    "NUM_FEATURES = 27\n",
    "NUM_CLASSES = 5"
   ]
  },
  {
   "cell_type": "code",
   "execution_count": 43,
   "metadata": {},
   "outputs": [],
   "source": [
    "train_loader = DataLoader(dataset=train_dataset,\n",
    "                          batch_size=BATCH_SIZE,\n",
    "                          sampler=weighted_sampler\n",
    ")\n",
    "val_loader = DataLoader(dataset=val_dataset, batch_size=1)\n",
    "test_loader = DataLoader(dataset=test_dataset, batch_size=1)"
   ]
  },
  {
   "cell_type": "code",
   "execution_count": 44,
   "metadata": {},
   "outputs": [],
   "source": [
    "class MulticlassClassification(nn.Module):\n",
    "    \n",
    "    \n",
    "    def __init__(self, num_feature, num_class):\n",
    "        super(MulticlassClassification, self).__init__()\n",
    "        \n",
    "        self.layer_1 = nn.Linear(num_feature, 512)\n",
    "        self.layer_2 = nn.Linear(512, 128)\n",
    "        self.layer_3 = nn.Linear(128, 64)\n",
    "        self.layer_out = nn.Linear(64, num_class) \n",
    "        \n",
    "        self.relu = nn.ReLU()\n",
    "        self.dropout = nn.Dropout(p=0.2)\n",
    "        self.batchnorm1 = nn.BatchNorm1d(512)\n",
    "        self.batchnorm2 = nn.BatchNorm1d(128)\n",
    "        self.batchnorm3 = nn.BatchNorm1d(64)\n",
    "        \n",
    "    def forward(self, x):\n",
    "        x = self.layer_1(x)\n",
    "        x = self.batchnorm1(x)\n",
    "        x = self.relu(x)\n",
    "        \n",
    "        x = self.layer_2(x)\n",
    "        x = self.batchnorm2(x)\n",
    "        x = self.relu(x)\n",
    "        x = self.dropout(x)\n",
    "        \n",
    "        x = self.layer_3(x)\n",
    "        x = self.batchnorm3(x)\n",
    "        x = self.relu(x)\n",
    "        x = self.dropout(x)\n",
    "        \n",
    "        x = self.layer_out(x)\n",
    "        \n",
    "        return x"
   ]
  },
  {
   "cell_type": "code",
   "execution_count": 45,
   "metadata": {},
   "outputs": [
    {
     "name": "stdout",
     "output_type": "stream",
     "text": [
      "cpu\n"
     ]
    }
   ],
   "source": [
    "device = torch.device(\"cuda:0\" if torch.cuda.is_available() else \"cpu\")\n",
    "print(device)"
   ]
  },
  {
   "cell_type": "code",
   "execution_count": 46,
   "metadata": {},
   "outputs": [
    {
     "name": "stdout",
     "output_type": "stream",
     "text": [
      "MulticlassClassification(\n",
      "  (layer_1): Linear(in_features=27, out_features=512, bias=True)\n",
      "  (layer_2): Linear(in_features=512, out_features=128, bias=True)\n",
      "  (layer_3): Linear(in_features=128, out_features=64, bias=True)\n",
      "  (layer_out): Linear(in_features=64, out_features=5, bias=True)\n",
      "  (relu): ReLU()\n",
      "  (dropout): Dropout(p=0.2, inplace=False)\n",
      "  (batchnorm1): BatchNorm1d(512, eps=1e-05, momentum=0.1, affine=True, track_running_stats=True)\n",
      "  (batchnorm2): BatchNorm1d(128, eps=1e-05, momentum=0.1, affine=True, track_running_stats=True)\n",
      "  (batchnorm3): BatchNorm1d(64, eps=1e-05, momentum=0.1, affine=True, track_running_stats=True)\n",
      ")\n"
     ]
    }
   ],
   "source": [
    "model = MulticlassClassification(num_feature = NUM_FEATURES, num_class = NUM_CLASSES)\n",
    "model.to(device)\n",
    "\n",
    "criterion = nn.CrossEntropyLoss(weight=class_weights.to(device))\n",
    "optimizer = optim.Adam(model.parameters(), lr=LEARNING_RATE)\n",
    "print(model)\n"
   ]
  },
  {
   "cell_type": "code",
   "execution_count": 47,
   "metadata": {},
   "outputs": [],
   "source": [
    "def multi_acc(y_pred, y_test):\n",
    "    y_pred_softmax = torch.log_softmax(y_pred, dim = 1)\n",
    "    _, y_pred_tags = torch.max(y_pred_softmax, dim = 1)    \n",
    "    \n",
    "    correct_pred = (y_pred_tags == y_test).float()\n",
    "    acc = correct_pred.sum() / len(correct_pred)\n",
    "    \n",
    "    acc = torch.round(acc) * 100\n",
    "    \n",
    "    return acc"
   ]
  },
  {
   "cell_type": "code",
   "execution_count": 48,
   "metadata": {},
   "outputs": [],
   "source": [
    "accuracy_stats = {\n",
    "    'train': [],\n",
    "    \"val\": []\n",
    "}\n",
    "loss_stats = {\n",
    "    'train': [],\n",
    "    \"val\": []\n",
    "}"
   ]
  },
  {
   "cell_type": "code",
   "execution_count": 49,
   "metadata": {
    "scrolled": true
   },
   "outputs": [
    {
     "name": "stdout",
     "output_type": "stream",
     "text": [
      "Begin training.\n"
     ]
    },
    {
     "data": {
      "application/vnd.jupyter.widget-view+json": {
       "model_id": "98a1227d3ec04fffb23235ccb0d9b797",
       "version_major": 2,
       "version_minor": 0
      },
      "text/plain": [
       "HBox(children=(HTML(value=''), FloatProgress(value=0.0, max=300.0), HTML(value='')))"
      ]
     },
     "metadata": {},
     "output_type": "display_data"
    },
    {
     "name": "stdout",
     "output_type": "stream",
     "text": [
      "Epoch 001: | Train Loss:0.85713 | Val Loss : 0.86336 | Train Acc:65.794| Val Acc:59.093\n",
      "Epoch 002: | Train Loss:0.78737 | Val Loss : 0.77393 | Train Acc:73.496| Val Acc:63.978\n",
      "Epoch 003: | Train Loss:0.77280 | Val Loss : 0.77493 | Train Acc:76.771| Val Acc:63.804\n",
      "Epoch 004: | Train Loss:0.76945 | Val Loss : 0.78559 | Train Acc:78.322| Val Acc:64.667\n",
      "Epoch 005: | Train Loss:0.75679 | Val Loss : 0.78104 | Train Acc:80.407| Val Acc:63.251\n",
      "Epoch 006: | Train Loss:0.75530 | Val Loss : 0.75479 | Train Acc:79.321| Val Acc:65.355\n",
      "Epoch 007: | Train Loss:0.75202 | Val Loss : 0.78330 | Train Acc:79.080| Val Acc:65.229\n",
      "Epoch 008: | Train Loss:0.74576 | Val Loss : 0.77706 | Train Acc:80.028| Val Acc:65.713\n",
      "Epoch 009: | Train Loss:0.74485 | Val Loss : 0.80152 | Train Acc:79.666| Val Acc:64.230\n",
      "Epoch 010: | Train Loss:0.73620 | Val Loss : 0.78659 | Train Acc:82.406| Val Acc:63.086\n",
      "Epoch 011: | Train Loss:0.73912 | Val Loss : 0.79988 | Train Acc:81.527| Val Acc:63.823\n",
      "Epoch 012: | Train Loss:0.73628 | Val Loss : 0.79877 | Train Acc:82.233| Val Acc:62.098\n",
      "Epoch 013: | Train Loss:0.73147 | Val Loss : 0.78988 | Train Acc:82.699| Val Acc:65.229\n",
      "Epoch 014: | Train Loss:0.72928 | Val Loss : 0.78033 | Train Acc:81.613| Val Acc:63.377\n",
      "Epoch 015: | Train Loss:0.72591 | Val Loss : 0.84203 | Train Acc:81.889| Val Acc:59.248\n",
      "Epoch 016: | Train Loss:0.72626 | Val Loss : 0.75510 | Train Acc:83.715| Val Acc:64.628\n",
      "Epoch 017: | Train Loss:0.72249 | Val Loss : 0.76791 | Train Acc:83.440| Val Acc:65.597\n",
      "Epoch 018: | Train Loss:0.72205 | Val Loss : 0.95668 | Train Acc:84.439| Val Acc:57.736\n",
      "Epoch 019: | Train Loss:0.71358 | Val Loss : 0.77449 | Train Acc:82.233| Val Acc:65.558\n",
      "Epoch 020: | Train Loss:0.71318 | Val Loss : 0.91530 | Train Acc:84.491| Val Acc:61.952\n",
      "Epoch 021: | Train Loss:0.71094 | Val Loss : 0.82942 | Train Acc:84.749| Val Acc:64.007\n",
      "Epoch 022: | Train Loss:0.71174 | Val Loss : 0.89645 | Train Acc:84.060| Val Acc:61.632\n",
      "Epoch 023: | Train Loss:0.70786 | Val Loss : 0.78744 | Train Acc:85.938| Val Acc:65.471\n",
      "Epoch 024: | Train Loss:0.70267 | Val Loss : 0.75013 | Train Acc:85.921| Val Acc:65.936\n",
      "Epoch 025: | Train Loss:0.70138 | Val Loss : 0.83981 | Train Acc:86.111| Val Acc:63.726\n",
      "Epoch 026: | Train Loss:0.70161 | Val Loss : 0.87273 | Train Acc:86.042| Val Acc:63.280\n",
      "Epoch 027: | Train Loss:0.70208 | Val Loss : 0.80016 | Train Acc:85.818| Val Acc:65.461\n",
      "Epoch 028: | Train Loss:0.69438 | Val Loss : 0.80785 | Train Acc:85.766| Val Acc:63.232\n",
      "Epoch 029: | Train Loss:0.69661 | Val Loss : 0.92159 | Train Acc:86.352| Val Acc:60.770\n",
      "Epoch 030: | Train Loss:0.69574 | Val Loss : 0.85334 | Train Acc:84.698| Val Acc:63.474\n",
      "Epoch 031: | Train Loss:0.69097 | Val Loss : 0.80942 | Train Acc:87.627| Val Acc:64.957\n",
      "Epoch 032: | Train Loss:0.69141 | Val Loss : 0.82883 | Train Acc:86.180| Val Acc:63.726\n",
      "Epoch 033: | Train Loss:0.68766 | Val Loss : 0.96781 | Train Acc:86.352| Val Acc:56.039\n",
      "Epoch 034: | Train Loss:0.68822 | Val Loss : 0.93150 | Train Acc:85.439| Val Acc:61.322\n",
      "Epoch 035: | Train Loss:0.68813 | Val Loss : 0.81359 | Train Acc:85.663| Val Acc:64.095\n",
      "Epoch 036: | Train Loss:0.68121 | Val Loss : 0.82608 | Train Acc:87.455| Val Acc:60.993\n",
      "Epoch 037: | Train Loss:0.68480 | Val Loss : 0.97137 | Train Acc:87.506| Val Acc:60.285\n",
      "Epoch 038: | Train Loss:0.68440 | Val Loss : 0.76758 | Train Acc:87.386| Val Acc:65.578\n",
      "Epoch 039: | Train Loss:0.67303 | Val Loss : 0.80571 | Train Acc:87.730| Val Acc:64.967\n",
      "Epoch 040: | Train Loss:0.67920 | Val Loss : 0.86225 | Train Acc:87.472| Val Acc:64.104\n",
      "Epoch 041: | Train Loss:0.67193 | Val Loss : 0.78671 | Train Acc:89.368| Val Acc:65.684\n",
      "Epoch 042: | Train Loss:0.67449 | Val Loss : 0.92108 | Train Acc:88.489| Val Acc:61.584\n",
      "Epoch 043: | Train Loss:0.66874 | Val Loss : 0.81043 | Train Acc:87.679| Val Acc:63.765\n",
      "Epoch 044: | Train Loss:0.67046 | Val Loss : 0.85617 | Train Acc:88.851| Val Acc:64.114\n",
      "Epoch 045: | Train Loss:0.66954 | Val Loss : 0.79684 | Train Acc:88.489| Val Acc:66.121\n",
      "Epoch 046: | Train Loss:0.66759 | Val Loss : 0.89386 | Train Acc:88.265| Val Acc:60.876\n",
      "Epoch 047: | Train Loss:0.66623 | Val Loss : 1.00702 | Train Acc:87.851| Val Acc:60.673\n",
      "Epoch 048: | Train Loss:0.66463 | Val Loss : 0.88587 | Train Acc:87.782| Val Acc:62.757\n",
      "Epoch 049: | Train Loss:0.66238 | Val Loss : 0.81638 | Train Acc:88.454| Val Acc:65.316\n",
      "Epoch 050: | Train Loss:0.66278 | Val Loss : 0.84651 | Train Acc:88.471| Val Acc:62.447\n",
      "Epoch 051: | Train Loss:0.66020 | Val Loss : 0.80678 | Train Acc:89.057| Val Acc:65.306\n",
      "Epoch 052: | Train Loss:0.65794 | Val Loss : 0.85216 | Train Acc:88.334| Val Acc:62.059\n",
      "Epoch 053: | Train Loss:0.65613 | Val Loss : 0.79126 | Train Acc:89.712| Val Acc:65.859\n",
      "Epoch 054: | Train Loss:0.65446 | Val Loss : 0.82822 | Train Acc:90.195| Val Acc:62.195\n",
      "Epoch 055: | Train Loss:0.65937 | Val Loss : 0.88038 | Train Acc:88.764| Val Acc:61.691\n",
      "Epoch 056: | Train Loss:0.65497 | Val Loss : 0.81794 | Train Acc:89.454| Val Acc:62.301\n",
      "Epoch 057: | Train Loss:0.65124 | Val Loss : 0.87654 | Train Acc:88.868| Val Acc:59.723\n",
      "Epoch 058: | Train Loss:0.65555 | Val Loss : 0.82109 | Train Acc:89.816| Val Acc:63.552\n",
      "Epoch 059: | Train Loss:0.64840 | Val Loss : 0.79156 | Train Acc:89.436| Val Acc:65.423\n",
      "Epoch 060: | Train Loss:0.65321 | Val Loss : 0.84550 | Train Acc:89.712| Val Acc:61.361\n",
      "Epoch 061: | Train Loss:0.64854 | Val Loss : 0.94728 | Train Acc:89.385| Val Acc:62.864\n",
      "Epoch 062: | Train Loss:0.64733 | Val Loss : 0.87188 | Train Acc:91.056| Val Acc:63.552\n",
      "Epoch 063: | Train Loss:0.64535 | Val Loss : 0.93799 | Train Acc:89.368| Val Acc:59.655\n",
      "Epoch 064: | Train Loss:0.64903 | Val Loss : 1.09796 | Train Acc:91.435| Val Acc:59.636\n",
      "Epoch 065: | Train Loss:0.64224 | Val Loss : 0.85069 | Train Acc:90.126| Val Acc:64.376\n",
      "Epoch 066: | Train Loss:0.64665 | Val Loss : 0.80783 | Train Acc:90.177| Val Acc:65.704\n",
      "Epoch 067: | Train Loss:0.64544 | Val Loss : 0.80677 | Train Acc:89.436| Val Acc:65.888\n",
      "Epoch 068: | Train Loss:0.64471 | Val Loss : 0.83851 | Train Acc:90.677| Val Acc:62.049\n",
      "Epoch 069: | Train Loss:0.64444 | Val Loss : 0.97942 | Train Acc:91.418| Val Acc:59.839\n",
      "Epoch 070: | Train Loss:0.64457 | Val Loss : 1.02550 | Train Acc:89.678| Val Acc:60.934\n",
      "Epoch 071: | Train Loss:0.63534 | Val Loss : 0.98418 | Train Acc:90.729| Val Acc:60.111\n",
      "Epoch 072: | Train Loss:0.63955 | Val Loss : 0.83281 | Train Acc:90.850| Val Acc:63.096\n",
      "Epoch 073: | Train Loss:0.64195 | Val Loss : 0.95942 | Train Acc:90.160| Val Acc:60.450\n",
      "Epoch 074: | Train Loss:0.63314 | Val Loss : 1.30721 | Train Acc:90.608| Val Acc:57.367\n",
      "Epoch 075: | Train Loss:0.63609 | Val Loss : 0.82296 | Train Acc:89.557| Val Acc:65.200\n",
      "\n"
     ]
    },
    {
     "ename": "KeyboardInterrupt",
     "evalue": "",
     "output_type": "error",
     "traceback": [
      "\u001b[0;31m---------------------------------------------------------------------------\u001b[0m",
      "\u001b[0;31mKeyboardInterrupt\u001b[0m                         Traceback (most recent call last)",
      "\u001b[0;32m<ipython-input-49-9170a87bded2>\u001b[0m in \u001b[0;36m<module>\u001b[0;34m\u001b[0m\n\u001b[1;32m     10\u001b[0m         \u001b[0moptimizer\u001b[0m\u001b[0;34m.\u001b[0m\u001b[0mzero_grad\u001b[0m\u001b[0;34m(\u001b[0m\u001b[0;34m)\u001b[0m\u001b[0;34m\u001b[0m\u001b[0;34m\u001b[0m\u001b[0m\n\u001b[1;32m     11\u001b[0m \u001b[0;34m\u001b[0m\u001b[0m\n\u001b[0;32m---> 12\u001b[0;31m         \u001b[0my_train_pred\u001b[0m \u001b[0;34m=\u001b[0m \u001b[0mmodel\u001b[0m\u001b[0;34m(\u001b[0m\u001b[0mX_train_batch\u001b[0m\u001b[0;34m)\u001b[0m\u001b[0;34m\u001b[0m\u001b[0;34m\u001b[0m\u001b[0m\n\u001b[0m\u001b[1;32m     13\u001b[0m \u001b[0;34m\u001b[0m\u001b[0m\n\u001b[1;32m     14\u001b[0m         \u001b[0mtrain_loss\u001b[0m \u001b[0;34m=\u001b[0m \u001b[0mcriterion\u001b[0m\u001b[0;34m(\u001b[0m\u001b[0my_train_pred\u001b[0m\u001b[0;34m,\u001b[0m \u001b[0my_train_batch\u001b[0m\u001b[0;34m)\u001b[0m\u001b[0;34m\u001b[0m\u001b[0;34m\u001b[0m\u001b[0m\n",
      "\u001b[0;32m~/.local/lib/python3.8/site-packages/torch/nn/modules/module.py\u001b[0m in \u001b[0;36m_call_impl\u001b[0;34m(self, *input, **kwargs)\u001b[0m\n\u001b[1;32m    725\u001b[0m             \u001b[0mresult\u001b[0m \u001b[0;34m=\u001b[0m \u001b[0mself\u001b[0m\u001b[0;34m.\u001b[0m\u001b[0m_slow_forward\u001b[0m\u001b[0;34m(\u001b[0m\u001b[0;34m*\u001b[0m\u001b[0minput\u001b[0m\u001b[0;34m,\u001b[0m \u001b[0;34m**\u001b[0m\u001b[0mkwargs\u001b[0m\u001b[0;34m)\u001b[0m\u001b[0;34m\u001b[0m\u001b[0;34m\u001b[0m\u001b[0m\n\u001b[1;32m    726\u001b[0m         \u001b[0;32melse\u001b[0m\u001b[0;34m:\u001b[0m\u001b[0;34m\u001b[0m\u001b[0;34m\u001b[0m\u001b[0m\n\u001b[0;32m--> 727\u001b[0;31m             \u001b[0mresult\u001b[0m \u001b[0;34m=\u001b[0m \u001b[0mself\u001b[0m\u001b[0;34m.\u001b[0m\u001b[0mforward\u001b[0m\u001b[0;34m(\u001b[0m\u001b[0;34m*\u001b[0m\u001b[0minput\u001b[0m\u001b[0;34m,\u001b[0m \u001b[0;34m**\u001b[0m\u001b[0mkwargs\u001b[0m\u001b[0;34m)\u001b[0m\u001b[0;34m\u001b[0m\u001b[0;34m\u001b[0m\u001b[0m\n\u001b[0m\u001b[1;32m    728\u001b[0m         for hook in itertools.chain(\n\u001b[1;32m    729\u001b[0m                 \u001b[0m_global_forward_hooks\u001b[0m\u001b[0;34m.\u001b[0m\u001b[0mvalues\u001b[0m\u001b[0;34m(\u001b[0m\u001b[0;34m)\u001b[0m\u001b[0;34m,\u001b[0m\u001b[0;34m\u001b[0m\u001b[0;34m\u001b[0m\u001b[0m\n",
      "\u001b[0;32m<ipython-input-44-f271533eb803>\u001b[0m in \u001b[0;36mforward\u001b[0;34m(self, x)\u001b[0m\n\u001b[1;32m     27\u001b[0m \u001b[0;34m\u001b[0m\u001b[0m\n\u001b[1;32m     28\u001b[0m         \u001b[0mx\u001b[0m \u001b[0;34m=\u001b[0m \u001b[0mself\u001b[0m\u001b[0;34m.\u001b[0m\u001b[0mlayer_3\u001b[0m\u001b[0;34m(\u001b[0m\u001b[0mx\u001b[0m\u001b[0;34m)\u001b[0m\u001b[0;34m\u001b[0m\u001b[0;34m\u001b[0m\u001b[0m\n\u001b[0;32m---> 29\u001b[0;31m         \u001b[0mx\u001b[0m \u001b[0;34m=\u001b[0m \u001b[0mself\u001b[0m\u001b[0;34m.\u001b[0m\u001b[0mbatchnorm3\u001b[0m\u001b[0;34m(\u001b[0m\u001b[0mx\u001b[0m\u001b[0;34m)\u001b[0m\u001b[0;34m\u001b[0m\u001b[0;34m\u001b[0m\u001b[0m\n\u001b[0m\u001b[1;32m     30\u001b[0m         \u001b[0mx\u001b[0m \u001b[0;34m=\u001b[0m \u001b[0mself\u001b[0m\u001b[0;34m.\u001b[0m\u001b[0mrelu\u001b[0m\u001b[0;34m(\u001b[0m\u001b[0mx\u001b[0m\u001b[0;34m)\u001b[0m\u001b[0;34m\u001b[0m\u001b[0;34m\u001b[0m\u001b[0m\n\u001b[1;32m     31\u001b[0m         \u001b[0mx\u001b[0m \u001b[0;34m=\u001b[0m \u001b[0mself\u001b[0m\u001b[0;34m.\u001b[0m\u001b[0mdropout\u001b[0m\u001b[0;34m(\u001b[0m\u001b[0mx\u001b[0m\u001b[0;34m)\u001b[0m\u001b[0;34m\u001b[0m\u001b[0;34m\u001b[0m\u001b[0m\n",
      "\u001b[0;32m~/.local/lib/python3.8/site-packages/torch/nn/modules/module.py\u001b[0m in \u001b[0;36m_call_impl\u001b[0;34m(self, *input, **kwargs)\u001b[0m\n\u001b[1;32m    725\u001b[0m             \u001b[0mresult\u001b[0m \u001b[0;34m=\u001b[0m \u001b[0mself\u001b[0m\u001b[0;34m.\u001b[0m\u001b[0m_slow_forward\u001b[0m\u001b[0;34m(\u001b[0m\u001b[0;34m*\u001b[0m\u001b[0minput\u001b[0m\u001b[0;34m,\u001b[0m \u001b[0;34m**\u001b[0m\u001b[0mkwargs\u001b[0m\u001b[0;34m)\u001b[0m\u001b[0;34m\u001b[0m\u001b[0;34m\u001b[0m\u001b[0m\n\u001b[1;32m    726\u001b[0m         \u001b[0;32melse\u001b[0m\u001b[0;34m:\u001b[0m\u001b[0;34m\u001b[0m\u001b[0;34m\u001b[0m\u001b[0m\n\u001b[0;32m--> 727\u001b[0;31m             \u001b[0mresult\u001b[0m \u001b[0;34m=\u001b[0m \u001b[0mself\u001b[0m\u001b[0;34m.\u001b[0m\u001b[0mforward\u001b[0m\u001b[0;34m(\u001b[0m\u001b[0;34m*\u001b[0m\u001b[0minput\u001b[0m\u001b[0;34m,\u001b[0m \u001b[0;34m**\u001b[0m\u001b[0mkwargs\u001b[0m\u001b[0;34m)\u001b[0m\u001b[0;34m\u001b[0m\u001b[0;34m\u001b[0m\u001b[0m\n\u001b[0m\u001b[1;32m    728\u001b[0m         for hook in itertools.chain(\n\u001b[1;32m    729\u001b[0m                 \u001b[0m_global_forward_hooks\u001b[0m\u001b[0;34m.\u001b[0m\u001b[0mvalues\u001b[0m\u001b[0;34m(\u001b[0m\u001b[0;34m)\u001b[0m\u001b[0;34m,\u001b[0m\u001b[0;34m\u001b[0m\u001b[0;34m\u001b[0m\u001b[0m\n",
      "\u001b[0;32m~/.local/lib/python3.8/site-packages/torch/nn/modules/batchnorm.py\u001b[0m in \u001b[0;36mforward\u001b[0;34m(self, input)\u001b[0m\n\u001b[1;32m    129\u001b[0m         \u001b[0mused\u001b[0m \u001b[0;32mfor\u001b[0m \u001b[0mnormalization\u001b[0m \u001b[0;34m(\u001b[0m\u001b[0mi\u001b[0m\u001b[0;34m.\u001b[0m\u001b[0me\u001b[0m\u001b[0;34m.\u001b[0m \u001b[0;32min\u001b[0m \u001b[0meval\u001b[0m \u001b[0mmode\u001b[0m \u001b[0mwhen\u001b[0m \u001b[0mbuffers\u001b[0m \u001b[0mare\u001b[0m \u001b[0;32mnot\u001b[0m \u001b[0;32mNone\u001b[0m\u001b[0;34m)\u001b[0m\u001b[0;34m.\u001b[0m\u001b[0;34m\u001b[0m\u001b[0;34m\u001b[0m\u001b[0m\n\u001b[1;32m    130\u001b[0m         \"\"\"\n\u001b[0;32m--> 131\u001b[0;31m         return F.batch_norm(\n\u001b[0m\u001b[1;32m    132\u001b[0m             \u001b[0minput\u001b[0m\u001b[0;34m,\u001b[0m\u001b[0;34m\u001b[0m\u001b[0;34m\u001b[0m\u001b[0m\n\u001b[1;32m    133\u001b[0m             \u001b[0;31m# If buffers are not to be tracked, ensure that they won't be updated\u001b[0m\u001b[0;34m\u001b[0m\u001b[0;34m\u001b[0m\u001b[0;34m\u001b[0m\u001b[0m\n",
      "\u001b[0;32m~/.local/lib/python3.8/site-packages/torch/nn/functional.py\u001b[0m in \u001b[0;36mbatch_norm\u001b[0;34m(input, running_mean, running_var, weight, bias, training, momentum, eps)\u001b[0m\n\u001b[1;32m   2054\u001b[0m         \u001b[0m_verify_batch_size\u001b[0m\u001b[0;34m(\u001b[0m\u001b[0minput\u001b[0m\u001b[0;34m.\u001b[0m\u001b[0msize\u001b[0m\u001b[0;34m(\u001b[0m\u001b[0;34m)\u001b[0m\u001b[0;34m)\u001b[0m\u001b[0;34m\u001b[0m\u001b[0;34m\u001b[0m\u001b[0m\n\u001b[1;32m   2055\u001b[0m \u001b[0;34m\u001b[0m\u001b[0m\n\u001b[0;32m-> 2056\u001b[0;31m     return torch.batch_norm(\n\u001b[0m\u001b[1;32m   2057\u001b[0m         \u001b[0minput\u001b[0m\u001b[0;34m,\u001b[0m \u001b[0mweight\u001b[0m\u001b[0;34m,\u001b[0m \u001b[0mbias\u001b[0m\u001b[0;34m,\u001b[0m \u001b[0mrunning_mean\u001b[0m\u001b[0;34m,\u001b[0m \u001b[0mrunning_var\u001b[0m\u001b[0;34m,\u001b[0m\u001b[0;34m\u001b[0m\u001b[0;34m\u001b[0m\u001b[0m\n\u001b[1;32m   2058\u001b[0m         \u001b[0mtraining\u001b[0m\u001b[0;34m,\u001b[0m \u001b[0mmomentum\u001b[0m\u001b[0;34m,\u001b[0m \u001b[0meps\u001b[0m\u001b[0;34m,\u001b[0m \u001b[0mtorch\u001b[0m\u001b[0;34m.\u001b[0m\u001b[0mbackends\u001b[0m\u001b[0;34m.\u001b[0m\u001b[0mcudnn\u001b[0m\u001b[0;34m.\u001b[0m\u001b[0menabled\u001b[0m\u001b[0;34m\u001b[0m\u001b[0;34m\u001b[0m\u001b[0m\n",
      "\u001b[0;31mKeyboardInterrupt\u001b[0m: "
     ]
    }
   ],
   "source": [
    "print(\"Begin training.\")\n",
    "for e in tqdm(range(1, EPOCHS+1)):\n",
    "    \n",
    "    # TRAINING\n",
    "    train_epoch_loss = 0\n",
    "    train_epoch_acc = 0\n",
    "    model.train()\n",
    "    for X_train_batch, y_train_batch in train_loader:\n",
    "        X_train_batch, y_train_batch = X_train_batch.to(device), y_train_batch.to(device)\n",
    "        optimizer.zero_grad()\n",
    "        \n",
    "        y_train_pred = model(X_train_batch)\n",
    "        \n",
    "        train_loss = criterion(y_train_pred, y_train_batch)\n",
    "        train_acc = multi_acc(y_train_pred, y_train_batch)\n",
    "        \n",
    "        train_loss.backward()\n",
    "        optimizer.step()\n",
    "        \n",
    "        train_epoch_loss += train_loss.item()\n",
    "        train_epoch_acc += train_acc.item()\n",
    "        \n",
    "        \n",
    "    # VALIDATION    \n",
    "    with torch.no_grad():\n",
    "        \n",
    "        val_epoch_loss = 0\n",
    "        val_epoch_acc = 0\n",
    "        \n",
    "        model.eval()\n",
    "        for X_val_batch, y_val_batch in val_loader:\n",
    "            X_val_batch, y_val_batch = X_val_batch.to(device), y_val_batch.to(device)\n",
    "            \n",
    "            y_val_pred = model(X_val_batch)\n",
    "                        \n",
    "            val_loss = criterion(y_val_pred, y_val_batch)\n",
    "            val_acc = multi_acc(y_val_pred, y_val_batch)\n",
    "            \n",
    "            val_epoch_loss += val_loss.item()\n",
    "            val_epoch_acc += val_acc.item()\n",
    "    loss_stats['train'].append(train_epoch_loss/len(train_loader))\n",
    "    loss_stats['val'].append(val_epoch_loss/len(val_loader))\n",
    "    accuracy_stats['train'].append(train_epoch_acc/len(train_loader))\n",
    "    accuracy_stats['val'].append(val_epoch_acc/len(val_loader))\n",
    "                              \n",
    "    \n",
    "    print(f'Epoch {e+0:03}: | Train Loss:{train_epoch_loss/len(train_loader):.5f} | Val Loss : {val_epoch_loss/len(val_loader):.5f} | Train Acc:{train_epoch_acc/len(train_loader):.3f}| Val Acc:{val_epoch_acc/len(val_loader):.3f}')"
   ]
  },
  {
   "cell_type": "code",
   "execution_count": 50,
   "metadata": {},
   "outputs": [
    {
     "data": {
      "text/plain": [
       "Text(0.5, 1.0, 'Train-Val Loss/Epoch')"
      ]
     },
     "execution_count": 50,
     "metadata": {},
     "output_type": "execute_result"
    },
    {
     "data": {
      "image/png": "[encoded data removed]",
      "text/plain": [
       "<Figure size 1440x504 with 2 Axes>"
      ]
     },
     "metadata": {
      "needs_background": "light"
     },
     "output_type": "display_data"
    }
   ],
   "source": [
    "# Create dataframes\n",
    "train_val_acc_df = pd.DataFrame.from_dict(accuracy_stats).reset_index().melt(id_vars=['index']).rename(columns={\"index\":\"epochs\"})\n",
    "train_val_loss_df = pd.DataFrame.from_dict(loss_stats).reset_index().melt(id_vars=['index']).rename(columns={\"index\":\"epochs\"})\n",
    "# Plot the dataframes\n",
    "fig, axes = plt.subplots(nrows=1, ncols=2, figsize=(20,7))\n",
    "sns.lineplot(data=train_val_acc_df, x = \"epochs\", y=\"value\", hue=\"variable\",  ax=axes[0]).set_title('Train-Val Accuracy/Epoch')\n",
    "sns.lineplot(data=train_val_loss_df, x = \"epochs\", y=\"value\", hue=\"variable\", ax=axes[1]).set_title('Train-Val Loss/Epoch')"
   ]
  },
  {
   "cell_type": "code",
   "execution_count": null,
   "metadata": {},
   "outputs": [],
   "source": []
  }
 ],
 "metadata": {
  "kernelspec": {
   "display_name": "Python 3",
   "language": "python",
   "name": "python3"
  },
  "language_info": {
   "codemirror_mode": {
    "name": "ipython",
    "version": 3
   },
   "file_extension": ".py",
   "mimetype": "text/x-python",
   "name": "python",
   "nbconvert_exporter": "python",
   "pygments_lexer": "ipython3",
   "version": "3.8.5"
  }
 },
 "nbformat": 4,
 "nbformat_minor": 4
}
